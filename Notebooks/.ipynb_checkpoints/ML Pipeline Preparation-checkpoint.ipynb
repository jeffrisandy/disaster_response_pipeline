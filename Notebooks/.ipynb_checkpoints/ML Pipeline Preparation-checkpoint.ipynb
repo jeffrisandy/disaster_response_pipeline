{
 "cells": [
  {
   "cell_type": "markdown",
   "metadata": {},
   "source": [
    "# ML Pipeline Preparation\n",
    "Follow the instructions below to help you create your ML pipeline.\n",
    "### 1. Import libraries and load data from database.\n",
    "- Import Python libraries\n",
    "- Load dataset from database with [`read_sql_table`](https://pandas.pydata.org/pandas-docs/stable/generated/pandas.read_sql_table.html)\n",
    "- Define feature and target variables X and Y"
   ]
  },
  {
   "cell_type": "code",
   "execution_count": 1,
   "metadata": {},
   "outputs": [
    {
     "name": "stdout",
     "output_type": "stream",
     "text": [
      "[nltk_data] Downloading package punkt to /Users/jeffsan/nltk_data...\n",
      "[nltk_data]   Package punkt is already up-to-date!\n",
      "[nltk_data] Downloading package wordnet to /Users/jeffsan/nltk_data...\n",
      "[nltk_data]   Package wordnet is already up-to-date!\n",
      "[nltk_data] Downloading package stopwords to\n",
      "[nltk_data]     /Users/jeffsan/nltk_data...\n",
      "[nltk_data]   Package stopwords is already up-to-date!\n"
     ]
    }
   ],
   "source": [
    "# import libraries\n",
    "import pandas as pd\n",
    "import numpy as np\n",
    "import os\n",
    "from sqlalchemy import create_engine\n",
    "\n",
    "# download necessary NLTK data\n",
    "import nltk\n",
    "nltk.download(['punkt', 'wordnet', 'stopwords'])\n",
    "from nltk.tokenize import word_tokenize\n",
    "from nltk.stem import WordNetLemmatizer\n",
    "from nltk.corpus import stopwords \n",
    "import re\n",
    "\n",
    "#sklearn\n",
    "\n",
    "from sklearn.model_selection import train_test_split as tts\n",
    "from sklearn.linear_model import LogisticRegression\n",
    "from sklearn.preprocessing import FunctionTransformer\n",
    "from sklearn.feature_extraction.text import CountVectorizer, TfidfTransformer\n",
    "from sklearn.pipeline import Pipeline,  FeatureUnion\n",
    "from sklearn.metrics import classification_report\n",
    "from sklearn.multiclass import OneVsRestClassifier\n",
    "from sklearn.model_selection import GridSearchCV\n",
    "from sklearn.feature_selection import chi2, SelectKBest\n",
    "from sklearn.decomposition import TruncatedSVD\n",
    "from sklearn.preprocessing import MaxAbsScaler\n",
    "\n",
    "import warnings\n",
    "warnings.filterwarnings('ignore')"
   ]
  },
  {
   "cell_type": "code",
   "execution_count": 3,
   "metadata": {},
   "outputs": [],
   "source": [
    "# load data from database\n",
    "engine = create_engine('sqlite:///DisasterResponse.db')\n",
    "df = pd.read_sql(\"SELECT * FROM messages\", engine)\n",
    "X = df['message'].values\n",
    "Y = df.drop(columns=['id', 'message', 'original','genre'])\n"
   ]
  },
  {
   "cell_type": "markdown",
   "metadata": {},
   "source": [
    "### 2. Write a tokenization function to process your text data"
   ]
  },
  {
   "cell_type": "code",
   "execution_count": 2,
   "metadata": {},
   "outputs": [],
   "source": [
    "def tokenize(text):\n",
    "    #remove punctuation\n",
    "    text = re.sub(r\"[^a-zA-Z0-9]\", \" \", text)\n",
    "    \n",
    "    #tokenize text\n",
    "    tokens = word_tokenize(text)\n",
    "    \n",
    "    # initiate lemmatizer\n",
    "    lemmatizer = WordNetLemmatizer()\n",
    "    \n",
    "    #iterate for each tokens\n",
    "    clean_tokens = []\n",
    "    for tok in tokens:\n",
    "        \n",
    "        if tok not in stopwords.words('english'):\n",
    "            # lemmatize, normalize case, and remove leading/trailing white space\n",
    "            clean_tok = lemmatizer.lemmatize(tok).lower().strip()\n",
    "\n",
    "            clean_tokens.append(clean_tok)\n",
    "    \n",
    "    return clean_tokens\n",
    "    "
   ]
  },
  {
   "cell_type": "markdown",
   "metadata": {},
   "source": [
    "### 3. Build a machine learning pipeline\n",
    "- You'll find the [MultiOutputClassifier](http://scikit-learn.org/stable/modules/generated/sklearn.multioutput.MultiOutputClassifier.html) helpful for predicting multiple target variables."
   ]
  },
  {
   "cell_type": "code",
   "execution_count": 5,
   "metadata": {},
   "outputs": [],
   "source": [
    "\"\"\" LogisticRegression \"\"\"\n",
    "msg_pipeline = Pipeline([\n",
    "    ('vect', CountVectorizer(tokenizer=tokenize)),\n",
    "    ('tfidf', TfidfTransformer()),\n",
    "])\n",
    "\n",
    "\n",
    "pipeline = Pipeline([\n",
    "    ('features', msg_pipeline),\n",
    "    ('scaler', MaxAbsScaler()),\n",
    "    ('clf', OneVsRestClassifier(LogisticRegression(random_state=42), n_jobs=-1))\n",
    "])"
   ]
  },
  {
   "cell_type": "markdown",
   "metadata": {},
   "source": [
    "### 4. Train pipeline\n",
    "- Split data into train and test sets\n",
    "- Train pipeline"
   ]
  },
  {
   "cell_type": "code",
   "execution_count": 4,
   "metadata": {},
   "outputs": [],
   "source": [
    "#split data\n",
    "X_train, X_test, y_train, y_test = tts(X,Y,test_size=0.33, random_state= 42)\n",
    "\n"
   ]
  },
  {
   "cell_type": "code",
   "execution_count": 7,
   "metadata": {},
   "outputs": [
    {
     "name": "stdout",
     "output_type": "stream",
     "text": [
      "CPU times: user 2min 17s, sys: 19.3 s, total: 2min 37s\n",
      "Wall time: 2min 44s\n"
     ]
    },
    {
     "data": {
      "text/plain": [
       "Pipeline(memory=None,\n",
       "     steps=[('features', Pipeline(memory=None,\n",
       "     steps=[('vect', CountVectorizer(analyzer='word', binary=False, decode_error='strict',\n",
       "        dtype=<class 'numpy.int64'>, encoding='utf-8', input='content',\n",
       "        lowercase=True, max_df=1.0, max_features=None, min_df=1,\n",
       "        ngram_range=(1, 1), pr...e=42, solver='liblinear', tol=0.0001,\n",
       "          verbose=0, warm_start=False),\n",
       "          n_jobs=-1))])"
      ]
     },
     "execution_count": 7,
     "metadata": {},
     "output_type": "execute_result"
    }
   ],
   "source": [
    "%%time\n",
    "#train pipeline\n",
    "pipeline.fit(X_train, y_train)"
   ]
  },
  {
   "cell_type": "markdown",
   "metadata": {},
   "source": [
    "### 5. Test your model\n",
    "Report the f1 score, precision and recall on both the training set and the test set. You can use sklearn's `classification_report` function here. "
   ]
  },
  {
   "cell_type": "code",
   "execution_count": 7,
   "metadata": {},
   "outputs": [],
   "source": [
    "def show_report(model, X,y):\n",
    "    \"\"\" Print out classification report \"\"\"\n",
    "    y_pred = model.predict(X)\n",
    "    labels = y.columns.tolist()\n",
    "    class_report = classification_report(y, y_pred, target_names=labels)\n",
    "    accuracy = (y_pred == y).mean().mean()\n",
    "    print(\"\\nClassification report:\\n\", class_report)\n",
    " "
   ]
  },
  {
   "cell_type": "code",
   "execution_count": 9,
   "metadata": {
    "scrolled": true
   },
   "outputs": [
    {
     "name": "stdout",
     "output_type": "stream",
     "text": [
      "\n",
      "Classification report:\n",
      "                         precision    recall  f1-score   support\n",
      "\n",
      "               related       0.95      0.98      0.96     13334\n",
      "               request       0.91      0.71      0.80      2980\n",
      "                 offer       0.00      0.00      0.00        82\n",
      "           aid_related       0.92      0.88      0.90      7277\n",
      "          medical_help       0.95      0.53      0.68      1391\n",
      "      medical_products       0.96      0.52      0.67       906\n",
      "     search_and_rescue       0.99      0.32      0.49       499\n",
      "              security       1.00      0.15      0.26       324\n",
      "              military       0.98      0.69      0.81       593\n",
      "           child_alone       0.00      0.00      0.00         0\n",
      "                 water       0.94      0.80      0.86      1155\n",
      "                  food       0.93      0.83      0.88      1949\n",
      "               shelter       0.93      0.70      0.80      1510\n",
      "              clothing       0.93      0.54      0.69       283\n",
      "                 money       0.97      0.41      0.58       382\n",
      "        missing_people       0.98      0.23      0.38       194\n",
      "              refugees       0.98      0.46      0.63       580\n",
      "                 death       0.98      0.65      0.78       804\n",
      "             other_aid       0.94      0.45      0.61      2284\n",
      "infrastructure_related       0.98      0.37      0.54      1129\n",
      "             transport       0.97      0.43      0.59       801\n",
      "             buildings       0.96      0.58      0.72       863\n",
      "           electricity       0.99      0.53      0.69       359\n",
      "                 tools       1.00      0.02      0.04       101\n",
      "             hospitals       1.00      0.18      0.31       197\n",
      "                 shops       1.00      0.06      0.12        81\n",
      "           aid_centers       1.00      0.14      0.24       180\n",
      "  other_infrastructure       0.98      0.31      0.47       773\n",
      "       weather_related       0.96      0.86      0.91      4856\n",
      "                floods       0.97      0.70      0.81      1448\n",
      "                 storm       0.95      0.79      0.86      1603\n",
      "                  fire       0.99      0.46      0.63       195\n",
      "            earthquake       0.96      0.83      0.89      1638\n",
      "                  cold       0.96      0.52      0.67       357\n",
      "         other_weather       0.97      0.38      0.54       901\n",
      "         direct_report       0.91      0.68      0.78      3391\n",
      "\n",
      "           avg / total       0.94      0.75      0.82     55400\n",
      "\n"
     ]
    }
   ],
   "source": [
    "\"\"\" LogReg on Train  \"\"\"\n",
    "show_report(pipeline, X_train, y_train)"
   ]
  },
  {
   "cell_type": "code",
   "execution_count": 10,
   "metadata": {
    "scrolled": true
   },
   "outputs": [
    {
     "name": "stdout",
     "output_type": "stream",
     "text": [
      "\n",
      "Classification report:\n",
      "                         precision    recall  f1-score   support\n",
      "\n",
      "               related       0.85      0.93      0.89      6542\n",
      "               request       0.81      0.55      0.65      1484\n",
      "                 offer       0.00      0.00      0.00        36\n",
      "           aid_related       0.74      0.69      0.71      3564\n",
      "          medical_help       0.61      0.21      0.31       690\n",
      "      medical_products       0.68      0.23      0.35       405\n",
      "     search_and_rescue       0.67      0.12      0.21       225\n",
      "              security       0.00      0.00      0.00       147\n",
      "              military       0.58      0.24      0.34       266\n",
      "           child_alone       0.00      0.00      0.00         0\n",
      "                 water       0.77      0.49      0.60       514\n",
      "                  food       0.84      0.58      0.69       968\n",
      "               shelter       0.83      0.46      0.59       798\n",
      "              clothing       0.80      0.26      0.40       121\n",
      "                 money       0.62      0.13      0.22       221\n",
      "        missing_people       0.57      0.04      0.07       104\n",
      "              refugees       0.62      0.13      0.21       294\n",
      "                 death       0.83      0.31      0.46       388\n",
      "             other_aid       0.54      0.16      0.25      1157\n",
      "infrastructure_related       0.39      0.05      0.09       576\n",
      "             transport       0.72      0.17      0.28       398\n",
      "             buildings       0.78      0.23      0.36       468\n",
      "           electricity       0.61      0.19      0.29       173\n",
      "                 tools       0.00      0.00      0.00        58\n",
      "             hospitals       0.20      0.01      0.02        86\n",
      "                 shops       0.00      0.00      0.00        39\n",
      "           aid_centers       0.00      0.00      0.00       129\n",
      "  other_infrastructure       0.30      0.03      0.06       378\n",
      "       weather_related       0.84      0.68      0.75      2430\n",
      "                floods       0.90      0.49      0.63       701\n",
      "                 storm       0.75      0.49      0.59       837\n",
      "                  fire       0.73      0.13      0.22        87\n",
      "            earthquake       0.91      0.62      0.74       814\n",
      "                  cold       0.77      0.25      0.38       171\n",
      "         other_weather       0.59      0.09      0.16       475\n",
      "         direct_report       0.70      0.46      0.56      1673\n",
      "\n",
      "           avg / total       0.75      0.56      0.61     27417\n",
      "\n"
     ]
    }
   ],
   "source": [
    "\"\"\" LogReg on Test  \"\"\"\n",
    "show_report(pipeline, X_test, y_test)"
   ]
  },
  {
   "cell_type": "markdown",
   "metadata": {},
   "source": [
    "### 6. Improve your model\n",
    "Use grid search to find better parameters. "
   ]
  },
  {
   "cell_type": "code",
   "execution_count": 41,
   "metadata": {
    "scrolled": true
   },
   "outputs": [
    {
     "name": "stdout",
     "output_type": "stream",
     "text": [
      "Fitting 3 folds for each of 40 candidates, totalling 120 fits\n",
      "[CV] clf__estimator__C=1, features__msg_pipeline__vect__max_features=None, features__msg_pipeline__vect__ngram_range=(1, 1) \n",
      "[CV] clf__estimator__C=1, features__msg_pipeline__vect__max_features=None, features__msg_pipeline__vect__ngram_range=(1, 1) \n",
      "[CV] clf__estimator__C=1, features__msg_pipeline__vect__max_features=None, features__msg_pipeline__vect__ngram_range=(1, 1) \n",
      "[CV] clf__estimator__C=1, features__msg_pipeline__vect__max_features=None, features__msg_pipeline__vect__ngram_range=(1, 2) \n",
      "[CV] clf__estimator__C=1, features__msg_pipeline__vect__max_features=None, features__msg_pipeline__vect__ngram_range=(1, 2) \n",
      "[CV] clf__estimator__C=1, features__msg_pipeline__vect__max_features=1000, features__msg_pipeline__vect__ngram_range=(1, 1) \n",
      "[CV] clf__estimator__C=1, features__msg_pipeline__vect__max_features=None, features__msg_pipeline__vect__ngram_range=(1, 2) \n",
      "[CV]  clf__estimator__C=1, features__msg_pipeline__vect__max_features=None, features__msg_pipeline__vect__ngram_range=(1, 2), score=0.6617959863127716, total= 1.1min\n",
      "[CV] clf__estimator__C=1, features__msg_pipeline__vect__max_features=1000, features__msg_pipeline__vect__ngram_range=(1, 1) \n",
      "[CV]  clf__estimator__C=1, features__msg_pipeline__vect__max_features=1000, features__msg_pipeline__vect__ngram_range=(1, 1), score=0.6482099319902477, total= 1.2min\n",
      "[CV] clf__estimator__C=1, features__msg_pipeline__vect__max_features=1000, features__msg_pipeline__vect__ngram_range=(1, 1) \n",
      "[CV]  clf__estimator__C=1, features__msg_pipeline__vect__max_features=None, features__msg_pipeline__vect__ngram_range=(1, 1), score=0.6589716684155299, total= 1.3min\n",
      "[CV] clf__estimator__C=1, features__msg_pipeline__vect__max_features=1000, features__msg_pipeline__vect__ngram_range=(1, 2) \n",
      "[CV]  clf__estimator__C=1, features__msg_pipeline__vect__max_features=None, features__msg_pipeline__vect__ngram_range=(1, 1), score=0.6537909934028109, total= 1.3min\n",
      "[CV] clf__estimator__C=1, features__msg_pipeline__vect__max_features=1000, features__msg_pipeline__vect__ngram_range=(1, 2) \n"
     ]
    },
    {
     "name": "stderr",
     "output_type": "stream",
     "text": [
      "[Parallel(n_jobs=7)]: Done   4 tasks      | elapsed:  2.0min\n"
     ]
    },
    {
     "name": "stdout",
     "output_type": "stream",
     "text": [
      "[CV]  clf__estimator__C=1, features__msg_pipeline__vect__max_features=None, features__msg_pipeline__vect__ngram_range=(1, 1), score=0.6471824259789876, total= 1.3min\n",
      "[CV] clf__estimator__C=1, features__msg_pipeline__vect__max_features=1000, features__msg_pipeline__vect__ngram_range=(1, 2) \n",
      "[CV]  clf__estimator__C=1, features__msg_pipeline__vect__max_features=None, features__msg_pipeline__vect__ngram_range=(1, 2), score=0.6610179974024367, total= 1.4min\n",
      "[CV] clf__estimator__C=1, features__msg_pipeline__vect__max_features=5000, features__msg_pipeline__vect__ngram_range=(1, 1) \n",
      "[CV]  clf__estimator__C=1, features__msg_pipeline__vect__max_features=None, features__msg_pipeline__vect__ngram_range=(1, 2), score=0.6715278850610227, total= 1.4min\n",
      "[CV] clf__estimator__C=1, features__msg_pipeline__vect__max_features=5000, features__msg_pipeline__vect__ngram_range=(1, 1) \n",
      "[CV]  clf__estimator__C=1, features__msg_pipeline__vect__max_features=1000, features__msg_pipeline__vect__ngram_range=(1, 1), score=0.6566702137951049, total=  58.2s\n",
      "[CV] clf__estimator__C=1, features__msg_pipeline__vect__max_features=5000, features__msg_pipeline__vect__ngram_range=(1, 1) \n",
      "[CV]  clf__estimator__C=1, features__msg_pipeline__vect__max_features=5000, features__msg_pipeline__vect__ngram_range=(1, 1), score=0.6446963873943121, total=  52.9s\n",
      "[CV] clf__estimator__C=1, features__msg_pipeline__vect__max_features=5000, features__msg_pipeline__vect__ngram_range=(1, 2) \n",
      "[CV]  clf__estimator__C=1, features__msg_pipeline__vect__max_features=1000, features__msg_pipeline__vect__ngram_range=(1, 1), score=0.6568128739162427, total= 1.1min\n",
      "[CV] clf__estimator__C=1, features__msg_pipeline__vect__max_features=5000, features__msg_pipeline__vect__ngram_range=(1, 2) \n",
      "[CV]  clf__estimator__C=1, features__msg_pipeline__vect__max_features=1000, features__msg_pipeline__vect__ngram_range=(1, 2), score=0.6568291895382629, total= 1.0min\n",
      "[CV] clf__estimator__C=1, features__msg_pipeline__vect__max_features=5000, features__msg_pipeline__vect__ngram_range=(1, 2) \n"
     ]
    },
    {
     "name": "stderr",
     "output_type": "stream",
     "text": [
      "[Parallel(n_jobs=7)]: Done  11 tasks      | elapsed:  3.7min\n"
     ]
    },
    {
     "name": "stdout",
     "output_type": "stream",
     "text": [
      "[CV]  clf__estimator__C=1, features__msg_pipeline__vect__max_features=1000, features__msg_pipeline__vect__ngram_range=(1, 2), score=0.6560517716409303, total= 1.1min\n",
      "[CV] clf__estimator__C=1, features__msg_pipeline__vect__max_features=10000, features__msg_pipeline__vect__ngram_range=(1, 1) \n",
      "[CV]  clf__estimator__C=1, features__msg_pipeline__vect__max_features=1000, features__msg_pipeline__vect__ngram_range=(1, 2), score=0.6504686095776094, total= 1.1min\n",
      "[CV] clf__estimator__C=1, features__msg_pipeline__vect__max_features=10000, features__msg_pipeline__vect__ngram_range=(1, 1) \n",
      "[CV]  clf__estimator__C=1, features__msg_pipeline__vect__max_features=5000, features__msg_pipeline__vect__ngram_range=(1, 1), score=0.6566134185303514, total= 1.1min\n",
      "[CV] clf__estimator__C=1, features__msg_pipeline__vect__max_features=10000, features__msg_pipeline__vect__ngram_range=(1, 1) \n",
      "[CV]  clf__estimator__C=1, features__msg_pipeline__vect__max_features=5000, features__msg_pipeline__vect__ngram_range=(1, 1), score=0.6532804706484205, total= 1.3min\n",
      "[CV] clf__estimator__C=1, features__msg_pipeline__vect__max_features=10000, features__msg_pipeline__vect__ngram_range=(1, 2) \n",
      "[CV]  clf__estimator__C=1, features__msg_pipeline__vect__max_features=5000, features__msg_pipeline__vect__ngram_range=(1, 2), score=0.6475917065390749, total= 1.4min\n",
      "[CV] clf__estimator__C=1, features__msg_pipeline__vect__max_features=10000, features__msg_pipeline__vect__ngram_range=(1, 2) \n",
      "[CV]  clf__estimator__C=1, features__msg_pipeline__vect__max_features=5000, features__msg_pipeline__vect__ngram_range=(1, 2), score=0.6555875760486711, total= 1.4min\n",
      "[CV] clf__estimator__C=1, features__msg_pipeline__vect__max_features=10000, features__msg_pipeline__vect__ngram_range=(1, 2) \n",
      "[CV]  clf__estimator__C=1, features__msg_pipeline__vect__max_features=10000, features__msg_pipeline__vect__ngram_range=(1, 1), score=0.654995048081531, total= 1.4min\n",
      "[CV] clf__estimator__C=3, features__msg_pipeline__vect__max_features=None, features__msg_pipeline__vect__ngram_range=(1, 1) \n"
     ]
    },
    {
     "name": "stderr",
     "output_type": "stream",
     "text": [
      "[Parallel(n_jobs=7)]: Done  18 tasks      | elapsed:  5.7min\n"
     ]
    },
    {
     "name": "stdout",
     "output_type": "stream",
     "text": [
      "[CV]  clf__estimator__C=1, features__msg_pipeline__vect__max_features=5000, features__msg_pipeline__vect__ngram_range=(1, 2), score=0.6533928002548582, total= 1.4min\n",
      "[CV] clf__estimator__C=3, features__msg_pipeline__vect__max_features=None, features__msg_pipeline__vect__ngram_range=(1, 1) \n",
      "[CV]  clf__estimator__C=1, features__msg_pipeline__vect__max_features=10000, features__msg_pipeline__vect__ngram_range=(1, 1), score=0.6450354836647274, total= 1.4min\n",
      "[CV] clf__estimator__C=3, features__msg_pipeline__vect__max_features=None, features__msg_pipeline__vect__ngram_range=(1, 1) \n",
      "[CV]  clf__estimator__C=1, features__msg_pipeline__vect__max_features=10000, features__msg_pipeline__vect__ngram_range=(1, 1), score=0.65230179028133, total= 1.4min\n",
      "[CV] clf__estimator__C=3, features__msg_pipeline__vect__max_features=None, features__msg_pipeline__vect__ngram_range=(1, 2) \n",
      "[CV]  clf__estimator__C=1, features__msg_pipeline__vect__max_features=10000, features__msg_pipeline__vect__ngram_range=(1, 2), score=0.647674825731292, total= 1.2min\n",
      "[CV] clf__estimator__C=3, features__msg_pipeline__vect__max_features=None, features__msg_pipeline__vect__ngram_range=(1, 2) \n",
      "[CV]  clf__estimator__C=1, features__msg_pipeline__vect__max_features=10000, features__msg_pipeline__vect__ngram_range=(1, 2), score=0.6538485984872561, total= 1.1min\n",
      "[CV] clf__estimator__C=3, features__msg_pipeline__vect__max_features=None, features__msg_pipeline__vect__ngram_range=(1, 2) \n",
      "[CV]  clf__estimator__C=1, features__msg_pipeline__vect__max_features=10000, features__msg_pipeline__vect__ngram_range=(1, 2), score=0.6545826540072248, total= 1.2min\n",
      "[CV] clf__estimator__C=3, features__msg_pipeline__vect__max_features=1000, features__msg_pipeline__vect__ngram_range=(1, 1) \n",
      "[CV]  clf__estimator__C=3, features__msg_pipeline__vect__max_features=None, features__msg_pipeline__vect__ngram_range=(1, 1), score=0.6445300366527925, total= 1.2min\n",
      "[CV] clf__estimator__C=3, features__msg_pipeline__vect__max_features=1000, features__msg_pipeline__vect__ngram_range=(1, 1) \n",
      "[CV]  clf__estimator__C=3, features__msg_pipeline__vect__max_features=None, features__msg_pipeline__vect__ngram_range=(1, 1), score=0.6566431611319934, total= 1.3min\n",
      "[CV] clf__estimator__C=3, features__msg_pipeline__vect__max_features=1000, features__msg_pipeline__vect__ngram_range=(1, 1) \n",
      "[CV]  clf__estimator__C=3, features__msg_pipeline__vect__max_features=None, features__msg_pipeline__vect__ngram_range=(1, 1), score=0.6532919254658385, total= 1.2min\n",
      "[CV] clf__estimator__C=3, features__msg_pipeline__vect__max_features=1000, features__msg_pipeline__vect__ngram_range=(1, 2) \n"
     ]
    },
    {
     "name": "stderr",
     "output_type": "stream",
     "text": [
      "[Parallel(n_jobs=7)]: Done  27 tasks      | elapsed:  7.8min\n"
     ]
    },
    {
     "name": "stdout",
     "output_type": "stream",
     "text": [
      "[CV]  clf__estimator__C=3, features__msg_pipeline__vect__max_features=None, features__msg_pipeline__vect__ngram_range=(1, 2), score=0.6634961282848606, total= 1.4min\n",
      "[CV] clf__estimator__C=3, features__msg_pipeline__vect__max_features=1000, features__msg_pipeline__vect__ngram_range=(1, 2) \n",
      "[CV]  clf__estimator__C=3, features__msg_pipeline__vect__max_features=1000, features__msg_pipeline__vect__ngram_range=(1, 1), score=0.6618397028269218, total= 1.1min\n",
      "[CV] clf__estimator__C=3, features__msg_pipeline__vect__max_features=1000, features__msg_pipeline__vect__ngram_range=(1, 2) \n",
      "[CV]  clf__estimator__C=3, features__msg_pipeline__vect__max_features=None, features__msg_pipeline__vect__ngram_range=(1, 2), score=0.6635100045822515, total= 1.3min\n",
      "[CV] clf__estimator__C=3, features__msg_pipeline__vect__max_features=5000, features__msg_pipeline__vect__ngram_range=(1, 1) \n",
      "[CV]  clf__estimator__C=3, features__msg_pipeline__vect__max_features=1000, features__msg_pipeline__vect__ngram_range=(1, 1), score=0.6560469765117442, total= 1.2min\n",
      "[CV] clf__estimator__C=3, features__msg_pipeline__vect__max_features=5000, features__msg_pipeline__vect__ngram_range=(1, 1) \n",
      "[CV]  clf__estimator__C=3, features__msg_pipeline__vect__max_features=None, features__msg_pipeline__vect__ngram_range=(1, 2), score=0.6734700113049589, total= 1.4min\n",
      "[CV] clf__estimator__C=3, features__msg_pipeline__vect__max_features=5000, features__msg_pipeline__vect__ngram_range=(1, 1) \n",
      "[CV]  clf__estimator__C=3, features__msg_pipeline__vect__max_features=1000, features__msg_pipeline__vect__ngram_range=(1, 1), score=0.6643201993458963, total= 1.1min\n",
      "[CV] clf__estimator__C=3, features__msg_pipeline__vect__max_features=5000, features__msg_pipeline__vect__ngram_range=(1, 2) \n",
      "[CV]  clf__estimator__C=3, features__msg_pipeline__vect__max_features=1000, features__msg_pipeline__vect__ngram_range=(1, 2), score=0.6590646380705426, total= 1.1min\n",
      "[CV] clf__estimator__C=3, features__msg_pipeline__vect__max_features=5000, features__msg_pipeline__vect__ngram_range=(1, 2) \n",
      "[CV]  clf__estimator__C=3, features__msg_pipeline__vect__max_features=1000, features__msg_pipeline__vect__ngram_range=(1, 2), score=0.6630790533736153, total= 1.2min\n",
      "[CV] clf__estimator__C=3, features__msg_pipeline__vect__max_features=5000, features__msg_pipeline__vect__ngram_range=(1, 2) \n",
      "[CV]  clf__estimator__C=3, features__msg_pipeline__vect__max_features=5000, features__msg_pipeline__vect__ngram_range=(1, 2), score=0.6443998146145529, total= 1.1min\n",
      "[CV] clf__estimator__C=3, features__msg_pipeline__vect__max_features=10000, features__msg_pipeline__vect__ngram_range=(1, 1) \n"
     ]
    },
    {
     "name": "stderr",
     "output_type": "stream",
     "text": [
      "[Parallel(n_jobs=7)]: Done  36 tasks      | elapsed: 11.2min\n"
     ]
    },
    {
     "name": "stdout",
     "output_type": "stream",
     "text": [
      "[CV]  clf__estimator__C=3, features__msg_pipeline__vect__max_features=1000, features__msg_pipeline__vect__ngram_range=(1, 2), score=0.664794533370776, total= 1.1min\n",
      "[CV]  clf__estimator__C=3, features__msg_pipeline__vect__max_features=5000, features__msg_pipeline__vect__ngram_range=(1, 1), score=0.6507715619878158, total= 1.1min\n",
      "[CV] clf__estimator__C=3, features__msg_pipeline__vect__max_features=10000, features__msg_pipeline__vect__ngram_range=(1, 1) \n",
      "[CV] clf__estimator__C=3, features__msg_pipeline__vect__max_features=10000, features__msg_pipeline__vect__ngram_range=(1, 1) \n",
      "[CV]  clf__estimator__C=3, features__msg_pipeline__vect__max_features=5000, features__msg_pipeline__vect__ngram_range=(1, 1), score=0.6435235408982426, total= 1.1min\n",
      "[CV] clf__estimator__C=3, features__msg_pipeline__vect__max_features=10000, features__msg_pipeline__vect__ngram_range=(1, 2) \n",
      "[CV]  clf__estimator__C=3, features__msg_pipeline__vect__max_features=5000, features__msg_pipeline__vect__ngram_range=(1, 1), score=0.6535623488559558, total= 1.1min\n",
      "[CV] clf__estimator__C=3, features__msg_pipeline__vect__max_features=10000, features__msg_pipeline__vect__ngram_range=(1, 2) \n",
      "[CV]  clf__estimator__C=3, features__msg_pipeline__vect__max_features=5000, features__msg_pipeline__vect__ngram_range=(1, 2), score=0.6513994910941475, total= 1.1min\n",
      "[CV] clf__estimator__C=3, features__msg_pipeline__vect__max_features=10000, features__msg_pipeline__vect__ngram_range=(1, 2) \n",
      "[CV]  clf__estimator__C=3, features__msg_pipeline__vect__max_features=5000, features__msg_pipeline__vect__ngram_range=(1, 2), score=0.6515725595293103, total= 1.2min\n",
      "[CV] clf__estimator__C=5, features__msg_pipeline__vect__max_features=None, features__msg_pipeline__vect__ngram_range=(1, 1) \n",
      "[CV]  clf__estimator__C=3, features__msg_pipeline__vect__max_features=10000, features__msg_pipeline__vect__ngram_range=(1, 1), score=0.6530180460485377, total= 1.2min\n",
      "[CV] clf__estimator__C=5, features__msg_pipeline__vect__max_features=None, features__msg_pipeline__vect__ngram_range=(1, 1) \n",
      "[CV]  clf__estimator__C=3, features__msg_pipeline__vect__max_features=10000, features__msg_pipeline__vect__ngram_range=(1, 1), score=0.6433166547533953, total= 1.1min\n",
      "[CV] clf__estimator__C=5, features__msg_pipeline__vect__max_features=None, features__msg_pipeline__vect__ngram_range=(1, 1) \n",
      "[CV]  clf__estimator__C=3, features__msg_pipeline__vect__max_features=10000, features__msg_pipeline__vect__ngram_range=(1, 1), score=0.6489930382894082, total= 1.2min\n",
      "[CV] clf__estimator__C=5, features__msg_pipeline__vect__max_features=None, features__msg_pipeline__vect__ngram_range=(1, 2) \n",
      "[CV]  clf__estimator__C=3, features__msg_pipeline__vect__max_features=10000, features__msg_pipeline__vect__ngram_range=(1, 2), score=0.6516972576788099, total= 1.2min\n",
      "[CV] clf__estimator__C=5, features__msg_pipeline__vect__max_features=None, features__msg_pipeline__vect__ngram_range=(1, 2) \n",
      "[CV]  clf__estimator__C=3, features__msg_pipeline__vect__max_features=10000, features__msg_pipeline__vect__ngram_range=(1, 2), score=0.6452172297401914, total= 1.3min\n",
      "[CV] clf__estimator__C=5, features__msg_pipeline__vect__max_features=None, features__msg_pipeline__vect__ngram_range=(1, 2) \n"
     ]
    },
    {
     "name": "stderr",
     "output_type": "stream",
     "text": [
      "[Parallel(n_jobs=7)]: Done  47 tasks      | elapsed: 13.3min\n"
     ]
    },
    {
     "name": "stdout",
     "output_type": "stream",
     "text": [
      "[CV]  clf__estimator__C=3, features__msg_pipeline__vect__max_features=10000, features__msg_pipeline__vect__ngram_range=(1, 2), score=0.6500724838839025, total= 1.3min\n",
      "[CV] clf__estimator__C=5, features__msg_pipeline__vect__max_features=1000, features__msg_pipeline__vect__ngram_range=(1, 1) \n",
      "[CV]  clf__estimator__C=5, features__msg_pipeline__vect__max_features=None, features__msg_pipeline__vect__ngram_range=(1, 1), score=0.6407934454506253, total= 1.3min\n",
      "[CV] clf__estimator__C=5, features__msg_pipeline__vect__max_features=1000, features__msg_pipeline__vect__ngram_range=(1, 1) \n",
      "[CV]  clf__estimator__C=5, features__msg_pipeline__vect__max_features=None, features__msg_pipeline__vect__ngram_range=(1, 1), score=0.652385349338258, total= 1.3min\n",
      "[CV] clf__estimator__C=5, features__msg_pipeline__vect__max_features=1000, features__msg_pipeline__vect__ngram_range=(1, 1) \n",
      "[CV]  clf__estimator__C=5, features__msg_pipeline__vect__max_features=None, features__msg_pipeline__vect__ngram_range=(1, 1), score=0.6483157829915634, total= 1.4min\n",
      "[CV] clf__estimator__C=5, features__msg_pipeline__vect__max_features=1000, features__msg_pipeline__vect__ngram_range=(1, 2) \n",
      "[CV]  clf__estimator__C=5, features__msg_pipeline__vect__max_features=None, features__msg_pipeline__vect__ngram_range=(1, 2), score=0.6632036210091437, total= 1.4min\n",
      "[CV] clf__estimator__C=5, features__msg_pipeline__vect__max_features=1000, features__msg_pipeline__vect__ngram_range=(1, 2) \n",
      "[CV]  clf__estimator__C=5, features__msg_pipeline__vect__max_features=None, features__msg_pipeline__vect__ngram_range=(1, 2), score=0.6729171105902408, total= 1.3min\n",
      "[CV] clf__estimator__C=5, features__msg_pipeline__vect__max_features=1000, features__msg_pipeline__vect__ngram_range=(1, 2) \n",
      "[CV]  clf__estimator__C=5, features__msg_pipeline__vect__max_features=1000, features__msg_pipeline__vect__ngram_range=(1, 1), score=0.6554689433308587, total= 1.3min\n",
      "[CV] clf__estimator__C=5, features__msg_pipeline__vect__max_features=5000, features__msg_pipeline__vect__ngram_range=(1, 1) \n",
      "[CV]  clf__estimator__C=5, features__msg_pipeline__vect__max_features=None, features__msg_pipeline__vect__ngram_range=(1, 2), score=0.6642717973697028, total= 1.4min\n",
      "[CV] clf__estimator__C=5, features__msg_pipeline__vect__max_features=5000, features__msg_pipeline__vect__ngram_range=(1, 1) \n",
      "[CV]  clf__estimator__C=5, features__msg_pipeline__vect__max_features=1000, features__msg_pipeline__vect__ngram_range=(1, 1), score=0.6606647767982305, total= 1.3min\n",
      "[CV] clf__estimator__C=5, features__msg_pipeline__vect__max_features=5000, features__msg_pipeline__vect__ngram_range=(1, 1) \n",
      "[CV]  clf__estimator__C=5, features__msg_pipeline__vect__max_features=1000, features__msg_pipeline__vect__ngram_range=(1, 2), score=0.6581299681420308, total=  44.6s\n",
      "[CV] clf__estimator__C=5, features__msg_pipeline__vect__max_features=5000, features__msg_pipeline__vect__ngram_range=(1, 2) \n",
      "[CV]  clf__estimator__C=5, features__msg_pipeline__vect__max_features=1000, features__msg_pipeline__vect__ngram_range=(1, 1), score=0.6648377053728307, total= 1.1min\n",
      "[CV] clf__estimator__C=5, features__msg_pipeline__vect__max_features=5000, features__msg_pipeline__vect__ngram_range=(1, 2) \n"
     ]
    },
    {
     "name": "stderr",
     "output_type": "stream",
     "text": [
      "[Parallel(n_jobs=7)]: Done  58 tasks      | elapsed: 16.7min\n"
     ]
    },
    {
     "name": "stdout",
     "output_type": "stream",
     "text": [
      "[CV]  clf__estimator__C=5, features__msg_pipeline__vect__max_features=1000, features__msg_pipeline__vect__ngram_range=(1, 2), score=0.6633886878807557, total= 1.0min\n",
      "[CV] clf__estimator__C=5, features__msg_pipeline__vect__max_features=5000, features__msg_pipeline__vect__ngram_range=(1, 2) \n",
      "[CV]  clf__estimator__C=5, features__msg_pipeline__vect__max_features=1000, features__msg_pipeline__vect__ngram_range=(1, 2), score=0.6627189428411144, total= 1.1min\n",
      "[CV] clf__estimator__C=5, features__msg_pipeline__vect__max_features=10000, features__msg_pipeline__vect__ngram_range=(1, 1) \n",
      "[CV]  clf__estimator__C=5, features__msg_pipeline__vect__max_features=5000, features__msg_pipeline__vect__ngram_range=(1, 1), score=0.6368131868131868, total= 1.1min\n",
      "[CV] clf__estimator__C=5, features__msg_pipeline__vect__max_features=10000, features__msg_pipeline__vect__ngram_range=(1, 1) \n",
      "[CV]  clf__estimator__C=5, features__msg_pipeline__vect__max_features=5000, features__msg_pipeline__vect__ngram_range=(1, 1), score=0.6456639980443685, total= 1.1min\n",
      "[CV] clf__estimator__C=5, features__msg_pipeline__vect__max_features=10000, features__msg_pipeline__vect__ngram_range=(1, 1) \n",
      "[CV]  clf__estimator__C=5, features__msg_pipeline__vect__max_features=5000, features__msg_pipeline__vect__ngram_range=(1, 1), score=0.6432994722552698, total= 1.1min\n",
      "[CV] clf__estimator__C=5, features__msg_pipeline__vect__max_features=10000, features__msg_pipeline__vect__ngram_range=(1, 2) \n",
      "[CV]  clf__estimator__C=5, features__msg_pipeline__vect__max_features=5000, features__msg_pipeline__vect__ngram_range=(1, 2), score=0.6388152481945334, total=  58.4s\n",
      "[CV] clf__estimator__C=5, features__msg_pipeline__vect__max_features=10000, features__msg_pipeline__vect__ngram_range=(1, 2) \n",
      "[CV]  clf__estimator__C=5, features__msg_pipeline__vect__max_features=5000, features__msg_pipeline__vect__ngram_range=(1, 2), score=0.6448338072959667, total= 1.2min\n",
      "[CV] clf__estimator__C=5, features__msg_pipeline__vect__max_features=10000, features__msg_pipeline__vect__ngram_range=(1, 2) \n",
      "[CV]  clf__estimator__C=5, features__msg_pipeline__vect__max_features=10000, features__msg_pipeline__vect__ngram_range=(1, 1), score=0.6370079464915779, total=  57.7s\n",
      "[CV] clf__estimator__C=7, features__msg_pipeline__vect__max_features=None, features__msg_pipeline__vect__ngram_range=(1, 1) \n",
      "[CV]  clf__estimator__C=5, features__msg_pipeline__vect__max_features=5000, features__msg_pipeline__vect__ngram_range=(1, 2), score=0.6431568067124703, total= 1.2min\n",
      "[CV] clf__estimator__C=7, features__msg_pipeline__vect__max_features=None, features__msg_pipeline__vect__ngram_range=(1, 1) \n",
      "[CV]  clf__estimator__C=5, features__msg_pipeline__vect__max_features=10000, features__msg_pipeline__vect__ngram_range=(1, 1), score=0.6468744237506915, total= 1.2min\n",
      "[CV] clf__estimator__C=7, features__msg_pipeline__vect__max_features=None, features__msg_pipeline__vect__ngram_range=(1, 1) \n",
      "[CV]  clf__estimator__C=5, features__msg_pipeline__vect__max_features=10000, features__msg_pipeline__vect__ngram_range=(1, 1), score=0.6437148736218176, total= 1.2min\n",
      "[CV] clf__estimator__C=7, features__msg_pipeline__vect__max_features=None, features__msg_pipeline__vect__ngram_range=(1, 2) \n",
      "[CV]  clf__estimator__C=5, features__msg_pipeline__vect__max_features=10000, features__msg_pipeline__vect__ngram_range=(1, 2), score=0.6391860001838854, total= 1.2min\n",
      "[CV] clf__estimator__C=7, features__msg_pipeline__vect__max_features=None, features__msg_pipeline__vect__ngram_range=(1, 2) \n",
      "[CV]  clf__estimator__C=5, features__msg_pipeline__vect__max_features=10000, features__msg_pipeline__vect__ngram_range=(1, 2), score=0.6452345860967821, total= 1.1min\n",
      "[CV] clf__estimator__C=7, features__msg_pipeline__vect__max_features=None, features__msg_pipeline__vect__ngram_range=(1, 2) \n"
     ]
    },
    {
     "name": "stderr",
     "output_type": "stream",
     "text": [
      "[Parallel(n_jobs=7)]: Done  71 tasks      | elapsed: 20.0min\n"
     ]
    },
    {
     "name": "stdout",
     "output_type": "stream",
     "text": [
      "[CV]  clf__estimator__C=5, features__msg_pipeline__vect__max_features=10000, features__msg_pipeline__vect__ngram_range=(1, 2), score=0.6460468521229868, total= 1.2min\n",
      "[CV] clf__estimator__C=7, features__msg_pipeline__vect__max_features=1000, features__msg_pipeline__vect__ngram_range=(1, 1) \n",
      "[CV]  clf__estimator__C=7, features__msg_pipeline__vect__max_features=None, features__msg_pipeline__vect__ngram_range=(1, 1), score=0.638463423600049, total= 1.3min\n",
      "[CV] clf__estimator__C=7, features__msg_pipeline__vect__max_features=1000, features__msg_pipeline__vect__ngram_range=(1, 1) \n",
      "[CV]  clf__estimator__C=7, features__msg_pipeline__vect__max_features=None, features__msg_pipeline__vect__ngram_range=(1, 1), score=0.6482184400636708, total= 1.2min\n",
      "[CV] clf__estimator__C=7, features__msg_pipeline__vect__max_features=1000, features__msg_pipeline__vect__ngram_range=(1, 1) \n",
      "[CV]  clf__estimator__C=7, features__msg_pipeline__vect__max_features=None, features__msg_pipeline__vect__ngram_range=(1, 1), score=0.644918444165621, total= 1.3min\n",
      "[CV] clf__estimator__C=7, features__msg_pipeline__vect__max_features=1000, features__msg_pipeline__vect__ngram_range=(1, 2) \n",
      "[CV]  clf__estimator__C=7, features__msg_pipeline__vect__max_features=None, features__msg_pipeline__vect__ngram_range=(1, 2), score=0.6629063561377971, total= 1.3min\n",
      "[CV] clf__estimator__C=7, features__msg_pipeline__vect__max_features=1000, features__msg_pipeline__vect__ngram_range=(1, 2) \n",
      "[CV]  clf__estimator__C=7, features__msg_pipeline__vect__max_features=None, features__msg_pipeline__vect__ngram_range=(1, 2), score=0.672865955571763, total= 1.3min\n",
      "[CV] clf__estimator__C=7, features__msg_pipeline__vect__max_features=1000, features__msg_pipeline__vect__ngram_range=(1, 2) \n",
      "[CV]  clf__estimator__C=7, features__msg_pipeline__vect__max_features=None, features__msg_pipeline__vect__ngram_range=(1, 2), score=0.6641346621293146, total= 1.2min\n",
      "[CV] clf__estimator__C=7, features__msg_pipeline__vect__max_features=5000, features__msg_pipeline__vect__ngram_range=(1, 1) \n",
      "[CV]  clf__estimator__C=7, features__msg_pipeline__vect__max_features=1000, features__msg_pipeline__vect__ngram_range=(1, 1), score=0.6544203477299257, total= 1.1min\n",
      "[CV] clf__estimator__C=7, features__msg_pipeline__vect__max_features=5000, features__msg_pipeline__vect__ngram_range=(1, 1) \n",
      "[CV]  clf__estimator__C=7, features__msg_pipeline__vect__max_features=1000, features__msg_pipeline__vect__ngram_range=(1, 1), score=0.6596560682914759, total= 1.1min\n",
      "[CV] clf__estimator__C=7, features__msg_pipeline__vect__max_features=5000, features__msg_pipeline__vect__ngram_range=(1, 1) \n",
      "[CV]  clf__estimator__C=7, features__msg_pipeline__vect__max_features=1000, features__msg_pipeline__vect__ngram_range=(1, 1), score=0.6631720924529457, total= 1.1min\n",
      "[CV] clf__estimator__C=7, features__msg_pipeline__vect__max_features=5000, features__msg_pipeline__vect__ngram_range=(1, 2) \n",
      "[CV]  clf__estimator__C=7, features__msg_pipeline__vect__max_features=1000, features__msg_pipeline__vect__ngram_range=(1, 2), score=0.6616313264200588, total= 1.1min\n",
      "[CV] clf__estimator__C=7, features__msg_pipeline__vect__max_features=5000, features__msg_pipeline__vect__ngram_range=(1, 2) \n",
      "[CV]  clf__estimator__C=7, features__msg_pipeline__vect__max_features=1000, features__msg_pipeline__vect__ngram_range=(1, 2), score=0.6572377321362687, total= 1.1min\n",
      "[CV] clf__estimator__C=7, features__msg_pipeline__vect__max_features=5000, features__msg_pipeline__vect__ngram_range=(1, 2) \n",
      "[CV]  clf__estimator__C=7, features__msg_pipeline__vect__max_features=1000, features__msg_pipeline__vect__ngram_range=(1, 2), score=0.66170775189033, total=  58.0s\n",
      "[CV] clf__estimator__C=7, features__msg_pipeline__vect__max_features=10000, features__msg_pipeline__vect__ngram_range=(1, 1) \n"
     ]
    },
    {
     "name": "stderr",
     "output_type": "stream",
     "text": [
      "[Parallel(n_jobs=7)]: Done  84 tasks      | elapsed: 23.0min\n"
     ]
    },
    {
     "name": "stdout",
     "output_type": "stream",
     "text": [
      "[CV]  clf__estimator__C=7, features__msg_pipeline__vect__max_features=5000, features__msg_pipeline__vect__ngram_range=(1, 1), score=0.6323169441842192, total= 1.1min\n",
      "[CV] clf__estimator__C=7, features__msg_pipeline__vect__max_features=10000, features__msg_pipeline__vect__ngram_range=(1, 1) \n",
      "[CV]  clf__estimator__C=7, features__msg_pipeline__vect__max_features=5000, features__msg_pipeline__vect__ngram_range=(1, 1), score=0.6385593220338983, total= 1.0min\n",
      "[CV] clf__estimator__C=7, features__msg_pipeline__vect__max_features=10000, features__msg_pipeline__vect__ngram_range=(1, 1) \n",
      "[CV]  clf__estimator__C=7, features__msg_pipeline__vect__max_features=5000, features__msg_pipeline__vect__ngram_range=(1, 1), score=0.6380034444209445, total= 1.2min\n",
      "[CV] clf__estimator__C=7, features__msg_pipeline__vect__max_features=10000, features__msg_pipeline__vect__ngram_range=(1, 2) \n",
      "[CV]  clf__estimator__C=7, features__msg_pipeline__vect__max_features=5000, features__msg_pipeline__vect__ngram_range=(1, 2), score=0.6343612334801763, total= 1.2min\n",
      "[CV] clf__estimator__C=7, features__msg_pipeline__vect__max_features=10000, features__msg_pipeline__vect__ngram_range=(1, 2) \n",
      "[CV]  clf__estimator__C=7, features__msg_pipeline__vect__max_features=5000, features__msg_pipeline__vect__ngram_range=(1, 2), score=0.6385801253899507, total= 1.1min\n",
      "[CV] clf__estimator__C=7, features__msg_pipeline__vect__max_features=10000, features__msg_pipeline__vect__ngram_range=(1, 2) \n",
      "[CV]  clf__estimator__C=7, features__msg_pipeline__vect__max_features=5000, features__msg_pipeline__vect__ngram_range=(1, 2), score=0.637510158625049, total= 1.1min\n",
      "[CV] clf__estimator__C=9, features__msg_pipeline__vect__max_features=None, features__msg_pipeline__vect__ngram_range=(1, 1) \n",
      "[CV]  clf__estimator__C=7, features__msg_pipeline__vect__max_features=10000, features__msg_pipeline__vect__ngram_range=(1, 1), score=0.6334014082360472, total= 1.2min\n",
      "[CV] clf__estimator__C=9, features__msg_pipeline__vect__max_features=None, features__msg_pipeline__vect__ngram_range=(1, 1) \n",
      "[CV]  clf__estimator__C=7, features__msg_pipeline__vect__max_features=10000, features__msg_pipeline__vect__ngram_range=(1, 1), score=0.6419835920583121, total= 1.2min\n",
      "[CV] clf__estimator__C=9, features__msg_pipeline__vect__max_features=None, features__msg_pipeline__vect__ngram_range=(1, 1) \n",
      "[CV]  clf__estimator__C=7, features__msg_pipeline__vect__max_features=10000, features__msg_pipeline__vect__ngram_range=(1, 1), score=0.6395001523925632, total= 1.1min\n",
      "[CV] clf__estimator__C=9, features__msg_pipeline__vect__max_features=None, features__msg_pipeline__vect__ngram_range=(1, 2) \n",
      "[CV]  clf__estimator__C=7, features__msg_pipeline__vect__max_features=10000, features__msg_pipeline__vect__ngram_range=(1, 2), score=0.6349718459899558, total= 1.3min\n",
      "[CV] clf__estimator__C=9, features__msg_pipeline__vect__max_features=None, features__msg_pipeline__vect__ngram_range=(1, 2) \n",
      "[CV]  clf__estimator__C=7, features__msg_pipeline__vect__max_features=10000, features__msg_pipeline__vect__ngram_range=(1, 2), score=0.6424198339091954, total= 1.2min\n",
      "[CV] clf__estimator__C=9, features__msg_pipeline__vect__max_features=None, features__msg_pipeline__vect__ngram_range=(1, 2) \n",
      "[CV]  clf__estimator__C=9, features__msg_pipeline__vect__max_features=None, features__msg_pipeline__vect__ngram_range=(1, 1), score=0.6355499893087333, total= 1.3min\n",
      "[CV] clf__estimator__C=9, features__msg_pipeline__vect__max_features=1000, features__msg_pipeline__vect__ngram_range=(1, 1) \n",
      "[CV]  clf__estimator__C=7, features__msg_pipeline__vect__max_features=10000, features__msg_pipeline__vect__ngram_range=(1, 2), score=0.6404172258143224, total= 1.3min\n",
      "[CV] clf__estimator__C=9, features__msg_pipeline__vect__max_features=1000, features__msg_pipeline__vect__ngram_range=(1, 1) \n",
      "[CV]  clf__estimator__C=9, features__msg_pipeline__vect__max_features=None, features__msg_pipeline__vect__ngram_range=(1, 1), score=0.6454387409644067, total= 1.2min\n",
      "[CV] clf__estimator__C=9, features__msg_pipeline__vect__max_features=1000, features__msg_pipeline__vect__ngram_range=(1, 1) \n",
      "[CV]  clf__estimator__C=9, features__msg_pipeline__vect__max_features=None, features__msg_pipeline__vect__ngram_range=(1, 1), score=0.6430161974193942, total= 1.2min\n",
      "[CV] clf__estimator__C=9, features__msg_pipeline__vect__max_features=1000, features__msg_pipeline__vect__ngram_range=(1, 2) \n"
     ]
    },
    {
     "name": "stderr",
     "output_type": "stream",
     "text": [
      "[Parallel(n_jobs=7)]: Done  99 tasks      | elapsed: 27.8min\n"
     ]
    },
    {
     "name": "stdout",
     "output_type": "stream",
     "text": [
      "[CV]  clf__estimator__C=9, features__msg_pipeline__vect__max_features=None, features__msg_pipeline__vect__ngram_range=(1, 2), score=0.6623852655175547, total= 1.3min\n",
      "[CV] clf__estimator__C=9, features__msg_pipeline__vect__max_features=1000, features__msg_pipeline__vect__ngram_range=(1, 2) \n",
      "[CV]  clf__estimator__C=9, features__msg_pipeline__vect__max_features=None, features__msg_pipeline__vect__ngram_range=(1, 2), score=0.6729811778992107, total= 1.4min\n",
      "[CV] clf__estimator__C=9, features__msg_pipeline__vect__max_features=1000, features__msg_pipeline__vect__ngram_range=(1, 2) \n",
      "[CV]  clf__estimator__C=9, features__msg_pipeline__vect__max_features=1000, features__msg_pipeline__vect__ngram_range=(1, 1), score=0.6528278813818404, total= 1.2min\n",
      "[CV] clf__estimator__C=9, features__msg_pipeline__vect__max_features=5000, features__msg_pipeline__vect__ngram_range=(1, 1) \n",
      "[CV]  clf__estimator__C=9, features__msg_pipeline__vect__max_features=1000, features__msg_pipeline__vect__ngram_range=(1, 1), score=0.6583728521278561, total= 1.2min\n",
      "[CV] clf__estimator__C=9, features__msg_pipeline__vect__max_features=5000, features__msg_pipeline__vect__ngram_range=(1, 1) \n",
      "[CV]  clf__estimator__C=9, features__msg_pipeline__vect__max_features=1000, features__msg_pipeline__vect__ngram_range=(1, 1), score=0.6610779173271553, total= 1.1min\n",
      "[CV] clf__estimator__C=9, features__msg_pipeline__vect__max_features=5000, features__msg_pipeline__vect__ngram_range=(1, 1) \n",
      "[CV]  clf__estimator__C=9, features__msg_pipeline__vect__max_features=None, features__msg_pipeline__vect__ngram_range=(1, 2), score=0.6640371370490609, total= 1.4min\n",
      "[CV] clf__estimator__C=9, features__msg_pipeline__vect__max_features=5000, features__msg_pipeline__vect__ngram_range=(1, 2) \n",
      "[CV]  clf__estimator__C=9, features__msg_pipeline__vect__max_features=1000, features__msg_pipeline__vect__ngram_range=(1, 2), score=0.6557296767874633, total=  55.9s\n",
      "[CV] clf__estimator__C=9, features__msg_pipeline__vect__max_features=5000, features__msg_pipeline__vect__ngram_range=(1, 2) \n",
      "[CV]  clf__estimator__C=9, features__msg_pipeline__vect__max_features=1000, features__msg_pipeline__vect__ngram_range=(1, 2), score=0.6593955079027637, total= 1.1min\n",
      "[CV] clf__estimator__C=9, features__msg_pipeline__vect__max_features=5000, features__msg_pipeline__vect__ngram_range=(1, 2) \n",
      "[CV]  clf__estimator__C=9, features__msg_pipeline__vect__max_features=5000, features__msg_pipeline__vect__ngram_range=(1, 1), score=0.6286950252343186, total= 1.1min\n",
      "[CV] clf__estimator__C=9, features__msg_pipeline__vect__max_features=10000, features__msg_pipeline__vect__ngram_range=(1, 1) \n",
      "[CV]  clf__estimator__C=9, features__msg_pipeline__vect__max_features=1000, features__msg_pipeline__vect__ngram_range=(1, 2), score=0.6598733131368769, total= 1.1min\n",
      "[CV] clf__estimator__C=9, features__msg_pipeline__vect__max_features=10000, features__msg_pipeline__vect__ngram_range=(1, 1) \n",
      "[CV]  clf__estimator__C=9, features__msg_pipeline__vect__max_features=5000, features__msg_pipeline__vect__ngram_range=(1, 1), score=0.6331914383356317, total= 1.0min\n",
      "[CV] clf__estimator__C=9, features__msg_pipeline__vect__max_features=10000, features__msg_pipeline__vect__ngram_range=(1, 1) \n",
      "[CV]  clf__estimator__C=9, features__msg_pipeline__vect__max_features=5000, features__msg_pipeline__vect__ngram_range=(1, 1), score=0.6328444337581148, total= 1.2min\n",
      "[CV] clf__estimator__C=9, features__msg_pipeline__vect__max_features=10000, features__msg_pipeline__vect__ngram_range=(1, 2) \n",
      "[CV]  clf__estimator__C=9, features__msg_pipeline__vect__max_features=5000, features__msg_pipeline__vect__ngram_range=(1, 2), score=0.6308849531001828, total= 1.2min\n",
      "[CV] clf__estimator__C=9, features__msg_pipeline__vect__max_features=10000, features__msg_pipeline__vect__ngram_range=(1, 2) \n",
      "[CV]  clf__estimator__C=9, features__msg_pipeline__vect__max_features=5000, features__msg_pipeline__vect__ngram_range=(1, 2), score=0.6345101341192038, total= 1.2min\n",
      "[CV] clf__estimator__C=9, features__msg_pipeline__vect__max_features=10000, features__msg_pipeline__vect__ngram_range=(1, 2) \n",
      "[CV]  clf__estimator__C=9, features__msg_pipeline__vect__max_features=5000, features__msg_pipeline__vect__ngram_range=(1, 2), score=0.6333712370578731, total= 1.2min\n",
      "[CV]  clf__estimator__C=9, features__msg_pipeline__vect__max_features=10000, features__msg_pipeline__vect__ngram_range=(1, 1), score=0.6370392840891855, total= 1.2min\n",
      "[CV]  clf__estimator__C=9, features__msg_pipeline__vect__max_features=10000, features__msg_pipeline__vect__ngram_range=(1, 1), score=0.6303166459212484, total= 1.1min\n",
      "[CV]  clf__estimator__C=9, features__msg_pipeline__vect__max_features=10000, features__msg_pipeline__vect__ngram_range=(1, 1), score=0.6363305865244789, total= 1.2min\n",
      "[CV]  clf__estimator__C=9, features__msg_pipeline__vect__max_features=10000, features__msg_pipeline__vect__ngram_range=(1, 2), score=0.6317513267626991, total= 1.3min\n",
      "[CV]  clf__estimator__C=9, features__msg_pipeline__vect__max_features=10000, features__msg_pipeline__vect__ngram_range=(1, 2), score=0.6381079604104681, total= 1.3min\n",
      "[CV]  clf__estimator__C=9, features__msg_pipeline__vect__max_features=10000, features__msg_pipeline__vect__ngram_range=(1, 2), score=0.6400434336731615, total=  55.2s\n"
     ]
    },
    {
     "name": "stderr",
     "output_type": "stream",
     "text": [
      "[Parallel(n_jobs=7)]: Done 120 out of 120 | elapsed: 32.7min remaining:    0.0s\n",
      "[Parallel(n_jobs=7)]: Done 120 out of 120 | elapsed: 32.7min finished\n"
     ]
    }
   ],
   "source": [
    "from sklearn.model_selection import RandomizedSearchCV,GridSearchCV\n",
    "\n",
    "parameters = {\n",
    "        'features__msg_pipeline__vect__max_features': (None,1000, 5000, 10000),\n",
    "        'clf__estimator__C': [1,3,5,7,9],\n",
    "        'features__msg_pipeline__vect__ngram_range' : [(1,1), (1,2)]\n",
    "        \n",
    "    }\n",
    "\n",
    "\n",
    "cv = GridSearchCV(pipeline, param_grid=parameters,scoring='f1_micro', verbose=10, n_jobs=7)\n",
    "#cv = RandomizedSearchCV(pipeline, param_distributions=parameters,n_iter=20, scoring='f1_micro', verbose=10, n_jobs=7)\n",
    "\n",
    "# Fit the grid search object to the training data \n",
    "grid_fit = cv.fit(X_train, y_train)\n",
    "\n",
    "# Get the estimator\n",
    "best_clf = grid_fit.best_estimator_"
   ]
  },
  {
   "cell_type": "markdown",
   "metadata": {},
   "source": [
    "### 7. Test your model\n",
    "Show the accuracy, precision, and recall of the tuned model."
   ]
  },
  {
   "cell_type": "code",
   "execution_count": 42,
   "metadata": {
    "scrolled": true
   },
   "outputs": [
    {
     "name": "stdout",
     "output_type": "stream",
     "text": [
      "Accuracy: 1.00\n",
      "\n",
      "\n",
      "Classification report:\n",
      "                         precision    recall  f1-score   support\n",
      "\n",
      "               related       1.00      1.00      1.00     13334\n",
      "               request       1.00      0.99      0.99      2980\n",
      "                 offer       1.00      0.96      0.98        82\n",
      "           aid_related       1.00      1.00      1.00      7277\n",
      "          medical_help       1.00      0.99      1.00      1391\n",
      "      medical_products       1.00      0.99      1.00       906\n",
      "     search_and_rescue       1.00      0.98      0.99       499\n",
      "              security       1.00      0.97      0.99       324\n",
      "              military       1.00      1.00      1.00       593\n",
      "           child_alone       0.00      0.00      0.00         0\n",
      "                 water       0.99      1.00      1.00      1155\n",
      "                  food       0.99      1.00      1.00      1949\n",
      "               shelter       1.00      1.00      1.00      1510\n",
      "              clothing       1.00      0.99      0.99       283\n",
      "                 money       1.00      0.99      1.00       382\n",
      "        missing_people       1.00      0.98      0.99       194\n",
      "              refugees       1.00      0.99      1.00       580\n",
      "                 death       1.00      0.99      1.00       804\n",
      "             other_aid       1.00      0.99      0.99      2284\n",
      "infrastructure_related       1.00      0.99      1.00      1129\n",
      "             transport       1.00      0.98      0.99       801\n",
      "             buildings       1.00      1.00      1.00       863\n",
      "           electricity       1.00      1.00      1.00       359\n",
      "                 tools       1.00      0.96      0.98       101\n",
      "             hospitals       1.00      0.97      0.99       197\n",
      "                 shops       1.00      0.98      0.99        81\n",
      "           aid_centers       1.00      0.99      1.00       180\n",
      "  other_infrastructure       1.00      1.00      1.00       773\n",
      "       weather_related       1.00      1.00      1.00      4856\n",
      "                floods       1.00      0.99      1.00      1448\n",
      "                 storm       1.00      1.00      1.00      1603\n",
      "                  fire       1.00      0.98      0.99       195\n",
      "            earthquake       0.99      1.00      1.00      1638\n",
      "                  cold       1.00      0.98      0.99       357\n",
      "         other_weather       1.00      0.99      1.00       901\n",
      "         direct_report       1.00      0.99      0.99      3391\n",
      "\n",
      "           avg / total       1.00      0.99      1.00     55400\n",
      "\n"
     ]
    }
   ],
   "source": [
    "\"\"\" Tuned LogReg on Train  \"\"\"\n",
    "show_report(best_clf, X_train, y_train)"
   ]
  },
  {
   "cell_type": "code",
   "execution_count": 43,
   "metadata": {
    "scrolled": true
   },
   "outputs": [
    {
     "name": "stdout",
     "output_type": "stream",
     "text": [
      "Accuracy: 0.95\n",
      "\n",
      "\n",
      "Classification report:\n",
      "                         precision    recall  f1-score   support\n",
      "\n",
      "               related       0.85      0.94      0.89      6542\n",
      "               request       0.77      0.64      0.70      1484\n",
      "                 offer       0.00      0.00      0.00        36\n",
      "           aid_related       0.70      0.76      0.73      3564\n",
      "          medical_help       0.57      0.27      0.37       690\n",
      "      medical_products       0.66      0.25      0.37       405\n",
      "     search_and_rescue       0.67      0.15      0.25       225\n",
      "              security       0.25      0.01      0.03       147\n",
      "              military       0.56      0.29      0.38       266\n",
      "           child_alone       0.00      0.00      0.00         0\n",
      "                 water       0.73      0.62      0.67       514\n",
      "                  food       0.82      0.66      0.73       968\n",
      "               shelter       0.78      0.53      0.63       798\n",
      "              clothing       0.82      0.33      0.47       121\n",
      "                 money       0.54      0.14      0.22       221\n",
      "        missing_people       0.73      0.08      0.14       104\n",
      "              refugees       0.62      0.15      0.24       294\n",
      "                 death       0.77      0.38      0.51       388\n",
      "             other_aid       0.52      0.21      0.30      1157\n",
      "infrastructure_related       0.34      0.06      0.10       576\n",
      "             transport       0.68      0.18      0.29       398\n",
      "             buildings       0.71      0.32      0.45       468\n",
      "           electricity       0.56      0.25      0.34       173\n",
      "                 tools       0.00      0.00      0.00        58\n",
      "             hospitals       0.12      0.01      0.02        86\n",
      "                 shops       0.00      0.00      0.00        39\n",
      "           aid_centers       0.50      0.02      0.03       129\n",
      "  other_infrastructure       0.27      0.03      0.06       378\n",
      "       weather_related       0.81      0.71      0.76      2430\n",
      "                floods       0.84      0.53      0.65       701\n",
      "                 storm       0.74      0.58      0.65       837\n",
      "                  fire       0.62      0.11      0.19        87\n",
      "            earthquake       0.90      0.62      0.74       814\n",
      "                  cold       0.84      0.25      0.39       171\n",
      "         other_weather       0.64      0.11      0.19       475\n",
      "         direct_report       0.66      0.52      0.59      1673\n",
      "\n",
      "           avg / total       0.73      0.60      0.63     27417\n",
      "\n"
     ]
    }
   ],
   "source": [
    "\"\"\" Tuned LogReg on Test  \"\"\"\n",
    "show_report(best_clf, X_test, y_test)"
   ]
  },
  {
   "cell_type": "markdown",
   "metadata": {},
   "source": [
    "### 8. Try improving your model further. Here are a few ideas:\n",
    "* try other machine learning algorithms\n",
    "* add other features besides the TF-IDF"
   ]
  },
  {
   "cell_type": "code",
   "execution_count": 5,
   "metadata": {},
   "outputs": [],
   "source": [
    "\"\"\" Pipeline LogReg \"\"\"\n",
    "from sklearn.feature_selection import chi2, SelectKBest\n",
    "from sklearn.decomposition import NMF, LatentDirichletAllocation, PCA, TruncatedSVD\n",
    "from sklearn.naive_bayes import MultinomialNB\n",
    "from sklearn.preprocessing import MaxAbsScaler\n",
    "from sklearn.linear_model import LogisticRegression\n",
    "\n",
    "msg_pipeline = Pipeline([\n",
    "    ('vect', CountVectorizer(tokenizer=tokenize, ngram_range=(1,2))),\n",
    "    ('nlp_union', FeatureUnion([\n",
    "        ('tfidf_pl', Pipeline([\n",
    "            ('tfidf', TfidfTransformer()),\n",
    "            ('dim_red', SelectKBest(chi2, 500))\n",
    "        ])),\n",
    "        ('svd_pl', Pipeline([\n",
    "            ('tfidf_svd', TfidfTransformer()),\n",
    "            ('truncated_svd', TruncatedSVD(500))\n",
    "        ]))\n",
    "    ]))         \n",
    "])\n",
    "\n",
    "\n",
    "\n",
    "\n",
    "pipeline = Pipeline([\n",
    "    ('features', msg_pipeline),\n",
    "    ('scale', MaxAbsScaler()),\n",
    "    ('clf', OneVsRestClassifier(LogisticRegression(random_state=42), n_jobs=1))\n",
    "    \n",
    "])"
   ]
  },
  {
   "cell_type": "code",
   "execution_count": null,
   "metadata": {
    "scrolled": true
   },
   "outputs": [],
   "source": [
    "%%time\n",
    "#train pipeline on LogReg\n",
    "pipeline.fit(X_train, y_train)"
   ]
  },
  {
   "cell_type": "code",
   "execution_count": 66,
   "metadata": {
    "scrolled": true
   },
   "outputs": [
    {
     "name": "stdout",
     "output_type": "stream",
     "text": [
      "Accuracy: 0.95\n",
      "\n",
      "\n",
      "Classification report:\n",
      "                         precision    recall  f1-score   support\n",
      "\n",
      "               related       0.87      0.94      0.90     13334\n",
      "               request       0.85      0.59      0.69      2980\n",
      "                 offer       1.00      0.07      0.14        82\n",
      "           aid_related       0.79      0.68      0.73      7277\n",
      "          medical_help       0.70      0.28      0.40      1391\n",
      "      medical_products       0.78      0.29      0.43       906\n",
      "     search_and_rescue       0.82      0.23      0.36       499\n",
      "              security       1.00      0.04      0.08       324\n",
      "              military       0.73      0.37      0.49       593\n",
      "           child_alone       0.00      0.00      0.00         0\n",
      "                 water       0.84      0.63      0.72      1155\n",
      "                  food       0.85      0.68      0.76      1949\n",
      "               shelter       0.83      0.55      0.66      1510\n",
      "              clothing       0.85      0.51      0.64       283\n",
      "                 money       0.76      0.32      0.45       382\n",
      "        missing_people       0.97      0.15      0.26       194\n",
      "              refugees       0.78      0.24      0.37       580\n",
      "                 death       0.83      0.46      0.59       804\n",
      "             other_aid       0.70      0.17      0.27      2284\n",
      "infrastructure_related       0.75      0.07      0.13      1129\n",
      "             transport       0.80      0.21      0.34       801\n",
      "             buildings       0.75      0.36      0.49       863\n",
      "           electricity       0.81      0.40      0.53       359\n",
      "                 tools       1.00      0.01      0.02       101\n",
      "             hospitals       0.82      0.17      0.28       197\n",
      "                 shops       0.50      0.01      0.02        81\n",
      "           aid_centers       1.00      0.08      0.15       180\n",
      "  other_infrastructure       0.86      0.05      0.09       773\n",
      "       weather_related       0.86      0.69      0.77      4856\n",
      "                floods       0.88      0.53      0.66      1448\n",
      "                 storm       0.81      0.61      0.69      1603\n",
      "                  fire       0.86      0.38      0.53       195\n",
      "            earthquake       0.91      0.74      0.81      1638\n",
      "                  cold       0.82      0.42      0.55       357\n",
      "         other_weather       0.74      0.12      0.20       901\n",
      "         direct_report       0.79      0.48      0.60      3391\n",
      "\n",
      "           avg / total       0.83      0.60      0.66     55400\n",
      "\n"
     ]
    }
   ],
   "source": [
    "\"\"\" Improved LogReg on Train  \"\"\"\n",
    "show_report(pipeline, X_train, y_train)"
   ]
  },
  {
   "cell_type": "code",
   "execution_count": 62,
   "metadata": {
    "scrolled": true
   },
   "outputs": [
    {
     "name": "stdout",
     "output_type": "stream",
     "text": [
      "Accuracy: 0.95\n",
      "\n",
      "\n",
      "Classification report:\n",
      "                         precision    recall  f1-score   support\n",
      "\n",
      "               related       0.85      0.94      0.89      6542\n",
      "               request       0.74      0.65      0.69      1484\n",
      "                 offer       0.00      0.00      0.00        36\n",
      "           aid_related       0.70      0.77      0.73      3564\n",
      "          medical_help       0.57      0.34      0.43       690\n",
      "      medical_products       0.57      0.34      0.43       405\n",
      "     search_and_rescue       0.55      0.19      0.28       225\n",
      "              security       0.26      0.04      0.07       147\n",
      "              military       0.49      0.36      0.41       266\n",
      "           child_alone       0.00      0.00      0.00         0\n",
      "                 water       0.69      0.70      0.69       514\n",
      "                  food       0.79      0.73      0.76       968\n",
      "               shelter       0.72      0.62      0.67       798\n",
      "              clothing       0.68      0.50      0.57       121\n",
      "                 money       0.53      0.29      0.37       221\n",
      "        missing_people       0.58      0.11      0.18       104\n",
      "              refugees       0.51      0.22      0.30       294\n",
      "                 death       0.71      0.50      0.59       388\n",
      "             other_aid       0.51      0.26      0.34      1157\n",
      "infrastructure_related       0.36      0.11      0.17       576\n",
      "             transport       0.57      0.24      0.34       398\n",
      "             buildings       0.59      0.42      0.49       468\n",
      "           electricity       0.50      0.39      0.44       173\n",
      "                 tools       0.00      0.00      0.00        58\n",
      "             hospitals       0.34      0.12      0.17        86\n",
      "                 shops       0.00      0.00      0.00        39\n",
      "           aid_centers       0.44      0.09      0.14       129\n",
      "  other_infrastructure       0.25      0.07      0.11       378\n",
      "       weather_related       0.80      0.76      0.78      2430\n",
      "                floods       0.78      0.55      0.64       701\n",
      "                 storm       0.73      0.68      0.70       837\n",
      "                  fire       0.53      0.21      0.30        87\n",
      "            earthquake       0.89      0.78      0.83       814\n",
      "                  cold       0.64      0.38      0.48       171\n",
      "         other_weather       0.56      0.18      0.28       475\n",
      "         direct_report       0.68      0.56      0.61      1673\n",
      "\n",
      "           avg / total       0.71      0.64      0.66     27417\n",
      "\n"
     ]
    }
   ],
   "source": [
    "\"\"\" Improved LogReg on Test  \"\"\"\n",
    "show_report(pipeline, X_test, y_test)"
   ]
  },
  {
   "cell_type": "code",
   "execution_count": 76,
   "metadata": {
    "scrolled": true
   },
   "outputs": [
    {
     "name": "stdout",
     "output_type": "stream",
     "text": [
      "Fitting 3 folds for each of 27 candidates, totalling 81 fits\n",
      "[CV] clf__estimator__C=1, features__msg_pipeline__nlp_union__svd_pl__truncated_svd__n_components=100, features__msg_pipeline__nlp_union__tfidf_pl__dim_red__k=100 \n",
      "[CV] clf__estimator__C=1, features__msg_pipeline__nlp_union__svd_pl__truncated_svd__n_components=100, features__msg_pipeline__nlp_union__tfidf_pl__dim_red__k=100 \n",
      "[CV] clf__estimator__C=1, features__msg_pipeline__nlp_union__svd_pl__truncated_svd__n_components=100, features__msg_pipeline__nlp_union__tfidf_pl__dim_red__k=100 \n",
      "[CV] clf__estimator__C=1, features__msg_pipeline__nlp_union__svd_pl__truncated_svd__n_components=100, features__msg_pipeline__nlp_union__tfidf_pl__dim_red__k=250 \n",
      "[CV] clf__estimator__C=1, features__msg_pipeline__nlp_union__svd_pl__truncated_svd__n_components=100, features__msg_pipeline__nlp_union__tfidf_pl__dim_red__k=250 \n",
      "[CV] clf__estimator__C=1, features__msg_pipeline__nlp_union__svd_pl__truncated_svd__n_components=100, features__msg_pipeline__nlp_union__tfidf_pl__dim_red__k=500 \n",
      "[CV] clf__estimator__C=1, features__msg_pipeline__nlp_union__svd_pl__truncated_svd__n_components=100, features__msg_pipeline__nlp_union__tfidf_pl__dim_red__k=250 \n",
      "[CV]  clf__estimator__C=1, features__msg_pipeline__nlp_union__svd_pl__truncated_svd__n_components=100, features__msg_pipeline__nlp_union__tfidf_pl__dim_red__k=250, score=0.6566449871149833, total= 1.8min\n",
      "[CV] clf__estimator__C=1, features__msg_pipeline__nlp_union__svd_pl__truncated_svd__n_components=100, features__msg_pipeline__nlp_union__tfidf_pl__dim_red__k=500 \n",
      "[CV]  clf__estimator__C=1, features__msg_pipeline__nlp_union__svd_pl__truncated_svd__n_components=100, features__msg_pipeline__nlp_union__tfidf_pl__dim_red__k=500, score=0.6512367383128993, total= 1.7min\n",
      "[CV] clf__estimator__C=1, features__msg_pipeline__nlp_union__svd_pl__truncated_svd__n_components=100, features__msg_pipeline__nlp_union__tfidf_pl__dim_red__k=500 \n",
      "[CV]  clf__estimator__C=1, features__msg_pipeline__nlp_union__svd_pl__truncated_svd__n_components=100, features__msg_pipeline__nlp_union__tfidf_pl__dim_red__k=100, score=0.6528897746435689, total= 1.9min\n",
      "[CV] clf__estimator__C=1, features__msg_pipeline__nlp_union__svd_pl__truncated_svd__n_components=250, features__msg_pipeline__nlp_union__tfidf_pl__dim_red__k=100 \n",
      "[CV]  clf__estimator__C=1, features__msg_pipeline__nlp_union__svd_pl__truncated_svd__n_components=100, features__msg_pipeline__nlp_union__tfidf_pl__dim_red__k=100, score=0.6575460122699387, total= 1.9min\n",
      "[CV] clf__estimator__C=1, features__msg_pipeline__nlp_union__svd_pl__truncated_svd__n_components=250, features__msg_pipeline__nlp_union__tfidf_pl__dim_red__k=100 \n"
     ]
    },
    {
     "name": "stderr",
     "output_type": "stream",
     "text": [
      "[Parallel(n_jobs=7)]: Done   4 tasks      | elapsed:  2.7min\n"
     ]
    },
    {
     "name": "stdout",
     "output_type": "stream",
     "text": [
      "[CV]  clf__estimator__C=1, features__msg_pipeline__nlp_union__svd_pl__truncated_svd__n_components=100, features__msg_pipeline__nlp_union__tfidf_pl__dim_red__k=250, score=0.6551461863762207, total= 2.0min\n",
      "[CV] clf__estimator__C=1, features__msg_pipeline__nlp_union__svd_pl__truncated_svd__n_components=250, features__msg_pipeline__nlp_union__tfidf_pl__dim_red__k=100 \n",
      "[CV]  clf__estimator__C=1, features__msg_pipeline__nlp_union__svd_pl__truncated_svd__n_components=100, features__msg_pipeline__nlp_union__tfidf_pl__dim_red__k=100, score=0.655171365143083, total= 2.0min\n",
      "[CV] clf__estimator__C=1, features__msg_pipeline__nlp_union__svd_pl__truncated_svd__n_components=250, features__msg_pipeline__nlp_union__tfidf_pl__dim_red__k=250 \n",
      "[CV]  clf__estimator__C=1, features__msg_pipeline__nlp_union__svd_pl__truncated_svd__n_components=100, features__msg_pipeline__nlp_union__tfidf_pl__dim_red__k=250, score=0.6525948164940873, total= 2.0min\n",
      "[CV] clf__estimator__C=1, features__msg_pipeline__nlp_union__svd_pl__truncated_svd__n_components=250, features__msg_pipeline__nlp_union__tfidf_pl__dim_red__k=250 \n",
      "[CV]  clf__estimator__C=1, features__msg_pipeline__nlp_union__svd_pl__truncated_svd__n_components=100, features__msg_pipeline__nlp_union__tfidf_pl__dim_red__k=500, score=0.65865884222752, total= 1.7min\n",
      "[CV] clf__estimator__C=1, features__msg_pipeline__nlp_union__svd_pl__truncated_svd__n_components=250, features__msg_pipeline__nlp_union__tfidf_pl__dim_red__k=250 \n",
      "[CV]  clf__estimator__C=1, features__msg_pipeline__nlp_union__svd_pl__truncated_svd__n_components=100, features__msg_pipeline__nlp_union__tfidf_pl__dim_red__k=500, score=0.6528933174878873, total= 2.0min\n",
      "[CV] clf__estimator__C=1, features__msg_pipeline__nlp_union__svd_pl__truncated_svd__n_components=250, features__msg_pipeline__nlp_union__tfidf_pl__dim_red__k=500 \n",
      "[CV]  clf__estimator__C=1, features__msg_pipeline__nlp_union__svd_pl__truncated_svd__n_components=250, features__msg_pipeline__nlp_union__tfidf_pl__dim_red__k=100, score=0.676543942992874, total= 2.9min\n",
      "[CV] clf__estimator__C=1, features__msg_pipeline__nlp_union__svd_pl__truncated_svd__n_components=250, features__msg_pipeline__nlp_union__tfidf_pl__dim_red__k=500 \n",
      "[CV]  clf__estimator__C=1, features__msg_pipeline__nlp_union__svd_pl__truncated_svd__n_components=250, features__msg_pipeline__nlp_union__tfidf_pl__dim_red__k=250, score=0.6784643249502658, total= 3.1min\n",
      "[CV]  clf__estimator__C=1, features__msg_pipeline__nlp_union__svd_pl__truncated_svd__n_components=250, features__msg_pipeline__nlp_union__tfidf_pl__dim_red__k=250, score=0.6814288698558597, total= 3.1min\n",
      "[CV] clf__estimator__C=1, features__msg_pipeline__nlp_union__svd_pl__truncated_svd__n_components=250, features__msg_pipeline__nlp_union__tfidf_pl__dim_red__k=500 \n",
      "[CV] clf__estimator__C=1, features__msg_pipeline__nlp_union__svd_pl__truncated_svd__n_components=500, features__msg_pipeline__nlp_union__tfidf_pl__dim_red__k=100 \n"
     ]
    },
    {
     "name": "stderr",
     "output_type": "stream",
     "text": [
      "[Parallel(n_jobs=7)]: Done  11 tasks      | elapsed:  6.6min\n"
     ]
    },
    {
     "name": "stdout",
     "output_type": "stream",
     "text": [
      "[CV]  clf__estimator__C=1, features__msg_pipeline__nlp_union__svd_pl__truncated_svd__n_components=250, features__msg_pipeline__nlp_union__tfidf_pl__dim_red__k=100, score=0.6823648789805115, total= 3.2min\n",
      "[CV] clf__estimator__C=1, features__msg_pipeline__nlp_union__svd_pl__truncated_svd__n_components=500, features__msg_pipeline__nlp_union__tfidf_pl__dim_red__k=100 \n",
      "[CV]  clf__estimator__C=1, features__msg_pipeline__nlp_union__svd_pl__truncated_svd__n_components=250, features__msg_pipeline__nlp_union__tfidf_pl__dim_red__k=100, score=0.675973027327576, total= 3.2min\n",
      "[CV] clf__estimator__C=1, features__msg_pipeline__nlp_union__svd_pl__truncated_svd__n_components=500, features__msg_pipeline__nlp_union__tfidf_pl__dim_red__k=100 \n",
      "[CV]  clf__estimator__C=1, features__msg_pipeline__nlp_union__svd_pl__truncated_svd__n_components=250, features__msg_pipeline__nlp_union__tfidf_pl__dim_red__k=250, score=0.6779681074524422, total= 2.7min\n",
      "[CV] clf__estimator__C=1, features__msg_pipeline__nlp_union__svd_pl__truncated_svd__n_components=500, features__msg_pipeline__nlp_union__tfidf_pl__dim_red__k=250 \n",
      "[CV]  clf__estimator__C=1, features__msg_pipeline__nlp_union__svd_pl__truncated_svd__n_components=250, features__msg_pipeline__nlp_union__tfidf_pl__dim_red__k=500, score=0.6760738374156905, total= 2.6min\n",
      "[CV] clf__estimator__C=1, features__msg_pipeline__nlp_union__svd_pl__truncated_svd__n_components=500, features__msg_pipeline__nlp_union__tfidf_pl__dim_red__k=250 \n",
      "[CV]  clf__estimator__C=1, features__msg_pipeline__nlp_union__svd_pl__truncated_svd__n_components=250, features__msg_pipeline__nlp_union__tfidf_pl__dim_red__k=500, score=0.6795449795479652, total= 3.4min\n",
      "[CV] clf__estimator__C=1, features__msg_pipeline__nlp_union__svd_pl__truncated_svd__n_components=500, features__msg_pipeline__nlp_union__tfidf_pl__dim_red__k=250 \n",
      "[CV]  clf__estimator__C=1, features__msg_pipeline__nlp_union__svd_pl__truncated_svd__n_components=250, features__msg_pipeline__nlp_union__tfidf_pl__dim_red__k=500, score=0.6763888067207003, total= 3.7min\n",
      "[CV] clf__estimator__C=1, features__msg_pipeline__nlp_union__svd_pl__truncated_svd__n_components=500, features__msg_pipeline__nlp_union__tfidf_pl__dim_red__k=500 \n"
     ]
    },
    {
     "name": "stderr",
     "output_type": "stream",
     "text": [
      "[Parallel(n_jobs=7)]: Done  18 tasks      | elapsed: 11.0min\n"
     ]
    },
    {
     "name": "stdout",
     "output_type": "stream",
     "text": [
      "[CV]  clf__estimator__C=1, features__msg_pipeline__nlp_union__svd_pl__truncated_svd__n_components=500, features__msg_pipeline__nlp_union__tfidf_pl__dim_red__k=100, score=0.6883707458363504, total= 6.1min\n",
      "[CV] clf__estimator__C=1, features__msg_pipeline__nlp_union__svd_pl__truncated_svd__n_components=500, features__msg_pipeline__nlp_union__tfidf_pl__dim_red__k=500 \n",
      "[CV]  clf__estimator__C=1, features__msg_pipeline__nlp_union__svd_pl__truncated_svd__n_components=500, features__msg_pipeline__nlp_union__tfidf_pl__dim_red__k=100, score=0.6810810810810811, total= 6.2min\n",
      "[CV] clf__estimator__C=1, features__msg_pipeline__nlp_union__svd_pl__truncated_svd__n_components=500, features__msg_pipeline__nlp_union__tfidf_pl__dim_red__k=500 \n",
      "[CV]  clf__estimator__C=1, features__msg_pipeline__nlp_union__svd_pl__truncated_svd__n_components=500, features__msg_pipeline__nlp_union__tfidf_pl__dim_red__k=100, score=0.686019467654406, total= 6.4min\n",
      "[CV] clf__estimator__C=3, features__msg_pipeline__nlp_union__svd_pl__truncated_svd__n_components=100, features__msg_pipeline__nlp_union__tfidf_pl__dim_red__k=100 \n",
      "[CV]  clf__estimator__C=1, features__msg_pipeline__nlp_union__svd_pl__truncated_svd__n_components=500, features__msg_pipeline__nlp_union__tfidf_pl__dim_red__k=250, score=0.6804938556510701, total= 5.6min\n",
      "[CV] clf__estimator__C=3, features__msg_pipeline__nlp_union__svd_pl__truncated_svd__n_components=100, features__msg_pipeline__nlp_union__tfidf_pl__dim_red__k=100 \n",
      "[CV]  clf__estimator__C=1, features__msg_pipeline__nlp_union__svd_pl__truncated_svd__n_components=500, features__msg_pipeline__nlp_union__tfidf_pl__dim_red__k=250, score=0.6884359280044199, total= 5.9min\n",
      "[CV] clf__estimator__C=3, features__msg_pipeline__nlp_union__svd_pl__truncated_svd__n_components=100, features__msg_pipeline__nlp_union__tfidf_pl__dim_red__k=100 \n",
      "[CV]  clf__estimator__C=1, features__msg_pipeline__nlp_union__svd_pl__truncated_svd__n_components=500, features__msg_pipeline__nlp_union__tfidf_pl__dim_red__k=250, score=0.6850117768713737, total= 5.2min\n",
      "[CV] clf__estimator__C=3, features__msg_pipeline__nlp_union__svd_pl__truncated_svd__n_components=100, features__msg_pipeline__nlp_union__tfidf_pl__dim_red__k=250 \n",
      "[CV]  clf__estimator__C=3, features__msg_pipeline__nlp_union__svd_pl__truncated_svd__n_components=100, features__msg_pipeline__nlp_union__tfidf_pl__dim_red__k=100, score=0.6548509751011897, total= 2.9min\n",
      "[CV] clf__estimator__C=3, features__msg_pipeline__nlp_union__svd_pl__truncated_svd__n_components=100, features__msg_pipeline__nlp_union__tfidf_pl__dim_red__k=250 \n",
      "[CV]  clf__estimator__C=1, features__msg_pipeline__nlp_union__svd_pl__truncated_svd__n_components=500, features__msg_pipeline__nlp_union__tfidf_pl__dim_red__k=500, score=0.6795413397706699, total= 5.6min\n",
      "[CV] clf__estimator__C=3, features__msg_pipeline__nlp_union__svd_pl__truncated_svd__n_components=100, features__msg_pipeline__nlp_union__tfidf_pl__dim_red__k=250 \n",
      "[CV]  clf__estimator__C=3, features__msg_pipeline__nlp_union__svd_pl__truncated_svd__n_components=100, features__msg_pipeline__nlp_union__tfidf_pl__dim_red__k=100, score=0.6575115715905957, total= 2.7min\n",
      "[CV] clf__estimator__C=3, features__msg_pipeline__nlp_union__svd_pl__truncated_svd__n_components=100, features__msg_pipeline__nlp_union__tfidf_pl__dim_red__k=500 \n"
     ]
    },
    {
     "name": "stderr",
     "output_type": "stream",
     "text": [
      "[Parallel(n_jobs=7)]: Done  27 tasks      | elapsed: 18.4min\n"
     ]
    },
    {
     "name": "stdout",
     "output_type": "stream",
     "text": [
      "[CV]  clf__estimator__C=3, features__msg_pipeline__nlp_union__svd_pl__truncated_svd__n_components=100, features__msg_pipeline__nlp_union__tfidf_pl__dim_red__k=100, score=0.6544790874524714, total= 2.8min\n",
      "[CV] clf__estimator__C=3, features__msg_pipeline__nlp_union__svd_pl__truncated_svd__n_components=100, features__msg_pipeline__nlp_union__tfidf_pl__dim_red__k=500 \n",
      "[CV]  clf__estimator__C=1, features__msg_pipeline__nlp_union__svd_pl__truncated_svd__n_components=500, features__msg_pipeline__nlp_union__tfidf_pl__dim_red__k=500, score=0.6890434782608696, total= 5.2min\n",
      "[CV] clf__estimator__C=3, features__msg_pipeline__nlp_union__svd_pl__truncated_svd__n_components=100, features__msg_pipeline__nlp_union__tfidf_pl__dim_red__k=500 \n",
      "[CV]  clf__estimator__C=3, features__msg_pipeline__nlp_union__svd_pl__truncated_svd__n_components=100, features__msg_pipeline__nlp_union__tfidf_pl__dim_red__k=250, score=0.6537709326488204, total= 2.8min\n",
      "[CV] clf__estimator__C=3, features__msg_pipeline__nlp_union__svd_pl__truncated_svd__n_components=250, features__msg_pipeline__nlp_union__tfidf_pl__dim_red__k=100 \n",
      "[CV]  clf__estimator__C=1, features__msg_pipeline__nlp_union__svd_pl__truncated_svd__n_components=500, features__msg_pipeline__nlp_union__tfidf_pl__dim_red__k=500, score=0.6834451579462666, total= 5.7min\n",
      "[CV] clf__estimator__C=3, features__msg_pipeline__nlp_union__svd_pl__truncated_svd__n_components=250, features__msg_pipeline__nlp_union__tfidf_pl__dim_red__k=100 \n",
      "[CV]  clf__estimator__C=3, features__msg_pipeline__nlp_union__svd_pl__truncated_svd__n_components=100, features__msg_pipeline__nlp_union__tfidf_pl__dim_red__k=250, score=0.6576115284378353, total= 2.3min\n",
      "[CV] clf__estimator__C=3, features__msg_pipeline__nlp_union__svd_pl__truncated_svd__n_components=250, features__msg_pipeline__nlp_union__tfidf_pl__dim_red__k=100 \n",
      "[CV]  clf__estimator__C=3, features__msg_pipeline__nlp_union__svd_pl__truncated_svd__n_components=100, features__msg_pipeline__nlp_union__tfidf_pl__dim_red__k=250, score=0.6556359875904859, total= 2.5min\n",
      "[CV] clf__estimator__C=3, features__msg_pipeline__nlp_union__svd_pl__truncated_svd__n_components=250, features__msg_pipeline__nlp_union__tfidf_pl__dim_red__k=250 \n",
      "[CV]  clf__estimator__C=3, features__msg_pipeline__nlp_union__svd_pl__truncated_svd__n_components=100, features__msg_pipeline__nlp_union__tfidf_pl__dim_red__k=500, score=0.6530786338847759, total= 2.6min\n",
      "[CV] clf__estimator__C=3, features__msg_pipeline__nlp_union__svd_pl__truncated_svd__n_components=250, features__msg_pipeline__nlp_union__tfidf_pl__dim_red__k=250 \n",
      "[CV]  clf__estimator__C=3, features__msg_pipeline__nlp_union__svd_pl__truncated_svd__n_components=100, features__msg_pipeline__nlp_union__tfidf_pl__dim_red__k=500, score=0.6577867597525874, total= 2.5min\n",
      "[CV] clf__estimator__C=3, features__msg_pipeline__nlp_union__svd_pl__truncated_svd__n_components=250, features__msg_pipeline__nlp_union__tfidf_pl__dim_red__k=250 \n",
      "[CV]  clf__estimator__C=3, features__msg_pipeline__nlp_union__svd_pl__truncated_svd__n_components=100, features__msg_pipeline__nlp_union__tfidf_pl__dim_red__k=500, score=0.6536161947251814, total= 3.0min\n",
      "[CV] clf__estimator__C=3, features__msg_pipeline__nlp_union__svd_pl__truncated_svd__n_components=250, features__msg_pipeline__nlp_union__tfidf_pl__dim_red__k=500 \n"
     ]
    },
    {
     "name": "stderr",
     "output_type": "stream",
     "text": [
      "[Parallel(n_jobs=7)]: Done  36 tasks      | elapsed: 23.1min\n"
     ]
    },
    {
     "name": "stdout",
     "output_type": "stream",
     "text": [
      "[CV]  clf__estimator__C=3, features__msg_pipeline__nlp_union__svd_pl__truncated_svd__n_components=250, features__msg_pipeline__nlp_union__tfidf_pl__dim_red__k=100, score=0.6806176593334526, total= 5.1min\n",
      "[CV] clf__estimator__C=3, features__msg_pipeline__nlp_union__svd_pl__truncated_svd__n_components=250, features__msg_pipeline__nlp_union__tfidf_pl__dim_red__k=500 \n",
      "[CV]  clf__estimator__C=3, features__msg_pipeline__nlp_union__svd_pl__truncated_svd__n_components=250, features__msg_pipeline__nlp_union__tfidf_pl__dim_red__k=100, score=0.6764775553713135, total= 5.2min\n",
      "[CV] clf__estimator__C=3, features__msg_pipeline__nlp_union__svd_pl__truncated_svd__n_components=250, features__msg_pipeline__nlp_union__tfidf_pl__dim_red__k=500 \n",
      "[CV]  clf__estimator__C=3, features__msg_pipeline__nlp_union__svd_pl__truncated_svd__n_components=250, features__msg_pipeline__nlp_union__tfidf_pl__dim_red__k=100, score=0.6774793937782505, total= 5.2min\n",
      "[CV] clf__estimator__C=3, features__msg_pipeline__nlp_union__svd_pl__truncated_svd__n_components=500, features__msg_pipeline__nlp_union__tfidf_pl__dim_red__k=100 \n",
      "[CV]  clf__estimator__C=3, features__msg_pipeline__nlp_union__svd_pl__truncated_svd__n_components=250, features__msg_pipeline__nlp_union__tfidf_pl__dim_red__k=250, score=0.6780404004502103, total= 5.2min\n",
      "[CV] clf__estimator__C=3, features__msg_pipeline__nlp_union__svd_pl__truncated_svd__n_components=500, features__msg_pipeline__nlp_union__tfidf_pl__dim_red__k=100 \n",
      "[CV]  clf__estimator__C=3, features__msg_pipeline__nlp_union__svd_pl__truncated_svd__n_components=250, features__msg_pipeline__nlp_union__tfidf_pl__dim_red__k=250, score=0.6828352650239848, total= 4.7min\n",
      "[CV] clf__estimator__C=3, features__msg_pipeline__nlp_union__svd_pl__truncated_svd__n_components=500, features__msg_pipeline__nlp_union__tfidf_pl__dim_red__k=100 \n",
      "[CV]  clf__estimator__C=3, features__msg_pipeline__nlp_union__svd_pl__truncated_svd__n_components=250, features__msg_pipeline__nlp_union__tfidf_pl__dim_red__k=250, score=0.6773679551490116, total= 4.7min\n",
      "[CV] clf__estimator__C=3, features__msg_pipeline__nlp_union__svd_pl__truncated_svd__n_components=500, features__msg_pipeline__nlp_union__tfidf_pl__dim_red__k=250 \n",
      "[CV]  clf__estimator__C=3, features__msg_pipeline__nlp_union__svd_pl__truncated_svd__n_components=250, features__msg_pipeline__nlp_union__tfidf_pl__dim_red__k=500, score=0.6767542695336696, total= 4.3min\n",
      "[CV] clf__estimator__C=3, features__msg_pipeline__nlp_union__svd_pl__truncated_svd__n_components=500, features__msg_pipeline__nlp_union__tfidf_pl__dim_red__k=250 \n",
      "[CV]  clf__estimator__C=3, features__msg_pipeline__nlp_union__svd_pl__truncated_svd__n_components=250, features__msg_pipeline__nlp_union__tfidf_pl__dim_red__k=500, score=0.6801797779563652, total= 5.2min\n",
      "[CV] clf__estimator__C=3, features__msg_pipeline__nlp_union__svd_pl__truncated_svd__n_components=500, features__msg_pipeline__nlp_union__tfidf_pl__dim_red__k=250 \n",
      "[CV]  clf__estimator__C=3, features__msg_pipeline__nlp_union__svd_pl__truncated_svd__n_components=250, features__msg_pipeline__nlp_union__tfidf_pl__dim_red__k=500, score=0.6763077285579642, total= 5.6min\n",
      "[CV] clf__estimator__C=3, features__msg_pipeline__nlp_union__svd_pl__truncated_svd__n_components=500, features__msg_pipeline__nlp_union__tfidf_pl__dim_red__k=500 \n",
      "[CV]  clf__estimator__C=3, features__msg_pipeline__nlp_union__svd_pl__truncated_svd__n_components=500, features__msg_pipeline__nlp_union__tfidf_pl__dim_red__k=100, score=0.6782648506352295, total= 7.9min\n",
      "[CV] clf__estimator__C=3, features__msg_pipeline__nlp_union__svd_pl__truncated_svd__n_components=500, features__msg_pipeline__nlp_union__tfidf_pl__dim_red__k=500 \n",
      "[CV]  clf__estimator__C=3, features__msg_pipeline__nlp_union__svd_pl__truncated_svd__n_components=500, features__msg_pipeline__nlp_union__tfidf_pl__dim_red__k=100, score=0.684783234498244, total= 7.9min\n",
      "[CV] clf__estimator__C=3, features__msg_pipeline__nlp_union__svd_pl__truncated_svd__n_components=500, features__msg_pipeline__nlp_union__tfidf_pl__dim_red__k=500 \n"
     ]
    },
    {
     "name": "stderr",
     "output_type": "stream",
     "text": [
      "[Parallel(n_jobs=7)]: Done  47 tasks      | elapsed: 35.1min\n"
     ]
    },
    {
     "name": "stdout",
     "output_type": "stream",
     "text": [
      "[CV]  clf__estimator__C=3, features__msg_pipeline__nlp_union__svd_pl__truncated_svd__n_components=500, features__msg_pipeline__nlp_union__tfidf_pl__dim_red__k=100, score=0.6796, total= 7.7min\n",
      "[CV] clf__estimator__C=5, features__msg_pipeline__nlp_union__svd_pl__truncated_svd__n_components=100, features__msg_pipeline__nlp_union__tfidf_pl__dim_red__k=100 \n",
      "[CV]  clf__estimator__C=3, features__msg_pipeline__nlp_union__svd_pl__truncated_svd__n_components=500, features__msg_pipeline__nlp_union__tfidf_pl__dim_red__k=250, score=0.6763990267639902, total= 7.5min\n",
      "[CV] clf__estimator__C=5, features__msg_pipeline__nlp_union__svd_pl__truncated_svd__n_components=100, features__msg_pipeline__nlp_union__tfidf_pl__dim_red__k=100 \n",
      "[CV]  clf__estimator__C=3, features__msg_pipeline__nlp_union__svd_pl__truncated_svd__n_components=500, features__msg_pipeline__nlp_union__tfidf_pl__dim_red__k=250, score=0.6840443245105358, total= 7.3min\n",
      "[CV] clf__estimator__C=5, features__msg_pipeline__nlp_union__svd_pl__truncated_svd__n_components=100, features__msg_pipeline__nlp_union__tfidf_pl__dim_red__k=100 \n",
      "[CV]  clf__estimator__C=3, features__msg_pipeline__nlp_union__svd_pl__truncated_svd__n_components=500, features__msg_pipeline__nlp_union__tfidf_pl__dim_red__k=250, score=0.6813174300435538, total= 7.1min\n",
      "[CV] clf__estimator__C=5, features__msg_pipeline__nlp_union__svd_pl__truncated_svd__n_components=100, features__msg_pipeline__nlp_union__tfidf_pl__dim_red__k=250 \n",
      "[CV]  clf__estimator__C=3, features__msg_pipeline__nlp_union__svd_pl__truncated_svd__n_components=500, features__msg_pipeline__nlp_union__tfidf_pl__dim_red__k=500, score=0.6778792794331086, total= 6.7min\n",
      "[CV] clf__estimator__C=5, features__msg_pipeline__nlp_union__svd_pl__truncated_svd__n_components=100, features__msg_pipeline__nlp_union__tfidf_pl__dim_red__k=250 \n",
      "[CV]  clf__estimator__C=5, features__msg_pipeline__nlp_union__svd_pl__truncated_svd__n_components=100, features__msg_pipeline__nlp_union__tfidf_pl__dim_red__k=100, score=0.6589478829351745, total= 3.5min\n",
      "[CV] clf__estimator__C=5, features__msg_pipeline__nlp_union__svd_pl__truncated_svd__n_components=100, features__msg_pipeline__nlp_union__tfidf_pl__dim_red__k=250 \n",
      "[CV]  clf__estimator__C=5, features__msg_pipeline__nlp_union__svd_pl__truncated_svd__n_components=100, features__msg_pipeline__nlp_union__tfidf_pl__dim_red__k=100, score=0.6565471836137527, total= 3.8min\n",
      "[CV] clf__estimator__C=5, features__msg_pipeline__nlp_union__svd_pl__truncated_svd__n_components=100, features__msg_pipeline__nlp_union__tfidf_pl__dim_red__k=500 \n",
      "[CV]  clf__estimator__C=5, features__msg_pipeline__nlp_union__svd_pl__truncated_svd__n_components=100, features__msg_pipeline__nlp_union__tfidf_pl__dim_red__k=100, score=0.6536401266130996, total= 3.5min\n",
      "[CV] clf__estimator__C=5, features__msg_pipeline__nlp_union__svd_pl__truncated_svd__n_components=100, features__msg_pipeline__nlp_union__tfidf_pl__dim_red__k=500 \n",
      "[CV]  clf__estimator__C=3, features__msg_pipeline__nlp_union__svd_pl__truncated_svd__n_components=500, features__msg_pipeline__nlp_union__tfidf_pl__dim_red__k=500, score=0.6843861465884248, total= 6.6min\n",
      "[CV] clf__estimator__C=5, features__msg_pipeline__nlp_union__svd_pl__truncated_svd__n_components=100, features__msg_pipeline__nlp_union__tfidf_pl__dim_red__k=500 \n",
      "[CV]  clf__estimator__C=3, features__msg_pipeline__nlp_union__svd_pl__truncated_svd__n_components=500, features__msg_pipeline__nlp_union__tfidf_pl__dim_red__k=500, score=0.6784171025699339, total= 6.7min\n",
      "[CV] clf__estimator__C=5, features__msg_pipeline__nlp_union__svd_pl__truncated_svd__n_components=250, features__msg_pipeline__nlp_union__tfidf_pl__dim_red__k=100 \n",
      "[CV]  clf__estimator__C=5, features__msg_pipeline__nlp_union__svd_pl__truncated_svd__n_components=100, features__msg_pipeline__nlp_union__tfidf_pl__dim_red__k=250, score=0.6573066429600564, total= 3.4min\n",
      "[CV] clf__estimator__C=5, features__msg_pipeline__nlp_union__svd_pl__truncated_svd__n_components=250, features__msg_pipeline__nlp_union__tfidf_pl__dim_red__k=100 \n"
     ]
    },
    {
     "name": "stderr",
     "output_type": "stream",
     "text": [
      "[Parallel(n_jobs=7)]: Done  58 tasks      | elapsed: 43.6min\n"
     ]
    },
    {
     "name": "stdout",
     "output_type": "stream",
     "text": [
      "[CV]  clf__estimator__C=5, features__msg_pipeline__nlp_union__svd_pl__truncated_svd__n_components=100, features__msg_pipeline__nlp_union__tfidf_pl__dim_red__k=250, score=0.6550322442617439, total= 3.5min\n",
      "[CV] clf__estimator__C=5, features__msg_pipeline__nlp_union__svd_pl__truncated_svd__n_components=250, features__msg_pipeline__nlp_union__tfidf_pl__dim_red__k=100 \n",
      "[CV]  clf__estimator__C=5, features__msg_pipeline__nlp_union__svd_pl__truncated_svd__n_components=100, features__msg_pipeline__nlp_union__tfidf_pl__dim_red__k=250, score=0.654693778156581, total= 3.3min\n",
      "[CV] clf__estimator__C=5, features__msg_pipeline__nlp_union__svd_pl__truncated_svd__n_components=250, features__msg_pipeline__nlp_union__tfidf_pl__dim_red__k=250 \n",
      "[CV]  clf__estimator__C=5, features__msg_pipeline__nlp_union__svd_pl__truncated_svd__n_components=100, features__msg_pipeline__nlp_union__tfidf_pl__dim_red__k=500, score=0.6537289787960029, total= 3.4min\n",
      "[CV] clf__estimator__C=5, features__msg_pipeline__nlp_union__svd_pl__truncated_svd__n_components=250, features__msg_pipeline__nlp_union__tfidf_pl__dim_red__k=250 \n",
      "[CV]  clf__estimator__C=5, features__msg_pipeline__nlp_union__svd_pl__truncated_svd__n_components=100, features__msg_pipeline__nlp_union__tfidf_pl__dim_red__k=500, score=0.6582409866593399, total= 3.2min\n",
      "[CV] clf__estimator__C=5, features__msg_pipeline__nlp_union__svd_pl__truncated_svd__n_components=250, features__msg_pipeline__nlp_union__tfidf_pl__dim_red__k=250 \n",
      "[CV]  clf__estimator__C=5, features__msg_pipeline__nlp_union__svd_pl__truncated_svd__n_components=100, features__msg_pipeline__nlp_union__tfidf_pl__dim_red__k=500, score=0.6532027495589755, total= 3.1min\n",
      "[CV] clf__estimator__C=5, features__msg_pipeline__nlp_union__svd_pl__truncated_svd__n_components=250, features__msg_pipeline__nlp_union__tfidf_pl__dim_red__k=500 \n",
      "[CV]  clf__estimator__C=5, features__msg_pipeline__nlp_union__svd_pl__truncated_svd__n_components=250, features__msg_pipeline__nlp_union__tfidf_pl__dim_red__k=100, score=0.6782449184887127, total= 5.0min\n",
      "[CV] clf__estimator__C=5, features__msg_pipeline__nlp_union__svd_pl__truncated_svd__n_components=250, features__msg_pipeline__nlp_union__tfidf_pl__dim_red__k=500 \n",
      "[CV]  clf__estimator__C=5, features__msg_pipeline__nlp_union__svd_pl__truncated_svd__n_components=250, features__msg_pipeline__nlp_union__tfidf_pl__dim_red__k=100, score=0.6817938181168482, total= 5.6min\n",
      "[CV] clf__estimator__C=5, features__msg_pipeline__nlp_union__svd_pl__truncated_svd__n_components=250, features__msg_pipeline__nlp_union__tfidf_pl__dim_red__k=500 \n",
      "[CV]  clf__estimator__C=5, features__msg_pipeline__nlp_union__svd_pl__truncated_svd__n_components=250, features__msg_pipeline__nlp_union__tfidf_pl__dim_red__k=100, score=0.6793868328558349, total= 5.6min\n",
      "[CV] clf__estimator__C=5, features__msg_pipeline__nlp_union__svd_pl__truncated_svd__n_components=500, features__msg_pipeline__nlp_union__tfidf_pl__dim_red__k=100 \n",
      "[CV]  clf__estimator__C=5, features__msg_pipeline__nlp_union__svd_pl__truncated_svd__n_components=250, features__msg_pipeline__nlp_union__tfidf_pl__dim_red__k=250, score=0.6791102171212211, total= 5.6min\n",
      "[CV] clf__estimator__C=5, features__msg_pipeline__nlp_union__svd_pl__truncated_svd__n_components=500, features__msg_pipeline__nlp_union__tfidf_pl__dim_red__k=100 \n",
      "[CV]  clf__estimator__C=5, features__msg_pipeline__nlp_union__svd_pl__truncated_svd__n_components=250, features__msg_pipeline__nlp_union__tfidf_pl__dim_red__k=250, score=0.6799355454762472, total= 5.6min\n",
      "[CV] clf__estimator__C=5, features__msg_pipeline__nlp_union__svd_pl__truncated_svd__n_components=500, features__msg_pipeline__nlp_union__tfidf_pl__dim_red__k=100 \n",
      "[CV]  clf__estimator__C=5, features__msg_pipeline__nlp_union__svd_pl__truncated_svd__n_components=250, features__msg_pipeline__nlp_union__tfidf_pl__dim_red__k=250, score=0.6775733993632825, total= 5.6min\n",
      "[CV] clf__estimator__C=5, features__msg_pipeline__nlp_union__svd_pl__truncated_svd__n_components=500, features__msg_pipeline__nlp_union__tfidf_pl__dim_red__k=250 \n",
      "[CV]  clf__estimator__C=5, features__msg_pipeline__nlp_union__svd_pl__truncated_svd__n_components=250, features__msg_pipeline__nlp_union__tfidf_pl__dim_red__k=500, score=0.6748089801457356, total= 4.8min\n",
      "[CV] clf__estimator__C=5, features__msg_pipeline__nlp_union__svd_pl__truncated_svd__n_components=500, features__msg_pipeline__nlp_union__tfidf_pl__dim_red__k=250 \n",
      "[CV]  clf__estimator__C=5, features__msg_pipeline__nlp_union__svd_pl__truncated_svd__n_components=250, features__msg_pipeline__nlp_union__tfidf_pl__dim_red__k=500, score=0.6790714264482953, total= 4.7min\n",
      "[CV] clf__estimator__C=5, features__msg_pipeline__nlp_union__svd_pl__truncated_svd__n_components=500, features__msg_pipeline__nlp_union__tfidf_pl__dim_red__k=250 \n",
      "[CV]  clf__estimator__C=5, features__msg_pipeline__nlp_union__svd_pl__truncated_svd__n_components=250, features__msg_pipeline__nlp_union__tfidf_pl__dim_red__k=500, score=0.6770365997638725, total= 6.1min\n",
      "[CV] clf__estimator__C=5, features__msg_pipeline__nlp_union__svd_pl__truncated_svd__n_components=500, features__msg_pipeline__nlp_union__tfidf_pl__dim_red__k=500 \n",
      "[CV]  clf__estimator__C=5, features__msg_pipeline__nlp_union__svd_pl__truncated_svd__n_components=500, features__msg_pipeline__nlp_union__tfidf_pl__dim_red__k=100, score=0.6759872175302443, total= 8.5min\n",
      "[CV] clf__estimator__C=5, features__msg_pipeline__nlp_union__svd_pl__truncated_svd__n_components=500, features__msg_pipeline__nlp_union__tfidf_pl__dim_red__k=500 \n",
      "[CV]  clf__estimator__C=5, features__msg_pipeline__nlp_union__svd_pl__truncated_svd__n_components=500, features__msg_pipeline__nlp_union__tfidf_pl__dim_red__k=100, score=0.683154697082593, total= 8.5min\n",
      "[CV] clf__estimator__C=5, features__msg_pipeline__nlp_union__svd_pl__truncated_svd__n_components=500, features__msg_pipeline__nlp_union__tfidf_pl__dim_red__k=500 \n",
      "[CV]  clf__estimator__C=5, features__msg_pipeline__nlp_union__svd_pl__truncated_svd__n_components=500, features__msg_pipeline__nlp_union__tfidf_pl__dim_red__k=100, score=0.6790726745837831, total= 8.7min\n",
      "[CV]  clf__estimator__C=5, features__msg_pipeline__nlp_union__svd_pl__truncated_svd__n_components=500, features__msg_pipeline__nlp_union__tfidf_pl__dim_red__k=250, score=0.6751378702598214, total= 8.5min\n",
      "[CV]  clf__estimator__C=5, features__msg_pipeline__nlp_union__svd_pl__truncated_svd__n_components=500, features__msg_pipeline__nlp_union__tfidf_pl__dim_red__k=250, score=0.6814984272233343, total= 7.9min\n"
     ]
    },
    {
     "name": "stderr",
     "output_type": "stream",
     "text": [
      "[Parallel(n_jobs=7)]: Done  77 out of  81 | elapsed: 60.2min remaining:  3.1min\n"
     ]
    },
    {
     "name": "stdout",
     "output_type": "stream",
     "text": [
      "[CV]  clf__estimator__C=5, features__msg_pipeline__nlp_union__svd_pl__truncated_svd__n_components=500, features__msg_pipeline__nlp_union__tfidf_pl__dim_red__k=250, score=0.6777828363305258, total= 7.0min\n",
      "[CV]  clf__estimator__C=5, features__msg_pipeline__nlp_union__svd_pl__truncated_svd__n_components=500, features__msg_pipeline__nlp_union__tfidf_pl__dim_red__k=500, score=0.6725152818655196, total= 5.6min\n",
      "[CV]  clf__estimator__C=5, features__msg_pipeline__nlp_union__svd_pl__truncated_svd__n_components=500, features__msg_pipeline__nlp_union__tfidf_pl__dim_red__k=500, score=0.6830594835976412, total= 4.7min\n",
      "[CV]  clf__estimator__C=5, features__msg_pipeline__nlp_union__svd_pl__truncated_svd__n_components=500, features__msg_pipeline__nlp_union__tfidf_pl__dim_red__k=500, score=0.6763855011628567, total= 4.7min\n"
     ]
    },
    {
     "name": "stderr",
     "output_type": "stream",
     "text": [
      "[Parallel(n_jobs=7)]: Done  81 out of  81 | elapsed: 64.9min finished\n"
     ]
    }
   ],
   "source": [
    "\"\"\" Grid search for improved LogReg model \"\"\"\n",
    "\n",
    "from sklearn.model_selection import RandomizedSearchCV\n",
    "from sklearn.decomposition import NMF, LatentDirichletAllocation\n",
    "from sklearn.preprocessing import FunctionTransformer\n",
    "\n",
    "\n",
    "parameters = {\n",
    "        'clf__estimator__C': [1,3,5],\n",
    "        'features__msg_pipeline__nlp_union__tfidf_pl__dim_red__k' : [100,250,500],\n",
    "        'features__msg_pipeline__nlp_union__svd_pl__truncated_svd__n_components': [100,250, 500],\n",
    "    }\n",
    "\n",
    "\n",
    "\n",
    "cv = GridSearchCV(pipeline, param_grid=parameters,scoring='f1_micro', verbose=10, n_jobs=7)\n",
    "#cv = RandomizedSearchCV(pipeline, param_distributions=parameters,n_iter=20, scoring='f1_micro', verbose=10, n_jobs=-1)\n",
    "15\n",
    "# Fit the grid search object to the training data \n",
    "grid_fit = cv.fit(X_train, y_train)\n",
    "\n",
    "# Get the estimator\n",
    "best_clf = grid_fit.best_estimator_"
   ]
  },
  {
   "cell_type": "code",
   "execution_count": 78,
   "metadata": {
    "scrolled": true
   },
   "outputs": [
    {
     "name": "stdout",
     "output_type": "stream",
     "text": [
      "Accuracy: 0.95\n",
      "\n",
      "\n",
      "Classification report:\n",
      "                         precision    recall  f1-score   support\n",
      "\n",
      "               related       0.87      0.94      0.90     13334\n",
      "               request       0.84      0.58      0.69      2980\n",
      "                 offer       1.00      0.01      0.02        82\n",
      "           aid_related       0.79      0.67      0.73      7277\n",
      "          medical_help       0.68      0.27      0.39      1391\n",
      "      medical_products       0.77      0.26      0.39       906\n",
      "     search_and_rescue       0.83      0.20      0.32       499\n",
      "              security       0.83      0.02      0.03       324\n",
      "              military       0.72      0.37      0.49       593\n",
      "           child_alone       0.00      0.00      0.00         0\n",
      "                 water       0.84      0.61      0.71      1155\n",
      "                  food       0.85      0.68      0.75      1949\n",
      "               shelter       0.82      0.55      0.65      1510\n",
      "              clothing       0.84      0.51      0.63       283\n",
      "                 money       0.74      0.29      0.41       382\n",
      "        missing_people       0.97      0.14      0.25       194\n",
      "              refugees       0.78      0.21      0.34       580\n",
      "                 death       0.84      0.44      0.58       804\n",
      "             other_aid       0.70      0.15      0.25      2284\n",
      "infrastructure_related       0.67      0.06      0.10      1129\n",
      "             transport       0.78      0.19      0.31       801\n",
      "             buildings       0.76      0.34      0.47       863\n",
      "           electricity       0.83      0.41      0.55       359\n",
      "                 tools       1.00      0.01      0.02       101\n",
      "             hospitals       0.82      0.14      0.23       197\n",
      "                 shops       0.00      0.00      0.00        81\n",
      "           aid_centers       1.00      0.07      0.12       180\n",
      "  other_infrastructure       0.67      0.03      0.06       773\n",
      "       weather_related       0.86      0.69      0.77      4856\n",
      "                floods       0.88      0.50      0.64      1448\n",
      "                 storm       0.80      0.59      0.68      1603\n",
      "                  fire       0.84      0.35      0.49       195\n",
      "            earthquake       0.90      0.74      0.81      1638\n",
      "                  cold       0.81      0.39      0.53       357\n",
      "         other_weather       0.67      0.11      0.19       901\n",
      "         direct_report       0.79      0.47      0.59      3391\n",
      "\n",
      "           avg / total       0.82      0.59      0.65     55400\n",
      "\n"
     ]
    }
   ],
   "source": [
    "\"\"\" Tuned Logreg on Train   \"\"\"\n",
    "show_report(best_clf, X_train, y_train)"
   ]
  },
  {
   "cell_type": "code",
   "execution_count": 79,
   "metadata": {
    "scrolled": true
   },
   "outputs": [
    {
     "name": "stdout",
     "output_type": "stream",
     "text": [
      "Accuracy: 0.95\n",
      "\n",
      "\n",
      "Classification report:\n",
      "                         precision    recall  f1-score   support\n",
      "\n",
      "               related       0.85      0.94      0.89      6542\n",
      "               request       0.75      0.63      0.69      1484\n",
      "                 offer       0.50      0.03      0.05        36\n",
      "           aid_related       0.69      0.79      0.73      3564\n",
      "          medical_help       0.58      0.32      0.41       690\n",
      "      medical_products       0.62      0.32      0.43       405\n",
      "     search_and_rescue       0.62      0.16      0.25       225\n",
      "              security       0.50      0.01      0.01       147\n",
      "              military       0.51      0.35      0.42       266\n",
      "           child_alone       0.00      0.00      0.00         0\n",
      "                 water       0.69      0.73      0.71       514\n",
      "                  food       0.79      0.76      0.77       968\n",
      "               shelter       0.73      0.63      0.68       798\n",
      "              clothing       0.73      0.55      0.62       121\n",
      "                 money       0.49      0.30      0.37       221\n",
      "        missing_people       0.67      0.04      0.07       104\n",
      "              refugees       0.59      0.19      0.29       294\n",
      "                 death       0.72      0.49      0.58       388\n",
      "             other_aid       0.56      0.22      0.32      1157\n",
      "infrastructure_related       0.42      0.06      0.10       576\n",
      "             transport       0.60      0.22      0.33       398\n",
      "             buildings       0.63      0.43      0.51       468\n",
      "           electricity       0.51      0.41      0.45       173\n",
      "                 tools       0.00      0.00      0.00        58\n",
      "             hospitals       0.48      0.12      0.19        86\n",
      "                 shops       0.00      0.00      0.00        39\n",
      "           aid_centers       0.41      0.07      0.12       129\n",
      "  other_infrastructure       0.32      0.03      0.06       378\n",
      "       weather_related       0.80      0.77      0.78      2430\n",
      "                floods       0.79      0.55      0.65       701\n",
      "                 storm       0.72      0.68      0.70       837\n",
      "                  fire       0.56      0.22      0.31        87\n",
      "            earthquake       0.89      0.79      0.84       814\n",
      "                  cold       0.67      0.38      0.49       171\n",
      "         other_weather       0.63      0.14      0.22       475\n",
      "         direct_report       0.68      0.54      0.60      1673\n",
      "\n",
      "           avg / total       0.72      0.64      0.66     27417\n",
      "\n"
     ]
    }
   ],
   "source": [
    "\"\"\" Tuned Logreg on Test   \"\"\"\n",
    "show_report(best_clf, X_test, y_test)"
   ]
  },
  {
   "cell_type": "code",
   "execution_count": 80,
   "metadata": {},
   "outputs": [
    {
     "data": {
      "text/plain": [
       "{'clf__estimator__C': 1,\n",
       " 'features__msg_pipeline__nlp_union__svd_pl__truncated_svd__n_components': 500,\n",
       " 'features__msg_pipeline__nlp_union__tfidf_pl__dim_red__k': 100}"
      ]
     },
     "execution_count": 80,
     "metadata": {},
     "output_type": "execute_result"
    }
   ],
   "source": [
    "cv.best_params_"
   ]
  },
  {
   "cell_type": "markdown",
   "metadata": {},
   "source": [
    "### 9. Export your model as a pickle file"
   ]
  },
  {
   "cell_type": "code",
   "execution_count": 44,
   "metadata": {},
   "outputs": [],
   "source": [
    "import pickle\n",
    "def save(model, filename):\n",
    "    pickle.dump(model, open(filename, 'wb'))\n",
    "\n",
    "def load(filename):\n",
    "    return pickle.load(open(filename, 'rb'))\n"
   ]
  },
  {
   "cell_type": "code",
   "execution_count": 81,
   "metadata": {},
   "outputs": [],
   "source": [
    "save(best_clf, \"Improved_LogReg_tuned.pkl\")"
   ]
  },
  {
   "cell_type": "markdown",
   "metadata": {},
   "source": [
    "### 10. Use this notebook to complete `train.py`\n",
    "Use the template file attached in the Resources folder to write a script that runs the steps above to create a database and export a model based on a new dataset specified by the user."
   ]
  },
  {
   "cell_type": "code",
   "execution_count": null,
   "metadata": {},
   "outputs": [],
   "source": []
  }
 ],
 "metadata": {
  "kernelspec": {
   "display_name": "Python [default]",
   "language": "python",
   "name": "python3"
  },
  "language_info": {
   "codemirror_mode": {
    "name": "ipython",
    "version": 3
   },
   "file_extension": ".py",
   "mimetype": "text/x-python",
   "name": "python",
   "nbconvert_exporter": "python",
   "pygments_lexer": "ipython3",
   "version": "3.5.5"
  }
 },
 "nbformat": 4,
 "nbformat_minor": 2
}
