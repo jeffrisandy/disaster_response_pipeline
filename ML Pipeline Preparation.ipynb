{
 "cells": [
  {
   "cell_type": "markdown",
   "metadata": {},
   "source": [
    "# ML Pipeline Preparation\n",
    "Follow the instructions below to help you create your ML pipeline.\n",
    "### 1. Import libraries and load data from database.\n",
    "- Import Python libraries\n",
    "- Load dataset from database with [`read_sql_table`](https://pandas.pydata.org/pandas-docs/stable/generated/pandas.read_sql_table.html)\n",
    "- Define feature and target variables X and Y"
   ]
  },
  {
   "cell_type": "code",
   "execution_count": 179,
   "metadata": {},
   "outputs": [
    {
     "name": "stdout",
     "output_type": "stream",
     "text": [
      "[nltk_data] Downloading package punkt to /Users/jeffsan/nltk_data...\n",
      "[nltk_data]   Package punkt is already up-to-date!\n",
      "[nltk_data] Downloading package wordnet to /Users/jeffsan/nltk_data...\n",
      "[nltk_data]   Package wordnet is already up-to-date!\n",
      "[nltk_data] Downloading package stopwords to\n",
      "[nltk_data]     /Users/jeffsan/nltk_data...\n",
      "[nltk_data]   Package stopwords is already up-to-date!\n"
     ]
    }
   ],
   "source": [
    "# import libraries\n",
    "import pandas as pd\n",
    "import numpy as np\n",
    "import os\n",
    "from sqlalchemy import create_engine\n",
    "\n",
    "# download necessary NLTK data\n",
    "import nltk\n",
    "nltk.download(['punkt', 'wordnet', 'stopwords'])\n",
    "from nltk.tokenize import word_tokenize\n",
    "from nltk.stem import WordNetLemmatizer\n",
    "from nltk.corpus import stopwords \n",
    "import re\n",
    "\n",
    "#sklearn\n",
    "from sklearn.metrics import confusion_matrix\n",
    "from sklearn.model_selection import train_test_split as tts\n",
    "from sklearn.linear_model import LogisticRegression\n",
    "from sklearn.ensemble import RandomForestClassifier\n",
    "from sklearn.preprocessing import FunctionTransformer\n",
    "from sklearn.feature_extraction.text import CountVectorizer, TfidfTransformer\n",
    "from sklearn.pipeline import Pipeline,  FeatureUnion\n",
    "from sklearn.metrics import classification_report\n",
    "from sklearn.multiclass import OneVsRestClassifier\n",
    "from sklearn.multioutput import MultiOutputClassifier"
   ]
  },
  {
   "cell_type": "code",
   "execution_count": 180,
   "metadata": {},
   "outputs": [],
   "source": [
    "# load data from database\n",
    "engine = create_engine('sqlite:///DisasterResponse.db')\n",
    "df = pd.read_sql(\"SELECT * FROM messages\", engine)\n",
    "X = df[['message', 'genre']]\n",
    "Y = df.drop(columns=['id', 'message', 'original','genre'])\n"
   ]
  },
  {
   "cell_type": "markdown",
   "metadata": {},
   "source": [
    "### 2. Write a tokenization function to process your text data"
   ]
  },
  {
   "cell_type": "code",
   "execution_count": 181,
   "metadata": {},
   "outputs": [],
   "source": [
    "def tokenize(text):\n",
    "    #remove punctuation\n",
    "    text = re.sub(r\"[^a-zA-Z0-9]\", \" \", text)\n",
    "    \n",
    "    #tokenize text\n",
    "    tokens = word_tokenize(text)\n",
    "    \n",
    "    # initiate lemmatizer\n",
    "    lemmatizer = WordNetLemmatizer()\n",
    "    \n",
    "    #iterate for each tokens\n",
    "    clean_tokens = []\n",
    "    for tok in tokens:\n",
    "        \n",
    "        if tok not in stopwords.words('english'):\n",
    "            # lemmatize, normalize case, and remove leading/trailing white space\n",
    "            clean_tok = lemmatizer.lemmatize(tok).lower().strip()\n",
    "\n",
    "            clean_tokens.append(clean_tok)\n",
    "    \n",
    "    return clean_tokens\n",
    "    "
   ]
  },
  {
   "cell_type": "markdown",
   "metadata": {},
   "source": [
    "### 3. Build a machine learning pipeline\n",
    "- You'll find the [MultiOutputClassifier](http://scikit-learn.org/stable/modules/generated/sklearn.multioutput.MultiOutputClassifier.html) helpful for predicting multiple target variables."
   ]
  },
  {
   "cell_type": "code",
   "execution_count": 182,
   "metadata": {},
   "outputs": [],
   "source": [
    "from sklearn.preprocessing import FunctionTransformer\n",
    "\n",
    "get_msg_data = FunctionTransformer(lambda x: x['message'], validate=False)\n",
    "get_genre_data = FunctionTransformer(lambda x: pd.get_dummies(x['genre']), validate=False)"
   ]
  },
  {
   "cell_type": "code",
   "execution_count": 184,
   "metadata": {},
   "outputs": [],
   "source": [
    "msg_pipeline = Pipeline([\n",
    "    ('msg_selector', get_msg_data),\n",
    "    ('vect', CountVectorizer(tokenizer=tokenize)),\n",
    "    ('tfidf', TfidfTransformer()),\n",
    "])\n",
    "\n",
    "features_pipeline_union = FeatureUnion([\n",
    "    ('msg_pipeline', msg_pipeline),\n",
    "    ('genre_pipeline', get_genre_data)\n",
    "])\n",
    "\n",
    "pipeline = Pipeline([\n",
    "    ('features', features_pipeline_union),\n",
    "    ('clf', MultiOutputClassifier(RandomForestClassifier(random_state=42), n_jobs=-1))\n",
    "    #('clf', OneVsRestClassifier(LogisticRegression()))\n",
    "])"
   ]
  },
  {
   "cell_type": "markdown",
   "metadata": {},
   "source": [
    "### 4. Train pipeline\n",
    "- Split data into train and test sets\n",
    "- Train pipeline"
   ]
  },
  {
   "cell_type": "code",
   "execution_count": 185,
   "metadata": {},
   "outputs": [
    {
     "data": {
      "text/plain": [
       "Pipeline(memory=None,\n",
       "     steps=[('features', FeatureUnion(n_jobs=1,\n",
       "       transformer_list=[('msg_pipeline', Pipeline(memory=None,\n",
       "     steps=[('msg_selector', FunctionTransformer(accept_sparse=False,\n",
       "          func=<function <lambda> at 0x1364bb510>, inv_kw_args=None,\n",
       "          inverse_func=None, kw_args=None, pass_y='dep...\n",
       "            oob_score=False, random_state=42, verbose=0, warm_start=False),\n",
       "           n_jobs=-1))])"
      ]
     },
     "execution_count": 185,
     "metadata": {},
     "output_type": "execute_result"
    }
   ],
   "source": [
    "X_train, X_test, y_train, y_test = tts(X,Y,test_size=0.33, random_state= 42)\n",
    "\n",
    "pipeline.fit(X_train, y_train)"
   ]
  },
  {
   "cell_type": "markdown",
   "metadata": {},
   "source": [
    "### 5. Test your model\n",
    "Report the f1 score, precision and recall on both the training set and the test set. You can use sklearn's `classification_report` function here. "
   ]
  },
  {
   "cell_type": "code",
   "execution_count": 186,
   "metadata": {},
   "outputs": [],
   "source": []
  },
  {
   "cell_type": "code",
   "execution_count": null,
   "metadata": {},
   "outputs": [],
   "source": [
    "\"\"\" Performance on Training Dataset \"\"\"\n",
    "y_pred = pipeline.predict(X_train)\n",
    "labels = y_train.columns.tolist()\n",
    "class_report = classification_report(y_train, y_pred, target_names=labels)\n",
    "accuracy = (y_pred == y_train).mean()\n",
    "\n",
    "#print(\"Labels:\\n\", labels)\n",
    "print(\"\\nClassification report:\\n\", class_report)\n",
    "print(\"\\nAccuracy:\\n\", accuracy)"
   ]
  },
  {
   "cell_type": "code",
   "execution_count": 193,
   "metadata": {
    "scrolled": false
   },
   "outputs": [
    {
     "name": "stdout",
     "output_type": "stream",
     "text": [
      "Labels:\n",
      " ['related', 'request', 'offer', 'aid_related', 'medical_help', 'medical_products', 'search_and_rescue', 'security', 'military', 'child_alone', 'water', 'food', 'shelter', 'clothing', 'money', 'missing_people', 'refugees', 'death', 'other_aid', 'infrastructure_related', 'transport', 'buildings', 'electricity', 'tools', 'hospitals', 'shops', 'aid_centers', 'other_infrastructure', 'weather_related', 'floods', 'storm', 'fire', 'earthquake', 'cold', 'other_weather', 'direct_report']\n",
      "\n",
      "Classification report:\n",
      "                         precision    recall  f1-score   support\n",
      "\n",
      "               related       0.85      0.92      0.88      6542\n",
      "               request       0.80      0.46      0.58      1484\n",
      "                 offer       0.00      0.00      0.00        36\n",
      "           aid_related       0.75      0.60      0.67      3564\n",
      "          medical_help       0.56      0.10      0.17       690\n",
      "      medical_products       0.75      0.08      0.15       405\n",
      "     search_and_rescue       0.65      0.14      0.23       225\n",
      "              security       0.12      0.01      0.01       147\n",
      "              military       0.61      0.11      0.19       266\n",
      "           child_alone       0.00      0.00      0.00         0\n",
      "                 water       0.80      0.36      0.50       514\n",
      "                  food       0.85      0.39      0.53       968\n",
      "               shelter       0.85      0.31      0.46       798\n",
      "              clothing       0.85      0.19      0.31       121\n",
      "                 money       0.73      0.04      0.07       221\n",
      "        missing_people       0.67      0.02      0.04       104\n",
      "              refugees       0.67      0.04      0.08       294\n",
      "                 death       0.86      0.13      0.22       388\n",
      "             other_aid       0.46      0.04      0.08      1157\n",
      "infrastructure_related       0.31      0.01      0.01       576\n",
      "             transport       0.78      0.10      0.17       398\n",
      "             buildings       0.75      0.11      0.20       468\n",
      "           electricity       0.64      0.05      0.10       173\n",
      "                 tools       0.00      0.00      0.00        58\n",
      "             hospitals       0.00      0.00      0.00        86\n",
      "                 shops       0.00      0.00      0.00        39\n",
      "           aid_centers       0.00      0.00      0.00       129\n",
      "  other_infrastructure       0.00      0.00      0.00       378\n",
      "       weather_related       0.83      0.62      0.71      2430\n",
      "                floods       0.91      0.37      0.53       701\n",
      "                 storm       0.72      0.34      0.46       837\n",
      "                  fire       1.00      0.03      0.07        87\n",
      "            earthquake       0.90      0.72      0.80       814\n",
      "                  cold       0.93      0.08      0.14       171\n",
      "         other_weather       0.58      0.04      0.08       475\n",
      "         direct_report       0.75      0.35      0.48      1673\n",
      "\n",
      "           avg / total       0.75      0.49      0.54     27417\n",
      "\n",
      "\n",
      "Accuracy:\n",
      " related                   0.811028\n",
      "request                   0.886337\n",
      "offer                     0.995803\n",
      "aid_related               0.751224\n",
      "medical_help              0.921194\n",
      "medical_products          0.955351\n",
      "search_and_rescue         0.975402\n",
      "security                  0.982164\n",
      "military                  0.970273\n",
      "child_alone               1.000000\n",
      "water                     0.956400\n",
      "food                      0.922942\n",
      "shelter                   0.930870\n",
      "clothing                  0.988109\n",
      "money                     0.974819\n",
      "missing_people            0.987993\n",
      "refugees                  0.966426\n",
      "death                     0.959664\n",
      "other_aid                 0.864187\n",
      "infrastructure_related    0.932269\n",
      "transport                 0.956750\n",
      "buildings                 0.949522\n",
      "electricity               0.980298\n",
      "tools                     0.993239\n",
      "hospitals                 0.989741\n",
      "shops                     0.995453\n",
      "aid_centers               0.984962\n",
      "other_infrastructure      0.955584\n",
      "weather_related           0.855211\n",
      "floods                    0.945792\n",
      "storm                     0.922826\n",
      "fire                      0.990208\n",
      "earthquake                0.966309\n",
      "cold                      0.981464\n",
      "other_weather             0.945325\n",
      "direct_report             0.850781\n",
      "dtype: float64\n"
     ]
    },
    {
     "name": "stderr",
     "output_type": "stream",
     "text": [
      "/Users/jeffsan/anaconda/lib/python3.5/site-packages/sklearn/metrics/classification.py:1135: UndefinedMetricWarning: Precision and F-score are ill-defined and being set to 0.0 in labels with no predicted samples.\n",
      "  'precision', 'predicted', average, warn_for)\n",
      "/Users/jeffsan/anaconda/lib/python3.5/site-packages/sklearn/metrics/classification.py:1137: UndefinedMetricWarning: Recall and F-score are ill-defined and being set to 0.0 in labels with no true samples.\n",
      "  'recall', 'true', average, warn_for)\n"
     ]
    }
   ],
   "source": [
    "\"\"\" Performance on Training Dataset \"\"\"\n",
    "labels = y_test.columns.tolist()\n",
    "class_report = classification_report(y_test, y_pred, target_names=labels)\n",
    "accuracy = (y_pred == y_test).mean()\n",
    "\n",
    "#print(\"Labels:\\n\", labels)\n",
    "print(\"\\nClassification report:\\n\", class_report)\n",
    "print(\"\\nAccuracy:\\n\", accuracy)"
   ]
  },
  {
   "cell_type": "code",
   "execution_count": 198,
   "metadata": {},
   "outputs": [
    {
     "name": "stdout",
     "output_type": "stream",
     "text": [
      "label related : precision = 0.85, recall = 0.92, f1 = 0.88\n",
      "label request : precision = 0.80, recall = 0.46, f1 = 0.58\n",
      "label offer : precision = 0.00, recall = 0.00, f1 = 0.00\n",
      "label aid_related : precision = 0.75, recall = 0.60, f1 = 0.67\n",
      "label medical_help : precision = 0.56, recall = 0.10, f1 = 0.17\n",
      "label medical_products : precision = 0.75, recall = 0.08, f1 = 0.15\n",
      "label search_and_rescue : precision = 0.65, recall = 0.14, f1 = 0.23\n",
      "label security : precision = 0.12, recall = 0.01, f1 = 0.01\n",
      "label military : precision = 0.61, recall = 0.11, f1 = 0.19\n",
      "label child_alone : precision = 0.00, recall = 0.00, f1 = 0.00\n",
      "label water : precision = 0.80, recall = 0.36, f1 = 0.50\n",
      "label food : precision = 0.85, recall = 0.39, f1 = 0.53\n",
      "label shelter : precision = 0.85, recall = 0.31, f1 = 0.46\n",
      "label clothing : precision = 0.85, recall = 0.19, f1 = 0.31\n",
      "label money : precision = 0.73, recall = 0.04, f1 = 0.07\n",
      "label missing_people : precision = 0.67, recall = 0.02, f1 = 0.04\n",
      "label refugees : precision = 0.67, recall = 0.04, f1 = 0.08\n",
      "label death : precision = 0.86, recall = 0.13, f1 = 0.22\n",
      "label other_aid : precision = 0.46, recall = 0.04, f1 = 0.08\n",
      "label infrastructure_related : precision = 0.31, recall = 0.01, f1 = 0.01\n",
      "label transport : precision = 0.78, recall = 0.10, f1 = 0.17\n",
      "label buildings : precision = 0.75, recall = 0.11, f1 = 0.20\n",
      "label electricity : precision = 0.64, recall = 0.05, f1 = 0.10\n",
      "label tools : precision = 0.00, recall = 0.00, f1 = 0.00\n",
      "label hospitals : precision = 0.00, recall = 0.00, f1 = 0.00\n",
      "label shops : precision = 0.00, recall = 0.00, f1 = 0.00\n",
      "label aid_centers : precision = 0.00, recall = 0.00, f1 = 0.00\n",
      "label other_infrastructure : precision = 0.00, recall = 0.00, f1 = 0.00\n",
      "label weather_related : precision = 0.83, recall = 0.62, f1 = 0.71\n",
      "label floods : precision = 0.91, recall = 0.37, f1 = 0.53\n",
      "label storm : precision = 0.72, recall = 0.34, f1 = 0.46\n",
      "label fire : precision = 1.00, recall = 0.03, f1 = 0.07\n",
      "label earthquake : precision = 0.90, recall = 0.72, f1 = 0.80\n",
      "label cold : precision = 0.93, recall = 0.08, f1 = 0.14\n",
      "label other_weather : precision = 0.58, recall = 0.04, f1 = 0.08\n",
      "label direct_report : precision = 0.75, recall = 0.35, f1 = 0.48\n"
     ]
    },
    {
     "name": "stderr",
     "output_type": "stream",
     "text": [
      "/Users/jeffsan/anaconda/lib/python3.5/site-packages/sklearn/metrics/classification.py:1135: UndefinedMetricWarning: Precision and F-score are ill-defined and being set to 0.0 due to no predicted samples.\n",
      "  'precision', 'predicted', average, warn_for)\n"
     ]
    }
   ],
   "source": [
    "from sklearn.metrics import precision_recall_fscore_support\n",
    "\n",
    "for i,label in enumerate(y_test.columns):\n",
    "    prec, recall, f1, _ = precision_recall_fscore_support(y_test[label], y_pred[:,i], average='binary')\n",
    "    print(\"label {} : precision = {:.2f}, recall = {:.2f}, f1 = {:.2f}\".format(label, prec, recall, f1))"
   ]
  },
  {
   "cell_type": "code",
   "execution_count": 129,
   "metadata": {
    "scrolled": true
   },
   "outputs": [
    {
     "name": "stdout",
     "output_type": "stream",
     "text": [
      "label related : precision = 0.81, recall = 0.81, f1 = 0.81\n",
      "label request : precision = 0.89, recall = 0.89, f1 = 0.89\n",
      "label offer : precision = 1.00, recall = 1.00, f1 = 1.00\n",
      "label aid_related : precision = 0.75, recall = 0.75, f1 = 0.75\n",
      "label medical_help : precision = 0.92, recall = 0.92, f1 = 0.92\n",
      "label medical_products : precision = 0.95, recall = 0.95, f1 = 0.95\n",
      "label search_and_rescue : precision = 0.97, recall = 0.97, f1 = 0.97\n",
      "label security : precision = 0.98, recall = 0.98, f1 = 0.98\n",
      "label military : precision = 0.97, recall = 0.97, f1 = 0.97\n",
      "label child_alone : precision = 1.00, recall = 1.00, f1 = 1.00\n",
      "label water : precision = 0.95, recall = 0.95, f1 = 0.95\n",
      "label food : precision = 0.93, recall = 0.93, f1 = 0.93\n",
      "label shelter : precision = 0.93, recall = 0.93, f1 = 0.93\n",
      "label clothing : precision = 0.99, recall = 0.99, f1 = 0.99\n",
      "label money : precision = 0.98, recall = 0.98, f1 = 0.98\n",
      "label missing_people : precision = 0.99, recall = 0.99, f1 = 0.99\n",
      "label refugees : precision = 0.97, recall = 0.97, f1 = 0.97\n",
      "label death : precision = 0.96, recall = 0.96, f1 = 0.96\n",
      "label other_aid : precision = 0.87, recall = 0.87, f1 = 0.87\n",
      "label infrastructure_related : precision = 0.94, recall = 0.94, f1 = 0.94\n",
      "label transport : precision = 0.96, recall = 0.96, f1 = 0.96\n",
      "label buildings : precision = 0.95, recall = 0.95, f1 = 0.95\n",
      "label electricity : precision = 0.98, recall = 0.98, f1 = 0.98\n",
      "label tools : precision = 1.00, recall = 1.00, f1 = 1.00\n",
      "label hospitals : precision = 0.99, recall = 0.99, f1 = 0.99\n",
      "label shops : precision = 1.00, recall = 1.00, f1 = 1.00\n",
      "label aid_centers : precision = 0.99, recall = 0.99, f1 = 0.99\n",
      "label other_infrastructure : precision = 0.96, recall = 0.96, f1 = 0.96\n",
      "label weather_related : precision = 0.86, recall = 0.86, f1 = 0.86\n",
      "label floods : precision = 0.95, recall = 0.95, f1 = 0.95\n",
      "label storm : precision = 0.93, recall = 0.93, f1 = 0.93\n",
      "label fire : precision = 0.99, recall = 0.99, f1 = 0.99\n",
      "label earthquake : precision = 0.96, recall = 0.96, f1 = 0.96\n",
      "label cold : precision = 0.98, recall = 0.98, f1 = 0.98\n",
      "label other_weather : precision = 0.95, recall = 0.95, f1 = 0.95\n",
      "label direct_report : precision = 0.85, recall = 0.85, f1 = 0.85\n"
     ]
    }
   ],
   "source": [
    "report = pd.DataFrame(index = y_test.columns)\n",
    "from sklearn.metrics import f1_score, recall_score, precision_score\n",
    "for i,label in enumerate(y_test.columns):\n",
    "    f_1 = f1_score(y_test[label], y_pred[:,i], average='micro')\n",
    "    rec = recall_score(y_test[label], y_pred[:,i], average='micro')\n",
    "    precision = precision_score(y_test[label], y_pred[:,i], average='micro')\n",
    "    print(\"label {} : precision = {:.2f}, recall = {:.2f}, f1 = {:.2f}\".format(label, precision, rec, f_1))"
   ]
  },
  {
   "cell_type": "code",
   "execution_count": 132,
   "metadata": {},
   "outputs": [
    {
     "name": "stdout",
     "output_type": "stream",
     "text": [
      "label related : ,recall = 0.81, f1 = 0.81\n",
      "label request : ,recall = 0.89, f1 = 0.89\n",
      "label offer : ,recall = 1.00, f1 = 1.00\n",
      "label aid_related : ,recall = 0.75, f1 = 0.75\n",
      "label medical_help : ,recall = 0.92, f1 = 0.92\n",
      "label medical_products : ,recall = 0.95, f1 = 0.95\n",
      "label search_and_rescue : ,recall = 0.97, f1 = 0.97\n",
      "label security : ,recall = 0.98, f1 = 0.98\n",
      "label military : ,recall = 0.97, f1 = 0.97\n",
      "label child_alone : ,recall = 1.00, f1 = 1.00\n",
      "label water : ,recall = 0.95, f1 = 0.95\n",
      "label food : ,recall = 0.93, f1 = 0.93\n",
      "label shelter : ,recall = 0.93, f1 = 0.93\n",
      "label clothing : ,recall = 0.99, f1 = 0.99\n",
      "label money : ,recall = 0.98, f1 = 0.98\n",
      "label missing_people : ,recall = 0.99, f1 = 0.99\n",
      "label refugees : ,recall = 0.97, f1 = 0.97\n",
      "label death : ,recall = 0.96, f1 = 0.96\n",
      "label other_aid : ,recall = 0.87, f1 = 0.87\n",
      "label infrastructure_related : ,recall = 0.94, f1 = 0.94\n",
      "label transport : ,recall = 0.96, f1 = 0.96\n",
      "label buildings : ,recall = 0.95, f1 = 0.95\n",
      "label electricity : ,recall = 0.98, f1 = 0.98\n",
      "label tools : ,recall = 1.00, f1 = 1.00\n",
      "label hospitals : ,recall = 0.99, f1 = 0.99\n",
      "label shops : ,recall = 1.00, f1 = 1.00\n",
      "label aid_centers : ,recall = 0.99, f1 = 0.99\n",
      "label other_infrastructure : ,recall = 0.96, f1 = 0.96\n",
      "label weather_related : ,recall = 0.86, f1 = 0.86\n",
      "label floods : ,recall = 0.95, f1 = 0.95\n",
      "label storm : ,recall = 0.93, f1 = 0.93\n",
      "label fire : ,recall = 0.99, f1 = 0.99\n",
      "label earthquake : ,recall = 0.96, f1 = 0.96\n",
      "label cold : ,recall = 0.98, f1 = 0.98\n",
      "label other_weather : ,recall = 0.95, f1 = 0.95\n",
      "label direct_report : ,recall = 0.85, f1 = 0.85\n"
     ]
    }
   ],
   "source": [
    "report = pd.DataFrame(index = y_test.columns)\n",
    "from sklearn.metrics import f1_score, recall_score, precision_score\n",
    "for i,label in enumerate(y_test.columns):\n",
    "    f_1 = f1_score(y_test[label], y_pred[:,i], average='micro')\n",
    "    rec = recall_score(y_test[label], y_pred[:,i], average='micro')\n",
    "    #precision = precision_score(y_test[label], y_pred[:,i], average='micro')\n",
    "    print(\"label {} : ,recall = {:.2f}, f1 = {:.2f}\".format(label, rec, f_1))"
   ]
  },
  {
   "cell_type": "code",
   "execution_count": 164,
   "metadata": {},
   "outputs": [
    {
     "data": {
      "text/plain": [
       "0.7955196576327143"
      ]
     },
     "execution_count": 164,
     "metadata": {},
     "output_type": "execute_result"
    }
   ],
   "source": [
    "f1_score(y_test.iloc[:,0], y_pred[:,0], average='weighted')\n",
    "    "
   ]
  },
  {
   "cell_type": "code",
   "execution_count": 168,
   "metadata": {},
   "outputs": [
    {
     "ename": "ValueError",
     "evalue": "Target is multiclass but average='binary'. Please choose another average setting.",
     "output_type": "error",
     "traceback": [
      "\u001b[0;31m---------------------------------------------------------------------------\u001b[0m",
      "\u001b[0;31mValueError\u001b[0m                                Traceback (most recent call last)",
      "\u001b[0;32m<ipython-input-168-45f483cba4d5>\u001b[0m in \u001b[0;36m<module>\u001b[0;34m()\u001b[0m\n\u001b[0;32m----> 1\u001b[0;31m \u001b[0mprecision_score\u001b[0m\u001b[0;34m(\u001b[0m\u001b[0my_test\u001b[0m\u001b[0;34m.\u001b[0m\u001b[0miloc\u001b[0m\u001b[0;34m[\u001b[0m\u001b[0;34m:\u001b[0m\u001b[0;34m,\u001b[0m\u001b[0;36m0\u001b[0m\u001b[0;34m]\u001b[0m\u001b[0;34m,\u001b[0m \u001b[0my_pred\u001b[0m\u001b[0;34m[\u001b[0m\u001b[0;34m:\u001b[0m\u001b[0;34m,\u001b[0m\u001b[0;36m0\u001b[0m\u001b[0;34m]\u001b[0m\u001b[0;34m)\u001b[0m\u001b[0;34m\u001b[0m\u001b[0m\n\u001b[0m",
      "\u001b[0;32m~/anaconda/lib/python3.5/site-packages/sklearn/metrics/classification.py\u001b[0m in \u001b[0;36mprecision_score\u001b[0;34m(y_true, y_pred, labels, pos_label, average, sample_weight)\u001b[0m\n\u001b[1;32m   1259\u001b[0m                                                  \u001b[0maverage\u001b[0m\u001b[0;34m=\u001b[0m\u001b[0maverage\u001b[0m\u001b[0;34m,\u001b[0m\u001b[0;34m\u001b[0m\u001b[0m\n\u001b[1;32m   1260\u001b[0m                                                  \u001b[0mwarn_for\u001b[0m\u001b[0;34m=\u001b[0m\u001b[0;34m(\u001b[0m\u001b[0;34m'precision'\u001b[0m\u001b[0;34m,\u001b[0m\u001b[0;34m)\u001b[0m\u001b[0;34m,\u001b[0m\u001b[0;34m\u001b[0m\u001b[0m\n\u001b[0;32m-> 1261\u001b[0;31m                                                  sample_weight=sample_weight)\n\u001b[0m\u001b[1;32m   1262\u001b[0m     \u001b[0;32mreturn\u001b[0m \u001b[0mp\u001b[0m\u001b[0;34m\u001b[0m\u001b[0m\n\u001b[1;32m   1263\u001b[0m \u001b[0;34m\u001b[0m\u001b[0m\n",
      "\u001b[0;32m~/anaconda/lib/python3.5/site-packages/sklearn/metrics/classification.py\u001b[0m in \u001b[0;36mprecision_recall_fscore_support\u001b[0;34m(y_true, y_pred, beta, labels, pos_label, average, warn_for, sample_weight)\u001b[0m\n\u001b[1;32m   1038\u001b[0m         \u001b[0;32melse\u001b[0m\u001b[0;34m:\u001b[0m\u001b[0;34m\u001b[0m\u001b[0m\n\u001b[1;32m   1039\u001b[0m             raise ValueError(\"Target is %s but average='binary'. Please \"\n\u001b[0;32m-> 1040\u001b[0;31m                              \"choose another average setting.\" % y_type)\n\u001b[0m\u001b[1;32m   1041\u001b[0m     \u001b[0;32melif\u001b[0m \u001b[0mpos_label\u001b[0m \u001b[0;32mnot\u001b[0m \u001b[0;32min\u001b[0m \u001b[0;34m(\u001b[0m\u001b[0;32mNone\u001b[0m\u001b[0;34m,\u001b[0m \u001b[0;36m1\u001b[0m\u001b[0;34m)\u001b[0m\u001b[0;34m:\u001b[0m\u001b[0;34m\u001b[0m\u001b[0m\n\u001b[1;32m   1042\u001b[0m         warnings.warn(\"Note that pos_label (set to %r) is ignored when \"\n",
      "\u001b[0;31mValueError\u001b[0m: Target is multiclass but average='binary'. Please choose another average setting."
     ]
    }
   ],
   "source": [
    "precision_score(y_test.iloc[:,0], y_pred[:,0])"
   ]
  },
  {
   "cell_type": "code",
   "execution_count": 171,
   "metadata": {},
   "outputs": [
    {
     "data": {
      "text/plain": [
       "10239    1\n",
       "22968    1\n",
       "11552    0\n",
       "17980    1\n",
       "18987    1\n",
       "12903    1\n",
       "5653     1\n",
       "25637    1\n",
       "14219    1\n",
       "10338    1\n",
       "22275    0\n",
       "22444    1\n",
       "6224     1\n",
       "20195    0\n",
       "21312    0\n",
       "14169    1\n",
       "14314    1\n",
       "4936     0\n",
       "25343    1\n",
       "16321    1\n",
       "17306    1\n",
       "10856    1\n",
       "6125     1\n",
       "25033    1\n",
       "6743     0\n",
       "4192     1\n",
       "19748    1\n",
       "19595    1\n",
       "6850     0\n",
       "9951     1\n",
       "        ..\n",
       "9921     1\n",
       "9717     1\n",
       "9658     1\n",
       "9196     1\n",
       "13673    1\n",
       "12498    0\n",
       "6632     1\n",
       "14221    1\n",
       "1960     0\n",
       "20882    1\n",
       "12155    1\n",
       "725      1\n",
       "23304    1\n",
       "1519     1\n",
       "22934    1\n",
       "10108    1\n",
       "21810    1\n",
       "12394    1\n",
       "8755     1\n",
       "1453     0\n",
       "12491    1\n",
       "9905     1\n",
       "14099    1\n",
       "20833    1\n",
       "18143    1\n",
       "4075     1\n",
       "23102    1\n",
       "8831     1\n",
       "5738     0\n",
       "23981    0\n",
       "Name: related, Length: 8640, dtype: int64"
      ]
     },
     "execution_count": 171,
     "metadata": {},
     "output_type": "execute_result"
    }
   ],
   "source": [
    "y_test.iloc[:,0]"
   ]
  },
  {
   "cell_type": "code",
   "execution_count": 158,
   "metadata": {},
   "outputs": [],
   "source": [
    "acc = (y_test.iloc[:,0] == y_pred[:,0]).sum() / y_test.shape[0]\n",
    "tp = ((y_pred[:,0] == 1) & (y_test.iloc[:,0]==1)).sum()\n",
    "fp = ((y_pred[:,0] == 1) & (y_test.iloc[:,0]==0)).sum()\n",
    "fn = ((y_pred[:,0] == 0) & (y_test.iloc[:,0]==1)).sum()"
   ]
  },
  {
   "cell_type": "code",
   "execution_count": 159,
   "metadata": {},
   "outputs": [],
   "source": [
    "p_m = tp / (tp + fp)\n",
    "r_m = tp / (tp + fn)"
   ]
  },
  {
   "cell_type": "code",
   "execution_count": 160,
   "metadata": {},
   "outputs": [
    {
     "data": {
      "text/plain": [
       "0.8082175925925926"
      ]
     },
     "execution_count": 160,
     "metadata": {},
     "output_type": "execute_result"
    }
   ],
   "source": [
    "acc"
   ]
  },
  {
   "cell_type": "code",
   "execution_count": 161,
   "metadata": {},
   "outputs": [
    {
     "data": {
      "text/plain": [
       "0.8481792717086835"
      ]
     },
     "execution_count": 161,
     "metadata": {},
     "output_type": "execute_result"
    }
   ],
   "source": [
    "p_m"
   ]
  },
  {
   "cell_type": "code",
   "execution_count": 162,
   "metadata": {},
   "outputs": [
    {
     "data": {
      "text/plain": [
       "0.9235931066036297"
      ]
     },
     "execution_count": 162,
     "metadata": {},
     "output_type": "execute_result"
    }
   ],
   "source": [
    "r_m"
   ]
  },
  {
   "cell_type": "code",
   "execution_count": 156,
   "metadata": {},
   "outputs": [
    {
     "data": {
      "text/plain": [
       "0.5524231393965601"
      ]
     },
     "execution_count": 156,
     "metadata": {},
     "output_type": "execute_result"
    }
   ],
   "source": [
    "recall_score(y_test.iloc[:,0], y_pred[:,0], average='macro')"
   ]
  },
  {
   "cell_type": "code",
   "execution_count": 99,
   "metadata": {},
   "outputs": [
    {
     "data": {
      "text/plain": [
       "array([1, 0, 0, 1, 0, 0, 0, 0, 0, 0, 0, 0, 0, 0, 0, 0, 0, 0, 0, 0, 0, 0,\n",
       "       0, 0, 0, 0, 0, 0, 1, 0, 0, 0, 1, 0, 0, 0])"
      ]
     },
     "execution_count": 99,
     "metadata": {},
     "output_type": "execute_result"
    }
   ],
   "source": [
    "y_pred[0]"
   ]
  },
  {
   "cell_type": "code",
   "execution_count": 104,
   "metadata": {},
   "outputs": [
    {
     "data": {
      "text/html": [
       "<div>\n",
       "<style scoped>\n",
       "    .dataframe tbody tr th:only-of-type {\n",
       "        vertical-align: middle;\n",
       "    }\n",
       "\n",
       "    .dataframe tbody tr th {\n",
       "        vertical-align: top;\n",
       "    }\n",
       "\n",
       "    .dataframe thead th {\n",
       "        text-align: right;\n",
       "    }\n",
       "</style>\n",
       "<table border=\"1\" class=\"dataframe\">\n",
       "  <thead>\n",
       "    <tr style=\"text-align: right;\">\n",
       "      <th></th>\n",
       "      <th>related</th>\n",
       "      <th>request</th>\n",
       "      <th>offer</th>\n",
       "      <th>aid_related</th>\n",
       "      <th>medical_help</th>\n",
       "      <th>medical_products</th>\n",
       "      <th>search_and_rescue</th>\n",
       "      <th>security</th>\n",
       "      <th>military</th>\n",
       "      <th>child_alone</th>\n",
       "      <th>...</th>\n",
       "      <th>aid_centers</th>\n",
       "      <th>other_infrastructure</th>\n",
       "      <th>weather_related</th>\n",
       "      <th>floods</th>\n",
       "      <th>storm</th>\n",
       "      <th>fire</th>\n",
       "      <th>earthquake</th>\n",
       "      <th>cold</th>\n",
       "      <th>other_weather</th>\n",
       "      <th>direct_report</th>\n",
       "    </tr>\n",
       "  </thead>\n",
       "  <tbody>\n",
       "    <tr>\n",
       "      <th>10239</th>\n",
       "      <td>1</td>\n",
       "      <td>0</td>\n",
       "      <td>0</td>\n",
       "      <td>0</td>\n",
       "      <td>0</td>\n",
       "      <td>0</td>\n",
       "      <td>0</td>\n",
       "      <td>0</td>\n",
       "      <td>0</td>\n",
       "      <td>0</td>\n",
       "      <td>...</td>\n",
       "      <td>0</td>\n",
       "      <td>0</td>\n",
       "      <td>1</td>\n",
       "      <td>0</td>\n",
       "      <td>0</td>\n",
       "      <td>0</td>\n",
       "      <td>1</td>\n",
       "      <td>0</td>\n",
       "      <td>0</td>\n",
       "      <td>0</td>\n",
       "    </tr>\n",
       "    <tr>\n",
       "      <th>22968</th>\n",
       "      <td>1</td>\n",
       "      <td>0</td>\n",
       "      <td>0</td>\n",
       "      <td>1</td>\n",
       "      <td>1</td>\n",
       "      <td>1</td>\n",
       "      <td>1</td>\n",
       "      <td>0</td>\n",
       "      <td>1</td>\n",
       "      <td>0</td>\n",
       "      <td>...</td>\n",
       "      <td>0</td>\n",
       "      <td>1</td>\n",
       "      <td>1</td>\n",
       "      <td>1</td>\n",
       "      <td>0</td>\n",
       "      <td>1</td>\n",
       "      <td>0</td>\n",
       "      <td>0</td>\n",
       "      <td>0</td>\n",
       "      <td>0</td>\n",
       "    </tr>\n",
       "    <tr>\n",
       "      <th>11552</th>\n",
       "      <td>0</td>\n",
       "      <td>0</td>\n",
       "      <td>0</td>\n",
       "      <td>0</td>\n",
       "      <td>0</td>\n",
       "      <td>0</td>\n",
       "      <td>0</td>\n",
       "      <td>0</td>\n",
       "      <td>0</td>\n",
       "      <td>0</td>\n",
       "      <td>...</td>\n",
       "      <td>0</td>\n",
       "      <td>0</td>\n",
       "      <td>0</td>\n",
       "      <td>0</td>\n",
       "      <td>0</td>\n",
       "      <td>0</td>\n",
       "      <td>0</td>\n",
       "      <td>0</td>\n",
       "      <td>0</td>\n",
       "      <td>0</td>\n",
       "    </tr>\n",
       "    <tr>\n",
       "      <th>17980</th>\n",
       "      <td>1</td>\n",
       "      <td>0</td>\n",
       "      <td>0</td>\n",
       "      <td>1</td>\n",
       "      <td>0</td>\n",
       "      <td>0</td>\n",
       "      <td>0</td>\n",
       "      <td>0</td>\n",
       "      <td>0</td>\n",
       "      <td>0</td>\n",
       "      <td>...</td>\n",
       "      <td>0</td>\n",
       "      <td>0</td>\n",
       "      <td>0</td>\n",
       "      <td>0</td>\n",
       "      <td>0</td>\n",
       "      <td>0</td>\n",
       "      <td>0</td>\n",
       "      <td>0</td>\n",
       "      <td>0</td>\n",
       "      <td>0</td>\n",
       "    </tr>\n",
       "    <tr>\n",
       "      <th>18987</th>\n",
       "      <td>1</td>\n",
       "      <td>0</td>\n",
       "      <td>0</td>\n",
       "      <td>0</td>\n",
       "      <td>0</td>\n",
       "      <td>0</td>\n",
       "      <td>0</td>\n",
       "      <td>0</td>\n",
       "      <td>0</td>\n",
       "      <td>0</td>\n",
       "      <td>...</td>\n",
       "      <td>0</td>\n",
       "      <td>0</td>\n",
       "      <td>0</td>\n",
       "      <td>0</td>\n",
       "      <td>0</td>\n",
       "      <td>0</td>\n",
       "      <td>0</td>\n",
       "      <td>0</td>\n",
       "      <td>0</td>\n",
       "      <td>0</td>\n",
       "    </tr>\n",
       "  </tbody>\n",
       "</table>\n",
       "<p>5 rows × 36 columns</p>\n",
       "</div>"
      ],
      "text/plain": [
       "       related  request  offer  aid_related  medical_help  medical_products  \\\n",
       "10239        1        0      0            0             0                 0   \n",
       "22968        1        0      0            1             1                 1   \n",
       "11552        0        0      0            0             0                 0   \n",
       "17980        1        0      0            1             0                 0   \n",
       "18987        1        0      0            0             0                 0   \n",
       "\n",
       "       search_and_rescue  security  military  child_alone      ...        \\\n",
       "10239                  0         0         0            0      ...         \n",
       "22968                  1         0         1            0      ...         \n",
       "11552                  0         0         0            0      ...         \n",
       "17980                  0         0         0            0      ...         \n",
       "18987                  0         0         0            0      ...         \n",
       "\n",
       "       aid_centers  other_infrastructure  weather_related  floods  storm  \\\n",
       "10239            0                     0                1       0      0   \n",
       "22968            0                     1                1       1      0   \n",
       "11552            0                     0                0       0      0   \n",
       "17980            0                     0                0       0      0   \n",
       "18987            0                     0                0       0      0   \n",
       "\n",
       "       fire  earthquake  cold  other_weather  direct_report  \n",
       "10239     0           1     0              0              0  \n",
       "22968     1           0     0              0              0  \n",
       "11552     0           0     0              0              0  \n",
       "17980     0           0     0              0              0  \n",
       "18987     0           0     0              0              0  \n",
       "\n",
       "[5 rows x 36 columns]"
      ]
     },
     "execution_count": 104,
     "metadata": {},
     "output_type": "execute_result"
    }
   ],
   "source": [
    "y_test.head()"
   ]
  },
  {
   "cell_type": "markdown",
   "metadata": {},
   "source": [
    "### 6. Improve your model\n",
    "Use grid search to find better parameters. "
   ]
  },
  {
   "cell_type": "code",
   "execution_count": null,
   "metadata": {},
   "outputs": [],
   "source": [
    "parameters = \n",
    "\n",
    "cv = "
   ]
  },
  {
   "cell_type": "markdown",
   "metadata": {},
   "source": [
    "### 7. Test your model\n",
    "Show the accuracy, precision, and recall of the tuned model."
   ]
  },
  {
   "cell_type": "code",
   "execution_count": null,
   "metadata": {},
   "outputs": [],
   "source": []
  },
  {
   "cell_type": "markdown",
   "metadata": {},
   "source": [
    "### 8. Try improving your model further. Here are a few ideas:\n",
    "* try other machine learning algorithms\n",
    "* add other features besides the TF-IDF"
   ]
  },
  {
   "cell_type": "code",
   "execution_count": null,
   "metadata": {},
   "outputs": [],
   "source": []
  },
  {
   "cell_type": "markdown",
   "metadata": {},
   "source": [
    "### 9. Export your model as a pickle file"
   ]
  },
  {
   "cell_type": "code",
   "execution_count": null,
   "metadata": {},
   "outputs": [],
   "source": []
  },
  {
   "cell_type": "markdown",
   "metadata": {},
   "source": [
    "### 10. Use this notebook to complete `train.py`\n",
    "Use the template file attached in the Resources folder to write a script that runs the steps above to create a database and export a model based on a new dataset specified by the user."
   ]
  },
  {
   "cell_type": "code",
   "execution_count": null,
   "metadata": {},
   "outputs": [],
   "source": []
  }
 ],
 "metadata": {
  "kernelspec": {
   "display_name": "Python [default]",
   "language": "python",
   "name": "python3"
  },
  "language_info": {
   "codemirror_mode": {
    "name": "ipython",
    "version": 3
   },
   "file_extension": ".py",
   "mimetype": "text/x-python",
   "name": "python",
   "nbconvert_exporter": "python",
   "pygments_lexer": "ipython3",
   "version": "3.5.5"
  }
 },
 "nbformat": 4,
 "nbformat_minor": 2
}
