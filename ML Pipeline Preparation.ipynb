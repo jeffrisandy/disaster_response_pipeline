{
 "cells": [
  {
   "cell_type": "markdown",
   "metadata": {},
   "source": [
    "# ML Pipeline Preparation\n",
    "Follow the instructions below to help you create your ML pipeline.\n",
    "### 1. Import libraries and load data from database.\n",
    "- Import Python libraries\n",
    "- Load dataset from database with [`read_sql_table`](https://pandas.pydata.org/pandas-docs/stable/generated/pandas.read_sql_table.html)\n",
    "- Define feature and target variables X and Y"
   ]
  },
  {
   "cell_type": "code",
   "execution_count": 179,
   "metadata": {},
   "outputs": [
    {
     "name": "stdout",
     "output_type": "stream",
     "text": [
      "[nltk_data] Downloading package punkt to /Users/jeffsan/nltk_data...\n",
      "[nltk_data]   Package punkt is already up-to-date!\n",
      "[nltk_data] Downloading package wordnet to /Users/jeffsan/nltk_data...\n",
      "[nltk_data]   Package wordnet is already up-to-date!\n",
      "[nltk_data] Downloading package stopwords to\n",
      "[nltk_data]     /Users/jeffsan/nltk_data...\n",
      "[nltk_data]   Package stopwords is already up-to-date!\n"
     ]
    }
   ],
   "source": [
    "# import libraries\n",
    "import pandas as pd\n",
    "import numpy as np\n",
    "import os\n",
    "from sqlalchemy import create_engine\n",
    "\n",
    "# download necessary NLTK data\n",
    "import nltk\n",
    "nltk.download(['punkt', 'wordnet', 'stopwords'])\n",
    "from nltk.tokenize import word_tokenize\n",
    "from nltk.stem import WordNetLemmatizer\n",
    "from nltk.corpus import stopwords \n",
    "import re\n",
    "\n",
    "#sklearn\n",
    "from sklearn.metrics import confusion_matrix\n",
    "from sklearn.model_selection import train_test_split as tts\n",
    "from sklearn.linear_model import LogisticRegression\n",
    "from sklearn.ensemble import RandomForestClassifier\n",
    "from sklearn.preprocessing import FunctionTransformer\n",
    "from sklearn.feature_extraction.text import CountVectorizer, TfidfTransformer\n",
    "from sklearn.pipeline import Pipeline,  FeatureUnion\n",
    "from sklearn.metrics import classification_report\n",
    "from sklearn.multiclass import OneVsRestClassifier\n",
    "from sklearn.multioutput import MultiOutputClassifier"
   ]
  },
  {
   "cell_type": "code",
   "execution_count": 180,
   "metadata": {},
   "outputs": [],
   "source": [
    "# load data from database\n",
    "engine = create_engine('sqlite:///DisasterResponse.db')\n",
    "df = pd.read_sql(\"SELECT * FROM messages\", engine)\n",
    "X = df[['message', 'genre']]\n",
    "Y = df.drop(columns=['id', 'message', 'original','genre'])\n"
   ]
  },
  {
   "cell_type": "markdown",
   "metadata": {},
   "source": [
    "### 2. Write a tokenization function to process your text data"
   ]
  },
  {
   "cell_type": "code",
   "execution_count": 181,
   "metadata": {},
   "outputs": [],
   "source": [
    "def tokenize(text):\n",
    "    #remove punctuation\n",
    "    text = re.sub(r\"[^a-zA-Z0-9]\", \" \", text)\n",
    "    \n",
    "    #tokenize text\n",
    "    tokens = word_tokenize(text)\n",
    "    \n",
    "    # initiate lemmatizer\n",
    "    lemmatizer = WordNetLemmatizer()\n",
    "    \n",
    "    #iterate for each tokens\n",
    "    clean_tokens = []\n",
    "    for tok in tokens:\n",
    "        \n",
    "        if tok not in stopwords.words('english'):\n",
    "            # lemmatize, normalize case, and remove leading/trailing white space\n",
    "            clean_tok = lemmatizer.lemmatize(tok).lower().strip()\n",
    "\n",
    "            clean_tokens.append(clean_tok)\n",
    "    \n",
    "    return clean_tokens\n",
    "    "
   ]
  },
  {
   "cell_type": "markdown",
   "metadata": {},
   "source": [
    "### 3. Build a machine learning pipeline\n",
    "- You'll find the [MultiOutputClassifier](http://scikit-learn.org/stable/modules/generated/sklearn.multioutput.MultiOutputClassifier.html) helpful for predicting multiple target variables."
   ]
  },
  {
   "cell_type": "code",
   "execution_count": 182,
   "metadata": {},
   "outputs": [],
   "source": [
    "from sklearn.preprocessing import FunctionTransformer\n",
    "\n",
    "get_msg_data = FunctionTransformer(lambda x: x['message'], validate=False)\n",
    "get_genre_data = FunctionTransformer(lambda x: pd.get_dummies(x['genre']), validate=False)"
   ]
  },
  {
   "cell_type": "code",
   "execution_count": 209,
   "metadata": {},
   "outputs": [],
   "source": [
    "msg_pipeline = Pipeline([\n",
    "    ('msg_selector', get_msg_data),\n",
    "    ('vect', CountVectorizer(tokenizer=tokenize)),\n",
    "    ('tfidf', TfidfTransformer()),\n",
    "])\n",
    "\n",
    "features_pipeline_union = FeatureUnion([\n",
    "    ('msg_pipeline', msg_pipeline),\n",
    "    ('genre_pipeline', get_genre_data)\n",
    "])\n",
    "\n",
    "pipeline = Pipeline([\n",
    "    ('features', features_pipeline_union),\n",
    "    ('clf', MultiOutputClassifier(RandomForestClassifier(random_state=42), n_jobs=-1))\n",
    "    #('clf', OneVsRestClassifier(LogisticRegression(random_state=42), n_jobs=-1))\n",
    "])"
   ]
  },
  {
   "cell_type": "markdown",
   "metadata": {},
   "source": [
    "### 4. Train pipeline\n",
    "- Split data into train and test sets\n",
    "- Train pipeline"
   ]
  },
  {
   "cell_type": "code",
   "execution_count": 210,
   "metadata": {},
   "outputs": [
    {
     "data": {
      "text/plain": [
       "Pipeline(memory=None,\n",
       "     steps=[('features', FeatureUnion(n_jobs=1,\n",
       "       transformer_list=[('msg_pipeline', Pipeline(memory=None,\n",
       "     steps=[('msg_selector', FunctionTransformer(accept_sparse=False,\n",
       "          func=<function <lambda> at 0x1364bb510>, inv_kw_args=None,\n",
       "          inverse_func=None, kw_args=None, pass_y='dep...\n",
       "            oob_score=False, random_state=42, verbose=0, warm_start=False),\n",
       "           n_jobs=-1))])"
      ]
     },
     "execution_count": 210,
     "metadata": {},
     "output_type": "execute_result"
    }
   ],
   "source": [
    "X_train, X_test, y_train, y_test = tts(X,Y,test_size=0.33, random_state= 42)\n",
    "\n",
    "pipeline.fit(X_train, y_train)"
   ]
  },
  {
   "cell_type": "markdown",
   "metadata": {},
   "source": [
    "### 5. Test your model\n",
    "Report the f1 score, precision and recall on both the training set and the test set. You can use sklearn's `classification_report` function here. "
   ]
  },
  {
   "cell_type": "code",
   "execution_count": 205,
   "metadata": {},
   "outputs": [],
   "source": [
    "def show_report(model, X,y):\n",
    "    \"\"\" Print out classification report \"\"\"\n",
    "    y_pred = model.predict(X)\n",
    "    labels = y.columns.tolist()\n",
    "    class_report = classification_report(y, y_pred, target_names=labels)\n",
    "    print(\"\\nClassification report:\\n\", class_report)\n",
    " "
   ]
  },
  {
   "cell_type": "code",
   "execution_count": 206,
   "metadata": {
    "scrolled": true
   },
   "outputs": [
    {
     "name": "stdout",
     "output_type": "stream",
     "text": [
      "\n",
      "Classification report:\n",
      "                         precision    recall  f1-score   support\n",
      "\n",
      "               related       0.88      0.97      0.92     13334\n",
      "               request       0.87      0.61      0.72      2980\n",
      "                 offer       0.00      0.00      0.00        82\n",
      "           aid_related       0.86      0.74      0.80      7277\n",
      "          medical_help       0.82      0.19      0.31      1391\n",
      "      medical_products       0.88      0.19      0.32       906\n",
      "     search_and_rescue       0.97      0.07      0.14       499\n",
      "              security       0.00      0.00      0.00       324\n",
      "              military       0.89      0.17      0.28       593\n",
      "           child_alone       0.00      0.00      0.00         0\n",
      "                 water       0.86      0.54      0.67      1155\n",
      "                  food       0.87      0.62      0.73      1949\n",
      "               shelter       0.87      0.44      0.58      1510\n",
      "              clothing       0.83      0.21      0.33       283\n",
      "                 money       0.93      0.07      0.14       382\n",
      "        missing_people       0.00      0.00      0.00       194\n",
      "              refugees       0.89      0.08      0.15       580\n",
      "                 death       0.94      0.30      0.45       804\n",
      "             other_aid       0.80      0.14      0.24      2284\n",
      "infrastructure_related       0.88      0.04      0.08      1129\n",
      "             transport       0.90      0.14      0.24       801\n",
      "             buildings       0.86      0.23      0.36       863\n",
      "           electricity       0.89      0.11      0.19       359\n",
      "                 tools       0.00      0.00      0.00       101\n",
      "             hospitals       1.00      0.02      0.03       197\n",
      "                 shops       0.00      0.00      0.00        81\n",
      "           aid_centers       0.00      0.00      0.00       180\n",
      "  other_infrastructure       0.75      0.02      0.04       773\n",
      "       weather_related       0.91      0.72      0.80      4856\n",
      "                floods       0.96      0.45      0.61      1448\n",
      "                 storm       0.87      0.53      0.66      1603\n",
      "                  fire       0.90      0.05      0.09       195\n",
      "            earthquake       0.92      0.67      0.77      1638\n",
      "                  cold       0.89      0.13      0.23       357\n",
      "         other_weather       0.93      0.05      0.09       901\n",
      "         direct_report       0.85      0.52      0.64      3391\n",
      "\n",
      "           avg / total       0.86      0.58      0.64     55400\n",
      "\n"
     ]
    },
    {
     "name": "stderr",
     "output_type": "stream",
     "text": [
      "/Users/jeffsan/anaconda/lib/python3.5/site-packages/sklearn/metrics/classification.py:1135: UndefinedMetricWarning: Precision and F-score are ill-defined and being set to 0.0 in labels with no predicted samples.\n",
      "  'precision', 'predicted', average, warn_for)\n",
      "/Users/jeffsan/anaconda/lib/python3.5/site-packages/sklearn/metrics/classification.py:1137: UndefinedMetricWarning: Recall and F-score are ill-defined and being set to 0.0 in labels with no true samples.\n",
      "  'recall', 'true', average, warn_for)\n"
     ]
    }
   ],
   "source": [
    "\"\"\" LR on Train \"\"\"\n",
    "show_report(pipeline, X_train, y_train)"
   ]
  },
  {
   "cell_type": "code",
   "execution_count": 207,
   "metadata": {
    "scrolled": true
   },
   "outputs": [
    {
     "name": "stdout",
     "output_type": "stream",
     "text": [
      "\n",
      "Classification report:\n",
      "                         precision    recall  f1-score   support\n",
      "\n",
      "               related       0.84      0.95      0.89      6542\n",
      "               request       0.82      0.56      0.67      1484\n",
      "                 offer       0.00      0.00      0.00        36\n",
      "           aid_related       0.77      0.67      0.72      3564\n",
      "          medical_help       0.60      0.14      0.23       690\n",
      "      medical_products       0.79      0.18      0.29       405\n",
      "     search_and_rescue       0.73      0.05      0.09       225\n",
      "              security       0.00      0.00      0.00       147\n",
      "              military       0.57      0.10      0.17       266\n",
      "           child_alone       0.00      0.00      0.00         0\n",
      "                 water       0.79      0.47      0.59       514\n",
      "                  food       0.86      0.57      0.69       968\n",
      "               shelter       0.85      0.40      0.54       798\n",
      "              clothing       0.85      0.19      0.31       121\n",
      "                 money       0.69      0.05      0.09       221\n",
      "        missing_people       1.00      0.01      0.02       104\n",
      "              refugees       0.71      0.04      0.08       294\n",
      "                 death       0.89      0.22      0.35       388\n",
      "             other_aid       0.65      0.10      0.18      1157\n",
      "infrastructure_related       0.50      0.02      0.04       576\n",
      "             transport       0.81      0.11      0.19       398\n",
      "             buildings       0.85      0.18      0.29       468\n",
      "           electricity       0.61      0.11      0.19       173\n",
      "                 tools       0.00      0.00      0.00        58\n",
      "             hospitals       0.00      0.00      0.00        86\n",
      "                 shops       0.00      0.00      0.00        39\n",
      "           aid_centers       0.00      0.00      0.00       129\n",
      "  other_infrastructure       0.46      0.02      0.03       378\n",
      "       weather_related       0.86      0.67      0.75      2430\n",
      "                floods       0.90      0.39      0.55       701\n",
      "                 storm       0.76      0.45      0.57       837\n",
      "                  fire       0.50      0.02      0.04        87\n",
      "            earthquake       0.92      0.63      0.75       814\n",
      "                  cold       0.77      0.10      0.18       171\n",
      "         other_weather       0.68      0.03      0.05       475\n",
      "         direct_report       0.73      0.46      0.56      1673\n",
      "\n",
      "           avg / total       0.77      0.54      0.59     27417\n",
      "\n"
     ]
    },
    {
     "name": "stderr",
     "output_type": "stream",
     "text": [
      "/Users/jeffsan/anaconda/lib/python3.5/site-packages/sklearn/metrics/classification.py:1135: UndefinedMetricWarning: Precision and F-score are ill-defined and being set to 0.0 in labels with no predicted samples.\n",
      "  'precision', 'predicted', average, warn_for)\n",
      "/Users/jeffsan/anaconda/lib/python3.5/site-packages/sklearn/metrics/classification.py:1137: UndefinedMetricWarning: Recall and F-score are ill-defined and being set to 0.0 in labels with no true samples.\n",
      "  'recall', 'true', average, warn_for)\n"
     ]
    }
   ],
   "source": [
    "\"\"\" LR on Test \"\"\"\n",
    "show_report(pipeline, X_test, y_test)"
   ]
  },
  {
   "cell_type": "code",
   "execution_count": 211,
   "metadata": {
    "scrolled": true
   },
   "outputs": [
    {
     "name": "stdout",
     "output_type": "stream",
     "text": [
      "\n",
      "Classification report:\n",
      "                         precision    recall  f1-score   support\n",
      "\n",
      "               related       0.99      1.00      0.99     13334\n",
      "               request       1.00      0.92      0.96      2980\n",
      "                 offer       1.00      0.68      0.81        82\n",
      "           aid_related       1.00      0.97      0.98      7277\n",
      "          medical_help       1.00      0.84      0.91      1391\n",
      "      medical_products       1.00      0.84      0.91       906\n",
      "     search_and_rescue       1.00      0.76      0.86       499\n",
      "              security       1.00      0.74      0.85       324\n",
      "              military       1.00      0.88      0.93       593\n",
      "           child_alone       0.00      0.00      0.00         0\n",
      "                 water       1.00      0.93      0.96      1155\n",
      "                  food       1.00      0.94      0.97      1949\n",
      "               shelter       1.00      0.90      0.95      1510\n",
      "              clothing       1.00      0.86      0.93       283\n",
      "                 money       1.00      0.81      0.89       382\n",
      "        missing_people       1.00      0.74      0.85       194\n",
      "              refugees       1.00      0.78      0.88       580\n",
      "                 death       1.00      0.87      0.93       804\n",
      "             other_aid       1.00      0.82      0.90      2284\n",
      "infrastructure_related       1.00      0.78      0.87      1129\n",
      "             transport       1.00      0.80      0.89       801\n",
      "             buildings       1.00      0.86      0.93       863\n",
      "           electricity       1.00      0.84      0.91       359\n",
      "                 tools       1.00      0.77      0.87       101\n",
      "             hospitals       1.00      0.74      0.85       197\n",
      "                 shops       1.00      0.75      0.86        81\n",
      "           aid_centers       1.00      0.70      0.82       180\n",
      "  other_infrastructure       1.00      0.77      0.87       773\n",
      "       weather_related       1.00      0.96      0.98      4856\n",
      "                floods       1.00      0.89      0.94      1448\n",
      "                 storm       1.00      0.94      0.97      1603\n",
      "                  fire       1.00      0.81      0.89       195\n",
      "            earthquake       0.99      0.97      0.98      1638\n",
      "                  cold       1.00      0.83      0.91       357\n",
      "         other_weather       1.00      0.80      0.89       901\n",
      "         direct_report       1.00      0.91      0.95      3391\n",
      "\n",
      "           avg / total       1.00      0.92      0.96     55400\n",
      "\n"
     ]
    },
    {
     "name": "stderr",
     "output_type": "stream",
     "text": [
      "/Users/jeffsan/anaconda/lib/python3.5/site-packages/sklearn/metrics/classification.py:1135: UndefinedMetricWarning: Precision and F-score are ill-defined and being set to 0.0 in labels with no predicted samples.\n",
      "  'precision', 'predicted', average, warn_for)\n",
      "/Users/jeffsan/anaconda/lib/python3.5/site-packages/sklearn/metrics/classification.py:1137: UndefinedMetricWarning: Recall and F-score are ill-defined and being set to 0.0 in labels with no true samples.\n",
      "  'recall', 'true', average, warn_for)\n"
     ]
    }
   ],
   "source": [
    "\"\"\" RF on Train \"\"\"\n",
    "show_report(pipeline, X_train, y_train)"
   ]
  },
  {
   "cell_type": "code",
   "execution_count": null,
   "metadata": {
    "scrolled": true
   },
   "outputs": [],
   "source": [
    "\"\"\" RF on Test \"\"\"\n",
    "show_report(pipeline, X_test, y_test)"
   ]
  },
  {
   "cell_type": "markdown",
   "metadata": {},
   "source": [
    "### 6. Improve your model\n",
    "Use grid search to find better parameters. "
   ]
  },
  {
   "cell_type": "code",
   "execution_count": null,
   "metadata": {},
   "outputs": [],
   "source": [
    "parameters = \n",
    "\n",
    "cv = "
   ]
  },
  {
   "cell_type": "markdown",
   "metadata": {},
   "source": [
    "### 7. Test your model\n",
    "Show the accuracy, precision, and recall of the tuned model."
   ]
  },
  {
   "cell_type": "code",
   "execution_count": null,
   "metadata": {},
   "outputs": [],
   "source": []
  },
  {
   "cell_type": "markdown",
   "metadata": {},
   "source": [
    "### 8. Try improving your model further. Here are a few ideas:\n",
    "* try other machine learning algorithms\n",
    "* add other features besides the TF-IDF"
   ]
  },
  {
   "cell_type": "code",
   "execution_count": null,
   "metadata": {},
   "outputs": [],
   "source": []
  },
  {
   "cell_type": "markdown",
   "metadata": {},
   "source": [
    "### 9. Export your model as a pickle file"
   ]
  },
  {
   "cell_type": "code",
   "execution_count": null,
   "metadata": {},
   "outputs": [],
   "source": []
  },
  {
   "cell_type": "markdown",
   "metadata": {},
   "source": [
    "### 10. Use this notebook to complete `train.py`\n",
    "Use the template file attached in the Resources folder to write a script that runs the steps above to create a database and export a model based on a new dataset specified by the user."
   ]
  },
  {
   "cell_type": "code",
   "execution_count": null,
   "metadata": {},
   "outputs": [],
   "source": []
  }
 ],
 "metadata": {
  "kernelspec": {
   "display_name": "Python [default]",
   "language": "python",
   "name": "python3"
  },
  "language_info": {
   "codemirror_mode": {
    "name": "ipython",
    "version": 3
   },
   "file_extension": ".py",
   "mimetype": "text/x-python",
   "name": "python",
   "nbconvert_exporter": "python",
   "pygments_lexer": "ipython3",
   "version": "3.5.5"
  }
 },
 "nbformat": 4,
 "nbformat_minor": 2
}
