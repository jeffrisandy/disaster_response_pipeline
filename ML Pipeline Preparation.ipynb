{
 "cells": [
  {
   "cell_type": "markdown",
   "metadata": {},
   "source": [
    "# ML Pipeline Preparation\n",
    "Follow the instructions below to help you create your ML pipeline.\n",
    "### 1. Import libraries and load data from database.\n",
    "- Import Python libraries\n",
    "- Load dataset from database with [`read_sql_table`](https://pandas.pydata.org/pandas-docs/stable/generated/pandas.read_sql_table.html)\n",
    "- Define feature and target variables X and Y"
   ]
  },
  {
   "cell_type": "code",
   "execution_count": 93,
   "metadata": {},
   "outputs": [
    {
     "name": "stdout",
     "output_type": "stream",
     "text": [
      "[nltk_data] Downloading package punkt to /Users/jeffsan/nltk_data...\n",
      "[nltk_data]   Package punkt is already up-to-date!\n",
      "[nltk_data] Downloading package wordnet to /Users/jeffsan/nltk_data...\n",
      "[nltk_data]   Package wordnet is already up-to-date!\n",
      "[nltk_data] Downloading package stopwords to\n",
      "[nltk_data]     /Users/jeffsan/nltk_data...\n",
      "[nltk_data]   Package stopwords is already up-to-date!\n"
     ]
    }
   ],
   "source": [
    "# import libraries\n",
    "import pandas as pd\n",
    "import numpy as np\n",
    "import os\n",
    "from sqlalchemy import create_engine\n",
    "\n",
    "# download necessary NLTK data\n",
    "import nltk\n",
    "nltk.download(['punkt', 'wordnet', 'stopwords'])\n",
    "from nltk.tokenize import word_tokenize\n",
    "from nltk.stem import WordNetLemmatizer\n",
    "from nltk.corpus import stopwords \n",
    "import re\n",
    "\n",
    "#sklearn\n",
    "from sklearn.metrics import confusion_matrix\n",
    "from sklearn.model_selection import train_test_split as tts\n",
    "from sklearn.linear_model import LogisticRegression\n",
    "from sklearn.ensemble import RandomForestClassifier\n",
    "from sklearn.preprocessing import FunctionTransformer\n",
    "from sklearn.feature_extraction.text import CountVectorizer, TfidfTransformer\n",
    "from sklearn.pipeline import Pipeline,  FeatureUnion\n",
    "from sklearn.metrics import classification_report\n",
    "from sklearn.multiclass import OneVsRestClassifier\n",
    "from sklearn.multioutput import MultiOutputClassifier"
   ]
  },
  {
   "cell_type": "code",
   "execution_count": 172,
   "metadata": {},
   "outputs": [],
   "source": [
    "# load data from database\n",
    "engine = create_engine('sqlite:///DisasterResponse.db')\n",
    "df = pd.read_sql(\"SELECT * FROM messages\", engine)\n",
    "X = df[['message', 'genre']]\n",
    "Y = df.drop(columns=['id', 'message', 'original','genre'])\n"
   ]
  },
  {
   "cell_type": "code",
   "execution_count": 178,
   "metadata": {},
   "outputs": [
    {
     "data": {
      "text/plain": [
       "['related']"
      ]
     },
     "execution_count": 178,
     "metadata": {},
     "output_type": "execute_result"
    }
   ],
   "source": [
    "[col for col in Y.columns if len(Y[col].unique()) >2]"
   ]
  },
  {
   "cell_type": "markdown",
   "metadata": {},
   "source": [
    "### 2. Write a tokenization function to process your text data"
   ]
  },
  {
   "cell_type": "code",
   "execution_count": 27,
   "metadata": {},
   "outputs": [],
   "source": [
    "def tokenize(text):\n",
    "    #remove punctuation\n",
    "    text = re.sub(r\"[^a-zA-Z0-9]\", \" \", text)\n",
    "    \n",
    "    #tokenize text\n",
    "    tokens = word_tokenize(text)\n",
    "    \n",
    "    # initiate lemmatizer\n",
    "    lemmatizer = WordNetLemmatizer()\n",
    "    \n",
    "    #iterate for each tokens\n",
    "    clean_tokens = []\n",
    "    for tok in tokens:\n",
    "        \n",
    "        if tok not in stopwords.words('english'):\n",
    "            # lemmatize, normalize case, and remove leading/trailing white space\n",
    "            clean_tok = lemmatizer.lemmatize(tok).lower().strip()\n",
    "\n",
    "            clean_tokens.append(clean_tok)\n",
    "    \n",
    "    return clean_tokens\n",
    "    "
   ]
  },
  {
   "cell_type": "markdown",
   "metadata": {},
   "source": [
    "### 3. Build a machine learning pipeline\n",
    "- You'll find the [MultiOutputClassifier](http://scikit-learn.org/stable/modules/generated/sklearn.multioutput.MultiOutputClassifier.html) helpful for predicting multiple target variables."
   ]
  },
  {
   "cell_type": "code",
   "execution_count": 58,
   "metadata": {},
   "outputs": [],
   "source": [
    "from sklearn.preprocessing import FunctionTransformer\n",
    "\n",
    "get_msg_data = FunctionTransformer(lambda x: x['message'], validate=False)\n",
    "get_genre_data = FunctionTransformer(lambda x: pd.get_dummies(x['genre']), validate=False)"
   ]
  },
  {
   "cell_type": "code",
   "execution_count": 94,
   "metadata": {},
   "outputs": [],
   "source": [
    "msg_pipeline = Pipeline([\n",
    "    ('msg_selector', get_msg_data),\n",
    "    ('vect', CountVectorizer(tokenizer=tokenize)),\n",
    "    ('tfidf', TfidfTransformer()),\n",
    "])\n",
    "\n",
    "features_pipeline_union = FeatureUnion([\n",
    "    ('msg_pipeline', msg_pipeline),\n",
    "    ('genre_pipeline', get_genre_data)\n",
    "])\n",
    "\n",
    "pipeline = Pipeline([\n",
    "    ('features', features_pipeline_union),\n",
    "    ('clf', MultiOutputClassifier(RandomForestClassifier(), n_jobs=-1))\n",
    "    #('clf', OneVsRestClassifier(LogisticRegression()))\n",
    "])"
   ]
  },
  {
   "cell_type": "markdown",
   "metadata": {},
   "source": [
    "### 4. Train pipeline\n",
    "- Split data into train and test sets\n",
    "- Train pipeline"
   ]
  },
  {
   "cell_type": "code",
   "execution_count": 95,
   "metadata": {},
   "outputs": [
    {
     "data": {
      "text/plain": [
       "Pipeline(memory=None,\n",
       "     steps=[('features', FeatureUnion(n_jobs=1,\n",
       "       transformer_list=[('msg_pipeline', Pipeline(memory=None,\n",
       "     steps=[('msg_selector', FunctionTransformer(accept_sparse=False,\n",
       "          func=<function <lambda> at 0x1200739d8>, inv_kw_args=None,\n",
       "          inverse_func=None, kw_args=None, pass_y='dep...ob_score=False, random_state=None, verbose=0,\n",
       "            warm_start=False),\n",
       "           n_jobs=-1))])"
      ]
     },
     "execution_count": 95,
     "metadata": {},
     "output_type": "execute_result"
    }
   ],
   "source": [
    "X_train, X_test, y_train, y_test = tts(X,Y,test_size=0.33)\n",
    "\n",
    "pipeline.fit(X_train, y_train)"
   ]
  },
  {
   "cell_type": "markdown",
   "metadata": {},
   "source": [
    "### 5. Test your model\n",
    "Report the f1 score, precision and recall on both the training set and the test set. You can use sklearn's `classification_report` function here. "
   ]
  },
  {
   "cell_type": "code",
   "execution_count": 96,
   "metadata": {},
   "outputs": [],
   "source": [
    "y_pred = pipeline.predict(X_test)"
   ]
  },
  {
   "cell_type": "code",
   "execution_count": 77,
   "metadata": {},
   "outputs": [
    {
     "data": {
      "text/plain": [
       "Index(['related', 'request', 'offer', 'aid_related', 'medical_help',\n",
       "       'medical_products', 'search_and_rescue', 'security', 'military',\n",
       "       'child_alone', 'water', 'food', 'shelter', 'clothing', 'money',\n",
       "       'missing_people', 'refugees', 'death', 'other_aid',\n",
       "       'infrastructure_related', 'transport', 'buildings', 'electricity',\n",
       "       'tools', 'hospitals', 'shops', 'aid_centers', 'other_infrastructure',\n",
       "       'weather_related', 'floods', 'storm', 'fire', 'earthquake', 'cold',\n",
       "       'other_weather', 'direct_report'],\n",
       "      dtype='object')"
      ]
     },
     "execution_count": 77,
     "metadata": {},
     "output_type": "execute_result"
    }
   ],
   "source": [
    "labels"
   ]
  },
  {
   "cell_type": "code",
   "execution_count": 110,
   "metadata": {
    "scrolled": true
   },
   "outputs": [
    {
     "ename": "ValueError",
     "evalue": "Unknown label type: (       related  request  offer  aid_related  medical_help  medical_products  \\\n10239        1        0      0            0             0                 0   \n22968        1        0      0            1             1                 1   \n11552        0        0      0            0             0                 0   \n17980        1        0      0            1             0                 0   \n18987        1        0      0            0             0                 0   \n12903        1        0      0            1             0                 0   \n5653         1        1      0            1             0                 0   \n25637        1        0      0            1             0                 0   \n14219        1        1      0            1             0                 0   \n10338        1        0      0            0             0                 0   \n22275        0        0      0            0             0                 0   \n22444        1        0      0            0             0                 0   \n6224         1        1      0            0             0                 0   \n20195        0        0      0            0             0                 0   \n21312        0        0      0            0             0                 0   \n14169        1        0      0            0             0                 0   \n14314        1        0      0            0             0                 0   \n4936         0        0      0            0             0                 0   \n25343        1        0      0            1             0                 0   \n16321        1        0      0            0             0                 0   \n17306        1        0      0            0             0                 0   \n10856        1        0      0            0             0                 0   \n6125         1        1      0            1             0                 0   \n25033        1        0      0            0             0                 0   \n6743         0        0      0            0             0                 0   \n4192         1        0      0            0             0                 0   \n19748        1        0      0            1             0                 0   \n19595        1        0      0            0             0                 0   \n6850         0        0      0            0             0                 0   \n9951         1        0      0            1             0                 0   \n...        ...      ...    ...          ...           ...               ...   \n9921         1        0      0            0             0                 0   \n9717         1        0      0            0             0                 0   \n9658         1        1      0            1             0                 0   \n9196         1        1      0            1             0                 0   \n13673        1        0      0            0             0                 0   \n12498        0        0      0            0             0                 0   \n6632         1        0      0            0             0                 0   \n14221        1        0      0            0             0                 0   \n1960         0        0      0            0             0                 0   \n20882        1        0      0            1             0                 0   \n12155        1        1      0            1             0                 0   \n725          1        1      0            1             0                 0   \n23304        1        0      0            1             1                 0   \n1519         1        1      0            1             0                 0   \n22934        1        0      0            1             0                 0   \n10108        1        0      0            0             0                 0   \n21810        1        0      0            1             0                 0   \n12394        1        0      0            1             0                 0   \n8755         1        0      0            0             0                 0   \n1453         0        0      0            0             0                 0   \n12491        1        0      0            0             0                 0   \n9905         1        0      0            0             0                 0   \n14099        1        0      0            0             0                 0   \n20833        1        0      0            0             0                 0   \n18143        1        0      0            1             1                 0   \n4075         1        0      0            0             0                 0   \n23102        1        0      0            1             0                 0   \n8831         1        0      0            0             0                 0   \n5738         0        0      0            0             0                 0   \n23981        0        0      0            0             0                 0   \n\n       search_and_rescue  security  military  child_alone      ...        \\\n10239                  0         0         0            0      ...         \n22968                  1         0         1            0      ...         \n11552                  0         0         0            0      ...         \n17980                  0         0         0            0      ...         \n18987                  0         0         0            0      ...         \n12903                  0         0         0            0      ...         \n5653                   0         0         0            0      ...         \n25637                  0         0         1            0      ...         \n14219                  0         0         0            0      ...         \n10338                  0         0         0            0      ...         \n22275                  0         0         0            0      ...         \n22444                  0         0         0            0      ...         \n6224                   0         0         0            0      ...         \n20195                  0         0         0            0      ...         \n21312                  0         0         0            0      ...         \n14169                  0         0         0            0      ...         \n14314                  0         0         0            0      ...         \n4936                   0         0         0            0      ...         \n25343                  0         0         1            0      ...         \n16321                  0         0         0            0      ...         \n17306                  0         0         0            0      ...         \n10856                  0         0         0            0      ...         \n6125                   0         0         0            0      ...         \n25033                  0         0         0            0      ...         \n6743                   0         0         0            0      ...         \n4192                   0         0         0            0      ...         \n19748                  0         0         0            0      ...         \n19595                  0         0         0            0      ...         \n6850                   0         0         0            0      ...         \n9951                   0         0         0            0      ...         \n...                  ...       ...       ...          ...      ...         \n9921                   0         0         0            0      ...         \n9717                   0         0         0            0      ...         \n9658                   0         0         0            0      ...         \n9196                   0         0         0            0      ...         \n13673                  0         0         0            0      ...         \n12498                  0         0         0            0      ...         \n6632                   0         0         0            0      ...         \n14221                  0         0         0            0      ...         \n1960                   0         0         0            0      ...         \n20882                  0         0         0            0      ...         \n12155                  1         0         0            0      ...         \n725                    0         0         0            0      ...         \n23304                  0         0         0            0      ...         \n1519                   0         0         0            0      ...         \n22934                  0         0         0            0      ...         \n10108                  0         0         0            0      ...         \n21810                  0         0         0            0      ...         \n12394                  0         0         0            0      ...         \n8755                   0         0         0            0      ...         \n1453                   0         0         0            0      ...         \n12491                  0         0         0            0      ...         \n9905                   0         0         0            0      ...         \n14099                  0         0         0            0      ...         \n20833                  0         0         0            0      ...         \n18143                  0         0         0            0      ...         \n4075                   0         0         0            0      ...         \n23102                  0         0         0            0      ...         \n8831                   0         0         0            0      ...         \n5738                   0         0         0            0      ...         \n23981                  0         0         0            0      ...         \n\n       aid_centers  other_infrastructure  weather_related  floods  storm  \\\n10239            0                     0                1       0      0   \n22968            0                     1                1       1      0   \n11552            0                     0                0       0      0   \n17980            0                     0                0       0      0   \n18987            0                     0                0       0      0   \n12903            0                     0                1       0      1   \n5653             0                     0                0       0      0   \n25637            0                     0                1       0      0   \n14219            0                     0                0       0      0   \n10338            0                     0                1       0      0   \n22275            0                     0                0       0      0   \n22444            0                     0                0       0      0   \n6224             0                     0                0       0      0   \n20195            0                     0                0       0      0   \n21312            0                     0                0       0      0   \n14169            0                     0                1       0      1   \n14314            0                     0                1       0      1   \n4936             0                     0                0       0      0   \n25343            0                     0                0       0      0   \n16321            0                     0                0       0      0   \n17306            0                     0                0       0      0   \n10856            0                     0                0       0      0   \n6125             0                     0                0       0      0   \n25033            0                     0                0       0      0   \n6743             0                     0                0       0      0   \n4192             0                     0                0       0      0   \n19748            0                     0                1       0      0   \n19595            0                     0                0       0      0   \n6850             0                     0                0       0      0   \n9951             0                     0                1       0      1   \n...            ...                   ...              ...     ...    ...   \n9921             0                     0                1       0      0   \n9717             0                     0                1       0      0   \n9658             0                     0                1       0      0   \n9196             0                     0                1       0      0   \n13673            0                     0                0       0      0   \n12498            0                     0                0       0      0   \n6632             0                     0                1       0      1   \n14221            0                     0                1       1      0   \n1960             0                     0                0       0      0   \n20882            0                     0                0       0      0   \n12155            0                     0                1       1      0   \n725              0                     0                0       0      0   \n23304            0                     0                0       0      0   \n1519             0                     0                0       0      0   \n22934            0                     0                1       1      0   \n10108            0                     0                1       0      0   \n21810            0                     0                0       0      0   \n12394            0                     0                1       0      1   \n8755             0                     0                0       0      0   \n1453             0                     0                0       0      0   \n12491            0                     0                1       0      1   \n9905             0                     0                1       0      0   \n14099            0                     0                1       1      1   \n20833            0                     0                0       0      0   \n18143            0                     0                0       0      0   \n4075             0                     0                0       0      0   \n23102            0                     0                0       0      0   \n8831             0                     0                0       0      0   \n5738             0                     0                0       0      0   \n23981            0                     0                0       0      0   \n\n       fire  earthquake  cold  other_weather  direct_report  \n10239     0           1     0              0              0  \n22968     1           0     0              0              0  \n11552     0           0     0              0              0  \n17980     0           0     0              0              0  \n18987     0           0     0              0              0  \n12903     0           0     0              0              0  \n5653      0           0     0              0              1  \n25637     0           0     0              1              0  \n14219     0           0     0              0              1  \n10338     0           1     0              0              0  \n22275     0           0     0              0              0  \n22444     0           0     0              0              0  \n6224      0           0     0              0              0  \n20195     0           0     0              0              0  \n21312     0           0     0              0              0  \n14169     0           0     0              0              1  \n14314     0           0     0              0              0  \n4936      0           0     0              0              0  \n25343     0           0     0              0              0  \n16321     0           0     0              0              0  \n17306     0           0     0              0              0  \n10856     0           0     0              0              0  \n6125      0           0     0              0              1  \n25033     0           0     0              0              0  \n6743      0           0     0              0              0  \n4192      0           0     0              0              0  \n19748     0           0     0              1              0  \n19595     0           0     0              0              0  \n6850      0           0     0              0              0  \n9951      0           1     1              1              0  \n...     ...         ...   ...            ...            ...  \n9921      0           1     0              0              0  \n9717      0           1     0              0              0  \n9658      0           1     0              0              0  \n9196      0           1     0              0              1  \n13673     0           0     0              0              0  \n12498     0           0     0              0              0  \n6632      0           0     0              0              0  \n14221     0           0     0              0              0  \n1960      0           0     0              0              0  \n20882     0           0     0              0              0  \n12155     0           0     0              0              1  \n725       0           0     0              0              1  \n23304     0           0     0              0              0  \n1519      0           0     0              0              1  \n22934     0           0     0              0              0  \n10108     0           1     0              0              0  \n21810     0           0     0              0              0  \n12394     0           0     0              0              1  \n8755      0           0     0              0              0  \n1453      0           0     0              0              0  \n12491     0           0     0              0              0  \n9905      0           1     0              0              0  \n14099     0           0     0              0              0  \n20833     0           0     0              0              0  \n18143     0           0     0              0              0  \n4075      0           0     0              0              1  \n23102     0           0     0              0              0  \n8831      0           0     0              0              0  \n5738      0           0     0              0              0  \n23981     0           0     0              0              0  \n\n[8640 rows x 36 columns], array([[1, 0, 0, ..., 0, 0, 0],\n       [1, 0, 0, ..., 0, 0, 0],\n       [1, 0, 0, ..., 0, 0, 0],\n       ...,\n       [0, 0, 0, ..., 0, 0, 0],\n       [0, 0, 0, ..., 0, 0, 0],\n       [1, 0, 0, ..., 0, 0, 0]]))",
     "output_type": "error",
     "traceback": [
      "\u001b[0;31m---------------------------------------------------------------------------\u001b[0m",
      "\u001b[0;31mValueError\u001b[0m                                Traceback (most recent call last)",
      "\u001b[0;32m<ipython-input-110-5fd5994d6074>\u001b[0m in \u001b[0;36m<module>\u001b[0;34m()\u001b[0m\n\u001b[1;32m      1\u001b[0m \u001b[0mlabels\u001b[0m \u001b[0;34m=\u001b[0m \u001b[0my_test\u001b[0m\u001b[0;34m.\u001b[0m\u001b[0mcolumns\u001b[0m\u001b[0;34m.\u001b[0m\u001b[0mtolist\u001b[0m\u001b[0;34m(\u001b[0m\u001b[0;34m)\u001b[0m\u001b[0;34m\u001b[0m\u001b[0m\n\u001b[0;32m----> 2\u001b[0;31m \u001b[0mconfusion_mat\u001b[0m \u001b[0;34m=\u001b[0m \u001b[0mclassification_report\u001b[0m\u001b[0;34m(\u001b[0m\u001b[0my_test\u001b[0m\u001b[0;34m,\u001b[0m \u001b[0my_pred\u001b[0m\u001b[0;34m)\u001b[0m\u001b[0;31m#, target_names=labels)\u001b[0m\u001b[0;34m\u001b[0m\u001b[0m\n\u001b[0m\u001b[1;32m      3\u001b[0m \u001b[0;31m#accuracy = (y_pred == y_test).mean()\u001b[0m\u001b[0;34m\u001b[0m\u001b[0;34m\u001b[0m\u001b[0m\n\u001b[1;32m      4\u001b[0m \u001b[0;34m\u001b[0m\u001b[0m\n\u001b[1;32m      5\u001b[0m \u001b[0;31m#print(\"Labels:\", labels)\u001b[0m\u001b[0;34m\u001b[0m\u001b[0;34m\u001b[0m\u001b[0m\n",
      "\u001b[0;32m~/anaconda/lib/python3.5/site-packages/sklearn/metrics/classification.py\u001b[0m in \u001b[0;36mclassification_report\u001b[0;34m(y_true, y_pred, labels, target_names, sample_weight, digits)\u001b[0m\n\u001b[1;32m   1419\u001b[0m \u001b[0;34m\u001b[0m\u001b[0m\n\u001b[1;32m   1420\u001b[0m     \u001b[0;32mif\u001b[0m \u001b[0mlabels\u001b[0m \u001b[0;32mis\u001b[0m \u001b[0;32mNone\u001b[0m\u001b[0;34m:\u001b[0m\u001b[0;34m\u001b[0m\u001b[0m\n\u001b[0;32m-> 1421\u001b[0;31m         \u001b[0mlabels\u001b[0m \u001b[0;34m=\u001b[0m \u001b[0munique_labels\u001b[0m\u001b[0;34m(\u001b[0m\u001b[0my_true\u001b[0m\u001b[0;34m,\u001b[0m \u001b[0my_pred\u001b[0m\u001b[0;34m)\u001b[0m\u001b[0;34m\u001b[0m\u001b[0m\n\u001b[0m\u001b[1;32m   1422\u001b[0m     \u001b[0;32melse\u001b[0m\u001b[0;34m:\u001b[0m\u001b[0;34m\u001b[0m\u001b[0m\n\u001b[1;32m   1423\u001b[0m         \u001b[0mlabels\u001b[0m \u001b[0;34m=\u001b[0m \u001b[0mnp\u001b[0m\u001b[0;34m.\u001b[0m\u001b[0masarray\u001b[0m\u001b[0;34m(\u001b[0m\u001b[0mlabels\u001b[0m\u001b[0;34m)\u001b[0m\u001b[0;34m\u001b[0m\u001b[0m\n",
      "\u001b[0;32m~/anaconda/lib/python3.5/site-packages/sklearn/utils/multiclass.py\u001b[0m in \u001b[0;36munique_labels\u001b[0;34m(*ys)\u001b[0m\n\u001b[1;32m     95\u001b[0m     \u001b[0m_unique_labels\u001b[0m \u001b[0;34m=\u001b[0m \u001b[0m_FN_UNIQUE_LABELS\u001b[0m\u001b[0;34m.\u001b[0m\u001b[0mget\u001b[0m\u001b[0;34m(\u001b[0m\u001b[0mlabel_type\u001b[0m\u001b[0;34m,\u001b[0m \u001b[0;32mNone\u001b[0m\u001b[0;34m)\u001b[0m\u001b[0;34m\u001b[0m\u001b[0m\n\u001b[1;32m     96\u001b[0m     \u001b[0;32mif\u001b[0m \u001b[0;32mnot\u001b[0m \u001b[0m_unique_labels\u001b[0m\u001b[0;34m:\u001b[0m\u001b[0;34m\u001b[0m\u001b[0m\n\u001b[0;32m---> 97\u001b[0;31m         \u001b[0;32mraise\u001b[0m \u001b[0mValueError\u001b[0m\u001b[0;34m(\u001b[0m\u001b[0;34m\"Unknown label type: %s\"\u001b[0m \u001b[0;34m%\u001b[0m \u001b[0mrepr\u001b[0m\u001b[0;34m(\u001b[0m\u001b[0mys\u001b[0m\u001b[0;34m)\u001b[0m\u001b[0;34m)\u001b[0m\u001b[0;34m\u001b[0m\u001b[0m\n\u001b[0m\u001b[1;32m     98\u001b[0m \u001b[0;34m\u001b[0m\u001b[0m\n\u001b[1;32m     99\u001b[0m     \u001b[0mys_labels\u001b[0m \u001b[0;34m=\u001b[0m \u001b[0mset\u001b[0m\u001b[0;34m(\u001b[0m\u001b[0mchain\u001b[0m\u001b[0;34m.\u001b[0m\u001b[0mfrom_iterable\u001b[0m\u001b[0;34m(\u001b[0m\u001b[0m_unique_labels\u001b[0m\u001b[0;34m(\u001b[0m\u001b[0my\u001b[0m\u001b[0;34m)\u001b[0m \u001b[0;32mfor\u001b[0m \u001b[0my\u001b[0m \u001b[0;32min\u001b[0m \u001b[0mys\u001b[0m\u001b[0;34m)\u001b[0m\u001b[0;34m)\u001b[0m\u001b[0;34m\u001b[0m\u001b[0m\n",
      "\u001b[0;31mValueError\u001b[0m: Unknown label type: (       related  request  offer  aid_related  medical_help  medical_products  \\\n10239        1        0      0            0             0                 0   \n22968        1        0      0            1             1                 1   \n11552        0        0      0            0             0                 0   \n17980        1        0      0            1             0                 0   \n18987        1        0      0            0             0                 0   \n12903        1        0      0            1             0                 0   \n5653         1        1      0            1             0                 0   \n25637        1        0      0            1             0                 0   \n14219        1        1      0            1             0                 0   \n10338        1        0      0            0             0                 0   \n22275        0        0      0            0             0                 0   \n22444        1        0      0            0             0                 0   \n6224         1        1      0            0             0                 0   \n20195        0        0      0            0             0                 0   \n21312        0        0      0            0             0                 0   \n14169        1        0      0            0             0                 0   \n14314        1        0      0            0             0                 0   \n4936         0        0      0            0             0                 0   \n25343        1        0      0            1             0                 0   \n16321        1        0      0            0             0                 0   \n17306        1        0      0            0             0                 0   \n10856        1        0      0            0             0                 0   \n6125         1        1      0            1             0                 0   \n25033        1        0      0            0             0                 0   \n6743         0        0      0            0             0                 0   \n4192         1        0      0            0             0                 0   \n19748        1        0      0            1             0                 0   \n19595        1        0      0            0             0                 0   \n6850         0        0      0            0             0                 0   \n9951         1        0      0            1             0                 0   \n...        ...      ...    ...          ...           ...               ...   \n9921         1        0      0            0             0                 0   \n9717         1        0      0            0             0                 0   \n9658         1        1      0            1             0                 0   \n9196         1        1      0            1             0                 0   \n13673        1        0      0            0             0                 0   \n12498        0        0      0            0             0                 0   \n6632         1        0      0            0             0                 0   \n14221        1        0      0            0             0                 0   \n1960         0        0      0            0             0                 0   \n20882        1        0      0            1             0                 0   \n12155        1        1      0            1             0                 0   \n725          1        1      0            1             0                 0   \n23304        1        0      0            1             1                 0   \n1519         1        1      0            1             0                 0   \n22934        1        0      0            1             0                 0   \n10108        1        0      0            0             0                 0   \n21810        1        0      0            1             0                 0   \n12394        1        0      0            1             0                 0   \n8755         1        0      0            0             0                 0   \n1453         0        0      0            0             0                 0   \n12491        1        0      0            0             0                 0   \n9905         1        0      0            0             0                 0   \n14099        1        0      0            0             0                 0   \n20833        1        0      0            0             0                 0   \n18143        1        0      0            1             1                 0   \n4075         1        0      0            0             0                 0   \n23102        1        0      0            1             0                 0   \n8831         1        0      0            0             0                 0   \n5738         0        0      0            0             0                 0   \n23981        0        0      0            0             0                 0   \n\n       search_and_rescue  security  military  child_alone      ...        \\\n10239                  0         0         0            0      ...         \n22968                  1         0         1            0      ...         \n11552                  0         0         0            0      ...         \n17980                  0         0         0            0      ...         \n18987                  0         0         0            0      ...         \n12903                  0         0         0            0      ...         \n5653                   0         0         0            0      ...         \n25637                  0         0         1            0      ...         \n14219                  0         0         0            0      ...         \n10338                  0         0         0            0      ...         \n22275                  0         0         0            0      ...         \n22444                  0         0         0            0      ...         \n6224                   0         0         0            0      ...         \n20195                  0         0         0            0      ...         \n21312                  0         0         0            0      ...         \n14169                  0         0         0            0      ...         \n14314                  0         0         0            0      ...         \n4936                   0         0         0            0      ...         \n25343                  0         0         1            0      ...         \n16321                  0         0         0            0      ...         \n17306                  0         0         0            0      ...         \n10856                  0         0         0            0      ...         \n6125                   0         0         0            0      ...         \n25033                  0         0         0            0      ...         \n6743                   0         0         0            0      ...         \n4192                   0         0         0            0      ...         \n19748                  0         0         0            0      ...         \n19595                  0         0         0            0      ...         \n6850                   0         0         0            0      ...         \n9951                   0         0         0            0      ...         \n...                  ...       ...       ...          ...      ...         \n9921                   0         0         0            0      ...         \n9717                   0         0         0            0      ...         \n9658                   0         0         0            0      ...         \n9196                   0         0         0            0      ...         \n13673                  0         0         0            0      ...         \n12498                  0         0         0            0      ...         \n6632                   0         0         0            0      ...         \n14221                  0         0         0            0      ...         \n1960                   0         0         0            0      ...         \n20882                  0         0         0            0      ...         \n12155                  1         0         0            0      ...         \n725                    0         0         0            0      ...         \n23304                  0         0         0            0      ...         \n1519                   0         0         0            0      ...         \n22934                  0         0         0            0      ...         \n10108                  0         0         0            0      ...         \n21810                  0         0         0            0      ...         \n12394                  0         0         0            0      ...         \n8755                   0         0         0            0      ...         \n1453                   0         0         0            0      ...         \n12491                  0         0         0            0      ...         \n9905                   0         0         0            0      ...         \n14099                  0         0         0            0      ...         \n20833                  0         0         0            0      ...         \n18143                  0         0         0            0      ...         \n4075                   0         0         0            0      ...         \n23102                  0         0         0            0      ...         \n8831                   0         0         0            0      ...         \n5738                   0         0         0            0      ...         \n23981                  0         0         0            0      ...         \n\n       aid_centers  other_infrastructure  weather_related  floods  storm  \\\n10239            0                     0                1       0      0   \n22968            0                     1                1       1      0   \n11552            0                     0                0       0      0   \n17980            0                     0                0       0      0   \n18987            0                     0                0       0      0   \n12903            0                     0                1       0      1   \n5653             0                     0                0       0      0   \n25637            0                     0                1       0      0   \n14219            0                     0                0       0      0   \n10338            0                     0                1       0      0   \n22275            0                     0                0       0      0   \n22444            0                     0                0       0      0   \n6224             0                     0                0       0      0   \n20195            0                     0                0       0      0   \n21312            0                     0                0       0      0   \n14169            0                     0                1       0      1   \n14314            0                     0                1       0      1   \n4936             0                     0                0       0      0   \n25343            0                     0                0       0      0   \n16321            0                     0                0       0      0   \n17306            0                     0                0       0      0   \n10856            0                     0                0       0      0   \n6125             0                     0                0       0      0   \n25033            0                     0                0       0      0   \n6743             0                     0                0       0      0   \n4192             0                     0                0       0      0   \n19748            0                     0                1       0      0   \n19595            0                     0                0       0      0   \n6850             0                     0                0       0      0   \n9951             0                     0                1       0      1   \n...            ...                   ...              ...     ...    ...   \n9921             0                     0                1       0      0   \n9717             0                     0                1       0      0   \n9658             0                     0                1       0      0   \n9196             0                     0                1       0      0   \n13673            0                     0                0       0      0   \n12498            0                     0                0       0      0   \n6632             0                     0                1       0      1   \n14221            0                     0                1       1      0   \n1960             0                     0                0       0      0   \n20882            0                     0                0       0      0   \n12155            0                     0                1       1      0   \n725              0                     0                0       0      0   \n23304            0                     0                0       0      0   \n1519             0                     0                0       0      0   \n22934            0                     0                1       1      0   \n10108            0                     0                1       0      0   \n21810            0                     0                0       0      0   \n12394            0                     0                1       0      1   \n8755             0                     0                0       0      0   \n1453             0                     0                0       0      0   \n12491            0                     0                1       0      1   \n9905             0                     0                1       0      0   \n14099            0                     0                1       1      1   \n20833            0                     0                0       0      0   \n18143            0                     0                0       0      0   \n4075             0                     0                0       0      0   \n23102            0                     0                0       0      0   \n8831             0                     0                0       0      0   \n5738             0                     0                0       0      0   \n23981            0                     0                0       0      0   \n\n       fire  earthquake  cold  other_weather  direct_report  \n10239     0           1     0              0              0  \n22968     1           0     0              0              0  \n11552     0           0     0              0              0  \n17980     0           0     0              0              0  \n18987     0           0     0              0              0  \n12903     0           0     0              0              0  \n5653      0           0     0              0              1  \n25637     0           0     0              1              0  \n14219     0           0     0              0              1  \n10338     0           1     0              0              0  \n22275     0           0     0              0              0  \n22444     0           0     0              0              0  \n6224      0           0     0              0              0  \n20195     0           0     0              0              0  \n21312     0           0     0              0              0  \n14169     0           0     0              0              1  \n14314     0           0     0              0              0  \n4936      0           0     0              0              0  \n25343     0           0     0              0              0  \n16321     0           0     0              0              0  \n17306     0           0     0              0              0  \n10856     0           0     0              0              0  \n6125      0           0     0              0              1  \n25033     0           0     0              0              0  \n6743      0           0     0              0              0  \n4192      0           0     0              0              0  \n19748     0           0     0              1              0  \n19595     0           0     0              0              0  \n6850      0           0     0              0              0  \n9951      0           1     1              1              0  \n...     ...         ...   ...            ...            ...  \n9921      0           1     0              0              0  \n9717      0           1     0              0              0  \n9658      0           1     0              0              0  \n9196      0           1     0              0              1  \n13673     0           0     0              0              0  \n12498     0           0     0              0              0  \n6632      0           0     0              0              0  \n14221     0           0     0              0              0  \n1960      0           0     0              0              0  \n20882     0           0     0              0              0  \n12155     0           0     0              0              1  \n725       0           0     0              0              1  \n23304     0           0     0              0              0  \n1519      0           0     0              0              1  \n22934     0           0     0              0              0  \n10108     0           1     0              0              0  \n21810     0           0     0              0              0  \n12394     0           0     0              0              1  \n8755      0           0     0              0              0  \n1453      0           0     0              0              0  \n12491     0           0     0              0              0  \n9905      0           1     0              0              0  \n14099     0           0     0              0              0  \n20833     0           0     0              0              0  \n18143     0           0     0              0              0  \n4075      0           0     0              0              1  \n23102     0           0     0              0              0  \n8831      0           0     0              0              0  \n5738      0           0     0              0              0  \n23981     0           0     0              0              0  \n\n[8640 rows x 36 columns], array([[1, 0, 0, ..., 0, 0, 0],\n       [1, 0, 0, ..., 0, 0, 0],\n       [1, 0, 0, ..., 0, 0, 0],\n       ...,\n       [0, 0, 0, ..., 0, 0, 0],\n       [0, 0, 0, ..., 0, 0, 0],\n       [1, 0, 0, ..., 0, 0, 0]]))"
     ]
    }
   ],
   "source": [
    "labels = y_test.columns.tolist()\n",
    "confusion_mat = classification_report(y_test, y_pred)#, target_names=labels)\n",
    "#accuracy = (y_pred == y_test).mean()\n",
    "\n",
    "#print(\"Labels:\", labels)\n",
    "#print(\"Confusion Matrix:\\n\", confusion_mat)\n",
    "#print(\"Accuracy:\", accuracy)"
   ]
  },
  {
   "cell_type": "code",
   "execution_count": 123,
   "metadata": {},
   "outputs": [
    {
     "name": "stdout",
     "output_type": "stream",
     "text": [
      "label related : precision = 0.81, recall = 0.81, f1 = 0.81\n",
      "label request : precision = 0.89, recall = 0.89, f1 = 0.89\n",
      "label offer : precision = 1.00, recall = 1.00, f1 = 1.00\n",
      "label aid_related : precision = 0.75, recall = 0.75, f1 = 0.75\n",
      "label medical_help : precision = 0.92, recall = 0.92, f1 = 0.92\n",
      "label medical_products : precision = 0.95, recall = 0.95, f1 = 0.95\n",
      "label search_and_rescue : precision = 0.97, recall = 0.97, f1 = 0.97\n",
      "label security : precision = 0.98, recall = 0.98, f1 = 0.98\n",
      "label military : precision = 0.97, recall = 0.97, f1 = 0.97\n",
      "label child_alone : precision = 1.00, recall = 1.00, f1 = 1.00\n",
      "label water : precision = 0.95, recall = 0.95, f1 = 0.95\n",
      "label food : precision = 0.93, recall = 0.93, f1 = 0.93\n",
      "label shelter : precision = 0.93, recall = 0.93, f1 = 0.93\n",
      "label clothing : precision = 0.99, recall = 0.99, f1 = 0.99\n",
      "label money : precision = 0.98, recall = 0.98, f1 = 0.98\n",
      "label missing_people : precision = 0.99, recall = 0.99, f1 = 0.99\n",
      "label refugees : precision = 0.97, recall = 0.97, f1 = 0.97\n",
      "label death : precision = 0.96, recall = 0.96, f1 = 0.96\n",
      "label other_aid : precision = 0.87, recall = 0.87, f1 = 0.87\n",
      "label infrastructure_related : precision = 0.94, recall = 0.94, f1 = 0.94\n",
      "label transport : precision = 0.96, recall = 0.96, f1 = 0.96\n",
      "label buildings : precision = 0.95, recall = 0.95, f1 = 0.95\n",
      "label electricity : precision = 0.98, recall = 0.98, f1 = 0.98\n",
      "label tools : precision = 1.00, recall = 1.00, f1 = 1.00\n",
      "label hospitals : precision = 0.99, recall = 0.99, f1 = 0.99\n",
      "label shops : precision = 1.00, recall = 1.00, f1 = 1.00\n",
      "label aid_centers : precision = 0.99, recall = 0.99, f1 = 0.99\n",
      "label other_infrastructure : precision = 0.96, recall = 0.96, f1 = 0.96\n",
      "label weather_related : precision = 0.86, recall = 0.86, f1 = 0.86\n",
      "label floods : precision = 0.95, recall = 0.95, f1 = 0.95\n",
      "label storm : precision = 0.93, recall = 0.93, f1 = 0.93\n",
      "label fire : precision = 0.99, recall = 0.99, f1 = 0.99\n",
      "label earthquake : precision = 0.96, recall = 0.96, f1 = 0.96\n",
      "label cold : precision = 0.98, recall = 0.98, f1 = 0.98\n",
      "label other_weather : precision = 0.95, recall = 0.95, f1 = 0.95\n",
      "label direct_report : precision = 0.85, recall = 0.85, f1 = 0.85\n"
     ]
    }
   ],
   "source": [
    "from sklearn.metrics import precision_recall_fscore_support\n",
    "\n",
    "for i,label in enumerate(y_test.columns):\n",
    "    prec, recall, f1, _ = precision_recall_fscore_support(y_test[label], y_pred[:,i], average='micro')\n",
    "    print(\"label {} : precision = {:.2f}, recall = {:.2f}, f1 = {:.2f}\".format(label, prec, recall, f1))"
   ]
  },
  {
   "cell_type": "code",
   "execution_count": 129,
   "metadata": {
    "scrolled": true
   },
   "outputs": [
    {
     "name": "stdout",
     "output_type": "stream",
     "text": [
      "label related : precision = 0.81, recall = 0.81, f1 = 0.81\n",
      "label request : precision = 0.89, recall = 0.89, f1 = 0.89\n",
      "label offer : precision = 1.00, recall = 1.00, f1 = 1.00\n",
      "label aid_related : precision = 0.75, recall = 0.75, f1 = 0.75\n",
      "label medical_help : precision = 0.92, recall = 0.92, f1 = 0.92\n",
      "label medical_products : precision = 0.95, recall = 0.95, f1 = 0.95\n",
      "label search_and_rescue : precision = 0.97, recall = 0.97, f1 = 0.97\n",
      "label security : precision = 0.98, recall = 0.98, f1 = 0.98\n",
      "label military : precision = 0.97, recall = 0.97, f1 = 0.97\n",
      "label child_alone : precision = 1.00, recall = 1.00, f1 = 1.00\n",
      "label water : precision = 0.95, recall = 0.95, f1 = 0.95\n",
      "label food : precision = 0.93, recall = 0.93, f1 = 0.93\n",
      "label shelter : precision = 0.93, recall = 0.93, f1 = 0.93\n",
      "label clothing : precision = 0.99, recall = 0.99, f1 = 0.99\n",
      "label money : precision = 0.98, recall = 0.98, f1 = 0.98\n",
      "label missing_people : precision = 0.99, recall = 0.99, f1 = 0.99\n",
      "label refugees : precision = 0.97, recall = 0.97, f1 = 0.97\n",
      "label death : precision = 0.96, recall = 0.96, f1 = 0.96\n",
      "label other_aid : precision = 0.87, recall = 0.87, f1 = 0.87\n",
      "label infrastructure_related : precision = 0.94, recall = 0.94, f1 = 0.94\n",
      "label transport : precision = 0.96, recall = 0.96, f1 = 0.96\n",
      "label buildings : precision = 0.95, recall = 0.95, f1 = 0.95\n",
      "label electricity : precision = 0.98, recall = 0.98, f1 = 0.98\n",
      "label tools : precision = 1.00, recall = 1.00, f1 = 1.00\n",
      "label hospitals : precision = 0.99, recall = 0.99, f1 = 0.99\n",
      "label shops : precision = 1.00, recall = 1.00, f1 = 1.00\n",
      "label aid_centers : precision = 0.99, recall = 0.99, f1 = 0.99\n",
      "label other_infrastructure : precision = 0.96, recall = 0.96, f1 = 0.96\n",
      "label weather_related : precision = 0.86, recall = 0.86, f1 = 0.86\n",
      "label floods : precision = 0.95, recall = 0.95, f1 = 0.95\n",
      "label storm : precision = 0.93, recall = 0.93, f1 = 0.93\n",
      "label fire : precision = 0.99, recall = 0.99, f1 = 0.99\n",
      "label earthquake : precision = 0.96, recall = 0.96, f1 = 0.96\n",
      "label cold : precision = 0.98, recall = 0.98, f1 = 0.98\n",
      "label other_weather : precision = 0.95, recall = 0.95, f1 = 0.95\n",
      "label direct_report : precision = 0.85, recall = 0.85, f1 = 0.85\n"
     ]
    }
   ],
   "source": [
    "report = pd.DataFrame(index = y_test.columns)\n",
    "from sklearn.metrics import f1_score, recall_score, precision_score\n",
    "for i,label in enumerate(y_test.columns):\n",
    "    f_1 = f1_score(y_test[label], y_pred[:,i], average='micro')\n",
    "    rec = recall_score(y_test[label], y_pred[:,i], average='micro')\n",
    "    precision = precision_score(y_test[label], y_pred[:,i], average='micro')\n",
    "    print(\"label {} : precision = {:.2f}, recall = {:.2f}, f1 = {:.2f}\".format(label, precision, rec, f_1))"
   ]
  },
  {
   "cell_type": "code",
   "execution_count": 132,
   "metadata": {},
   "outputs": [
    {
     "name": "stdout",
     "output_type": "stream",
     "text": [
      "label related : ,recall = 0.81, f1 = 0.81\n",
      "label request : ,recall = 0.89, f1 = 0.89\n",
      "label offer : ,recall = 1.00, f1 = 1.00\n",
      "label aid_related : ,recall = 0.75, f1 = 0.75\n",
      "label medical_help : ,recall = 0.92, f1 = 0.92\n",
      "label medical_products : ,recall = 0.95, f1 = 0.95\n",
      "label search_and_rescue : ,recall = 0.97, f1 = 0.97\n",
      "label security : ,recall = 0.98, f1 = 0.98\n",
      "label military : ,recall = 0.97, f1 = 0.97\n",
      "label child_alone : ,recall = 1.00, f1 = 1.00\n",
      "label water : ,recall = 0.95, f1 = 0.95\n",
      "label food : ,recall = 0.93, f1 = 0.93\n",
      "label shelter : ,recall = 0.93, f1 = 0.93\n",
      "label clothing : ,recall = 0.99, f1 = 0.99\n",
      "label money : ,recall = 0.98, f1 = 0.98\n",
      "label missing_people : ,recall = 0.99, f1 = 0.99\n",
      "label refugees : ,recall = 0.97, f1 = 0.97\n",
      "label death : ,recall = 0.96, f1 = 0.96\n",
      "label other_aid : ,recall = 0.87, f1 = 0.87\n",
      "label infrastructure_related : ,recall = 0.94, f1 = 0.94\n",
      "label transport : ,recall = 0.96, f1 = 0.96\n",
      "label buildings : ,recall = 0.95, f1 = 0.95\n",
      "label electricity : ,recall = 0.98, f1 = 0.98\n",
      "label tools : ,recall = 1.00, f1 = 1.00\n",
      "label hospitals : ,recall = 0.99, f1 = 0.99\n",
      "label shops : ,recall = 1.00, f1 = 1.00\n",
      "label aid_centers : ,recall = 0.99, f1 = 0.99\n",
      "label other_infrastructure : ,recall = 0.96, f1 = 0.96\n",
      "label weather_related : ,recall = 0.86, f1 = 0.86\n",
      "label floods : ,recall = 0.95, f1 = 0.95\n",
      "label storm : ,recall = 0.93, f1 = 0.93\n",
      "label fire : ,recall = 0.99, f1 = 0.99\n",
      "label earthquake : ,recall = 0.96, f1 = 0.96\n",
      "label cold : ,recall = 0.98, f1 = 0.98\n",
      "label other_weather : ,recall = 0.95, f1 = 0.95\n",
      "label direct_report : ,recall = 0.85, f1 = 0.85\n"
     ]
    }
   ],
   "source": [
    "report = pd.DataFrame(index = y_test.columns)\n",
    "from sklearn.metrics import f1_score, recall_score, precision_score\n",
    "for i,label in enumerate(y_test.columns):\n",
    "    f_1 = f1_score(y_test[label], y_pred[:,i], average='micro')\n",
    "    rec = recall_score(y_test[label], y_pred[:,i], average='micro')\n",
    "    #precision = precision_score(y_test[label], y_pred[:,i], average='micro')\n",
    "    print(\"label {} : ,recall = {:.2f}, f1 = {:.2f}\".format(label, rec, f_1))"
   ]
  },
  {
   "cell_type": "code",
   "execution_count": 164,
   "metadata": {},
   "outputs": [
    {
     "data": {
      "text/plain": [
       "0.7955196576327143"
      ]
     },
     "execution_count": 164,
     "metadata": {},
     "output_type": "execute_result"
    }
   ],
   "source": [
    "f1_score(y_test.iloc[:,0], y_pred[:,0], average='weighted')\n",
    "    "
   ]
  },
  {
   "cell_type": "code",
   "execution_count": 168,
   "metadata": {},
   "outputs": [
    {
     "ename": "ValueError",
     "evalue": "Target is multiclass but average='binary'. Please choose another average setting.",
     "output_type": "error",
     "traceback": [
      "\u001b[0;31m---------------------------------------------------------------------------\u001b[0m",
      "\u001b[0;31mValueError\u001b[0m                                Traceback (most recent call last)",
      "\u001b[0;32m<ipython-input-168-45f483cba4d5>\u001b[0m in \u001b[0;36m<module>\u001b[0;34m()\u001b[0m\n\u001b[0;32m----> 1\u001b[0;31m \u001b[0mprecision_score\u001b[0m\u001b[0;34m(\u001b[0m\u001b[0my_test\u001b[0m\u001b[0;34m.\u001b[0m\u001b[0miloc\u001b[0m\u001b[0;34m[\u001b[0m\u001b[0;34m:\u001b[0m\u001b[0;34m,\u001b[0m\u001b[0;36m0\u001b[0m\u001b[0;34m]\u001b[0m\u001b[0;34m,\u001b[0m \u001b[0my_pred\u001b[0m\u001b[0;34m[\u001b[0m\u001b[0;34m:\u001b[0m\u001b[0;34m,\u001b[0m\u001b[0;36m0\u001b[0m\u001b[0;34m]\u001b[0m\u001b[0;34m)\u001b[0m\u001b[0;34m\u001b[0m\u001b[0m\n\u001b[0m",
      "\u001b[0;32m~/anaconda/lib/python3.5/site-packages/sklearn/metrics/classification.py\u001b[0m in \u001b[0;36mprecision_score\u001b[0;34m(y_true, y_pred, labels, pos_label, average, sample_weight)\u001b[0m\n\u001b[1;32m   1259\u001b[0m                                                  \u001b[0maverage\u001b[0m\u001b[0;34m=\u001b[0m\u001b[0maverage\u001b[0m\u001b[0;34m,\u001b[0m\u001b[0;34m\u001b[0m\u001b[0m\n\u001b[1;32m   1260\u001b[0m                                                  \u001b[0mwarn_for\u001b[0m\u001b[0;34m=\u001b[0m\u001b[0;34m(\u001b[0m\u001b[0;34m'precision'\u001b[0m\u001b[0;34m,\u001b[0m\u001b[0;34m)\u001b[0m\u001b[0;34m,\u001b[0m\u001b[0;34m\u001b[0m\u001b[0m\n\u001b[0;32m-> 1261\u001b[0;31m                                                  sample_weight=sample_weight)\n\u001b[0m\u001b[1;32m   1262\u001b[0m     \u001b[0;32mreturn\u001b[0m \u001b[0mp\u001b[0m\u001b[0;34m\u001b[0m\u001b[0m\n\u001b[1;32m   1263\u001b[0m \u001b[0;34m\u001b[0m\u001b[0m\n",
      "\u001b[0;32m~/anaconda/lib/python3.5/site-packages/sklearn/metrics/classification.py\u001b[0m in \u001b[0;36mprecision_recall_fscore_support\u001b[0;34m(y_true, y_pred, beta, labels, pos_label, average, warn_for, sample_weight)\u001b[0m\n\u001b[1;32m   1038\u001b[0m         \u001b[0;32melse\u001b[0m\u001b[0;34m:\u001b[0m\u001b[0;34m\u001b[0m\u001b[0m\n\u001b[1;32m   1039\u001b[0m             raise ValueError(\"Target is %s but average='binary'. Please \"\n\u001b[0;32m-> 1040\u001b[0;31m                              \"choose another average setting.\" % y_type)\n\u001b[0m\u001b[1;32m   1041\u001b[0m     \u001b[0;32melif\u001b[0m \u001b[0mpos_label\u001b[0m \u001b[0;32mnot\u001b[0m \u001b[0;32min\u001b[0m \u001b[0;34m(\u001b[0m\u001b[0;32mNone\u001b[0m\u001b[0;34m,\u001b[0m \u001b[0;36m1\u001b[0m\u001b[0;34m)\u001b[0m\u001b[0;34m:\u001b[0m\u001b[0;34m\u001b[0m\u001b[0m\n\u001b[1;32m   1042\u001b[0m         warnings.warn(\"Note that pos_label (set to %r) is ignored when \"\n",
      "\u001b[0;31mValueError\u001b[0m: Target is multiclass but average='binary'. Please choose another average setting."
     ]
    }
   ],
   "source": [
    "precision_score(y_test.iloc[:,0], y_pred[:,0])"
   ]
  },
  {
   "cell_type": "code",
   "execution_count": 171,
   "metadata": {},
   "outputs": [
    {
     "data": {
      "text/plain": [
       "10239    1\n",
       "22968    1\n",
       "11552    0\n",
       "17980    1\n",
       "18987    1\n",
       "12903    1\n",
       "5653     1\n",
       "25637    1\n",
       "14219    1\n",
       "10338    1\n",
       "22275    0\n",
       "22444    1\n",
       "6224     1\n",
       "20195    0\n",
       "21312    0\n",
       "14169    1\n",
       "14314    1\n",
       "4936     0\n",
       "25343    1\n",
       "16321    1\n",
       "17306    1\n",
       "10856    1\n",
       "6125     1\n",
       "25033    1\n",
       "6743     0\n",
       "4192     1\n",
       "19748    1\n",
       "19595    1\n",
       "6850     0\n",
       "9951     1\n",
       "        ..\n",
       "9921     1\n",
       "9717     1\n",
       "9658     1\n",
       "9196     1\n",
       "13673    1\n",
       "12498    0\n",
       "6632     1\n",
       "14221    1\n",
       "1960     0\n",
       "20882    1\n",
       "12155    1\n",
       "725      1\n",
       "23304    1\n",
       "1519     1\n",
       "22934    1\n",
       "10108    1\n",
       "21810    1\n",
       "12394    1\n",
       "8755     1\n",
       "1453     0\n",
       "12491    1\n",
       "9905     1\n",
       "14099    1\n",
       "20833    1\n",
       "18143    1\n",
       "4075     1\n",
       "23102    1\n",
       "8831     1\n",
       "5738     0\n",
       "23981    0\n",
       "Name: related, Length: 8640, dtype: int64"
      ]
     },
     "execution_count": 171,
     "metadata": {},
     "output_type": "execute_result"
    }
   ],
   "source": [
    "y_test.iloc[:,0]"
   ]
  },
  {
   "cell_type": "code",
   "execution_count": 158,
   "metadata": {},
   "outputs": [],
   "source": [
    "acc = (y_test.iloc[:,0] == y_pred[:,0]).sum() / y_test.shape[0]\n",
    "tp = ((y_pred[:,0] == 1) & (y_test.iloc[:,0]==1)).sum()\n",
    "fp = ((y_pred[:,0] == 1) & (y_test.iloc[:,0]==0)).sum()\n",
    "fn = ((y_pred[:,0] == 0) & (y_test.iloc[:,0]==1)).sum()"
   ]
  },
  {
   "cell_type": "code",
   "execution_count": 159,
   "metadata": {},
   "outputs": [],
   "source": [
    "p_m = tp / (tp + fp)\n",
    "r_m = tp / (tp + fn)"
   ]
  },
  {
   "cell_type": "code",
   "execution_count": 160,
   "metadata": {},
   "outputs": [
    {
     "data": {
      "text/plain": [
       "0.8082175925925926"
      ]
     },
     "execution_count": 160,
     "metadata": {},
     "output_type": "execute_result"
    }
   ],
   "source": [
    "acc"
   ]
  },
  {
   "cell_type": "code",
   "execution_count": 161,
   "metadata": {},
   "outputs": [
    {
     "data": {
      "text/plain": [
       "0.8481792717086835"
      ]
     },
     "execution_count": 161,
     "metadata": {},
     "output_type": "execute_result"
    }
   ],
   "source": [
    "p_m"
   ]
  },
  {
   "cell_type": "code",
   "execution_count": 162,
   "metadata": {},
   "outputs": [
    {
     "data": {
      "text/plain": [
       "0.9235931066036297"
      ]
     },
     "execution_count": 162,
     "metadata": {},
     "output_type": "execute_result"
    }
   ],
   "source": [
    "r_m"
   ]
  },
  {
   "cell_type": "code",
   "execution_count": 156,
   "metadata": {},
   "outputs": [
    {
     "data": {
      "text/plain": [
       "0.5524231393965601"
      ]
     },
     "execution_count": 156,
     "metadata": {},
     "output_type": "execute_result"
    }
   ],
   "source": [
    "recall_score(y_test.iloc[:,0], y_pred[:,0], average='macro')"
   ]
  },
  {
   "cell_type": "code",
   "execution_count": 99,
   "metadata": {},
   "outputs": [
    {
     "data": {
      "text/plain": [
       "array([1, 0, 0, 1, 0, 0, 0, 0, 0, 0, 0, 0, 0, 0, 0, 0, 0, 0, 0, 0, 0, 0,\n",
       "       0, 0, 0, 0, 0, 0, 1, 0, 0, 0, 1, 0, 0, 0])"
      ]
     },
     "execution_count": 99,
     "metadata": {},
     "output_type": "execute_result"
    }
   ],
   "source": [
    "y_pred[0]"
   ]
  },
  {
   "cell_type": "code",
   "execution_count": 104,
   "metadata": {},
   "outputs": [
    {
     "data": {
      "text/html": [
       "<div>\n",
       "<style scoped>\n",
       "    .dataframe tbody tr th:only-of-type {\n",
       "        vertical-align: middle;\n",
       "    }\n",
       "\n",
       "    .dataframe tbody tr th {\n",
       "        vertical-align: top;\n",
       "    }\n",
       "\n",
       "    .dataframe thead th {\n",
       "        text-align: right;\n",
       "    }\n",
       "</style>\n",
       "<table border=\"1\" class=\"dataframe\">\n",
       "  <thead>\n",
       "    <tr style=\"text-align: right;\">\n",
       "      <th></th>\n",
       "      <th>related</th>\n",
       "      <th>request</th>\n",
       "      <th>offer</th>\n",
       "      <th>aid_related</th>\n",
       "      <th>medical_help</th>\n",
       "      <th>medical_products</th>\n",
       "      <th>search_and_rescue</th>\n",
       "      <th>security</th>\n",
       "      <th>military</th>\n",
       "      <th>child_alone</th>\n",
       "      <th>...</th>\n",
       "      <th>aid_centers</th>\n",
       "      <th>other_infrastructure</th>\n",
       "      <th>weather_related</th>\n",
       "      <th>floods</th>\n",
       "      <th>storm</th>\n",
       "      <th>fire</th>\n",
       "      <th>earthquake</th>\n",
       "      <th>cold</th>\n",
       "      <th>other_weather</th>\n",
       "      <th>direct_report</th>\n",
       "    </tr>\n",
       "  </thead>\n",
       "  <tbody>\n",
       "    <tr>\n",
       "      <th>10239</th>\n",
       "      <td>1</td>\n",
       "      <td>0</td>\n",
       "      <td>0</td>\n",
       "      <td>0</td>\n",
       "      <td>0</td>\n",
       "      <td>0</td>\n",
       "      <td>0</td>\n",
       "      <td>0</td>\n",
       "      <td>0</td>\n",
       "      <td>0</td>\n",
       "      <td>...</td>\n",
       "      <td>0</td>\n",
       "      <td>0</td>\n",
       "      <td>1</td>\n",
       "      <td>0</td>\n",
       "      <td>0</td>\n",
       "      <td>0</td>\n",
       "      <td>1</td>\n",
       "      <td>0</td>\n",
       "      <td>0</td>\n",
       "      <td>0</td>\n",
       "    </tr>\n",
       "    <tr>\n",
       "      <th>22968</th>\n",
       "      <td>1</td>\n",
       "      <td>0</td>\n",
       "      <td>0</td>\n",
       "      <td>1</td>\n",
       "      <td>1</td>\n",
       "      <td>1</td>\n",
       "      <td>1</td>\n",
       "      <td>0</td>\n",
       "      <td>1</td>\n",
       "      <td>0</td>\n",
       "      <td>...</td>\n",
       "      <td>0</td>\n",
       "      <td>1</td>\n",
       "      <td>1</td>\n",
       "      <td>1</td>\n",
       "      <td>0</td>\n",
       "      <td>1</td>\n",
       "      <td>0</td>\n",
       "      <td>0</td>\n",
       "      <td>0</td>\n",
       "      <td>0</td>\n",
       "    </tr>\n",
       "    <tr>\n",
       "      <th>11552</th>\n",
       "      <td>0</td>\n",
       "      <td>0</td>\n",
       "      <td>0</td>\n",
       "      <td>0</td>\n",
       "      <td>0</td>\n",
       "      <td>0</td>\n",
       "      <td>0</td>\n",
       "      <td>0</td>\n",
       "      <td>0</td>\n",
       "      <td>0</td>\n",
       "      <td>...</td>\n",
       "      <td>0</td>\n",
       "      <td>0</td>\n",
       "      <td>0</td>\n",
       "      <td>0</td>\n",
       "      <td>0</td>\n",
       "      <td>0</td>\n",
       "      <td>0</td>\n",
       "      <td>0</td>\n",
       "      <td>0</td>\n",
       "      <td>0</td>\n",
       "    </tr>\n",
       "    <tr>\n",
       "      <th>17980</th>\n",
       "      <td>1</td>\n",
       "      <td>0</td>\n",
       "      <td>0</td>\n",
       "      <td>1</td>\n",
       "      <td>0</td>\n",
       "      <td>0</td>\n",
       "      <td>0</td>\n",
       "      <td>0</td>\n",
       "      <td>0</td>\n",
       "      <td>0</td>\n",
       "      <td>...</td>\n",
       "      <td>0</td>\n",
       "      <td>0</td>\n",
       "      <td>0</td>\n",
       "      <td>0</td>\n",
       "      <td>0</td>\n",
       "      <td>0</td>\n",
       "      <td>0</td>\n",
       "      <td>0</td>\n",
       "      <td>0</td>\n",
       "      <td>0</td>\n",
       "    </tr>\n",
       "    <tr>\n",
       "      <th>18987</th>\n",
       "      <td>1</td>\n",
       "      <td>0</td>\n",
       "      <td>0</td>\n",
       "      <td>0</td>\n",
       "      <td>0</td>\n",
       "      <td>0</td>\n",
       "      <td>0</td>\n",
       "      <td>0</td>\n",
       "      <td>0</td>\n",
       "      <td>0</td>\n",
       "      <td>...</td>\n",
       "      <td>0</td>\n",
       "      <td>0</td>\n",
       "      <td>0</td>\n",
       "      <td>0</td>\n",
       "      <td>0</td>\n",
       "      <td>0</td>\n",
       "      <td>0</td>\n",
       "      <td>0</td>\n",
       "      <td>0</td>\n",
       "      <td>0</td>\n",
       "    </tr>\n",
       "  </tbody>\n",
       "</table>\n",
       "<p>5 rows × 36 columns</p>\n",
       "</div>"
      ],
      "text/plain": [
       "       related  request  offer  aid_related  medical_help  medical_products  \\\n",
       "10239        1        0      0            0             0                 0   \n",
       "22968        1        0      0            1             1                 1   \n",
       "11552        0        0      0            0             0                 0   \n",
       "17980        1        0      0            1             0                 0   \n",
       "18987        1        0      0            0             0                 0   \n",
       "\n",
       "       search_and_rescue  security  military  child_alone      ...        \\\n",
       "10239                  0         0         0            0      ...         \n",
       "22968                  1         0         1            0      ...         \n",
       "11552                  0         0         0            0      ...         \n",
       "17980                  0         0         0            0      ...         \n",
       "18987                  0         0         0            0      ...         \n",
       "\n",
       "       aid_centers  other_infrastructure  weather_related  floods  storm  \\\n",
       "10239            0                     0                1       0      0   \n",
       "22968            0                     1                1       1      0   \n",
       "11552            0                     0                0       0      0   \n",
       "17980            0                     0                0       0      0   \n",
       "18987            0                     0                0       0      0   \n",
       "\n",
       "       fire  earthquake  cold  other_weather  direct_report  \n",
       "10239     0           1     0              0              0  \n",
       "22968     1           0     0              0              0  \n",
       "11552     0           0     0              0              0  \n",
       "17980     0           0     0              0              0  \n",
       "18987     0           0     0              0              0  \n",
       "\n",
       "[5 rows x 36 columns]"
      ]
     },
     "execution_count": 104,
     "metadata": {},
     "output_type": "execute_result"
    }
   ],
   "source": [
    "y_test.head()"
   ]
  },
  {
   "cell_type": "markdown",
   "metadata": {},
   "source": [
    "### 6. Improve your model\n",
    "Use grid search to find better parameters. "
   ]
  },
  {
   "cell_type": "code",
   "execution_count": null,
   "metadata": {},
   "outputs": [],
   "source": [
    "parameters = \n",
    "\n",
    "cv = "
   ]
  },
  {
   "cell_type": "markdown",
   "metadata": {},
   "source": [
    "### 7. Test your model\n",
    "Show the accuracy, precision, and recall of the tuned model."
   ]
  },
  {
   "cell_type": "code",
   "execution_count": null,
   "metadata": {},
   "outputs": [],
   "source": []
  },
  {
   "cell_type": "markdown",
   "metadata": {},
   "source": [
    "### 8. Try improving your model further. Here are a few ideas:\n",
    "* try other machine learning algorithms\n",
    "* add other features besides the TF-IDF"
   ]
  },
  {
   "cell_type": "code",
   "execution_count": null,
   "metadata": {},
   "outputs": [],
   "source": []
  },
  {
   "cell_type": "markdown",
   "metadata": {},
   "source": [
    "### 9. Export your model as a pickle file"
   ]
  },
  {
   "cell_type": "code",
   "execution_count": null,
   "metadata": {},
   "outputs": [],
   "source": []
  },
  {
   "cell_type": "markdown",
   "metadata": {},
   "source": [
    "### 10. Use this notebook to complete `train.py`\n",
    "Use the template file attached in the Resources folder to write a script that runs the steps above to create a database and export a model based on a new dataset specified by the user."
   ]
  },
  {
   "cell_type": "code",
   "execution_count": null,
   "metadata": {},
   "outputs": [],
   "source": []
  }
 ],
 "metadata": {
  "kernelspec": {
   "display_name": "Python [default]",
   "language": "python",
   "name": "python3"
  },
  "language_info": {
   "codemirror_mode": {
    "name": "ipython",
    "version": 3
   },
   "file_extension": ".py",
   "mimetype": "text/x-python",
   "name": "python",
   "nbconvert_exporter": "python",
   "pygments_lexer": "ipython3",
   "version": "3.5.5"
  }
 },
 "nbformat": 4,
 "nbformat_minor": 2
}
